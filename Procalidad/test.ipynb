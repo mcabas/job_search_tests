{
 "cells": [
  {
   "attachments": {},
   "cell_type": "markdown",
   "metadata": {},
   "source": [
    "# Procalidad Analitica Test"
   ]
  },
  {
   "cell_type": "code",
   "execution_count": 24,
   "metadata": {},
   "outputs": [
    {
     "name": "stdout",
     "output_type": "stream",
     "text": [
      "24 21\n"
     ]
    }
   ],
   "source": [
    "N = 10\n",
    "M = 5\n",
    "\n",
    "pares = 0\n",
    "impares = 0\n",
    "\n",
    "for i in range(M,N+1):\n",
    "    if i % 2 == 0:\n",
    "        pares += i\n",
    "    else: \n",
    "        impares += i\n",
    "\n",
    "print(pares,impares)\n"
   ]
  },
  {
   "attachments": {},
   "cell_type": "markdown",
   "metadata": {},
   "source": [
    "Definir las funciones para el promedio, la media y la mediana"
   ]
  },
  {
   "cell_type": "code",
   "execution_count": 53,
   "metadata": {},
   "outputs": [
    {
     "name": "stdout",
     "output_type": "stream",
     "text": [
      "9.9\n"
     ]
    }
   ],
   "source": [
    "A = [10,4,6,3,5,4,1,63,-5,8]\n",
    "\n",
    "def media1(l):\n",
    "    output = 0\n",
    "    for i in l:\n",
    "        output += i / len(l)\n",
    "    print(output)\n",
    "\n",
    "media1(A)\n"
   ]
  },
  {
   "cell_type": "code",
   "execution_count": 52,
   "metadata": {},
   "outputs": [],
   "source": [
    "def media(l):\n",
    "    n = len(l)\n",
    "    if n == 0:\n",
    "        return None\n",
    "    suma = 0\n",
    "    for i in l:\n",
    "        suma += i\n",
    "    return float(suma) / n"
   ]
  },
  {
   "cell_type": "code",
   "execution_count": 54,
   "metadata": {},
   "outputs": [],
   "source": [
    "def mediana(l):\n",
    "    n = len(l)\n",
    "    if n == 0:\n",
    "        return None\n",
    "    l_ordenada = sorted(l)\n",
    "    if n % 2 == 0:\n",
    "        return (l_ordenada[n // 2 - 1] + l_ordenada[n // 2]) / 2.0\n",
    "    else:\n",
    "        return l_ordenada[n // 2]"
   ]
  },
  {
   "cell_type": "code",
   "execution_count": 55,
   "metadata": {},
   "outputs": [],
   "source": [
    "def moda(l):\n",
    "    n = len(l)\n",
    "    if n == 0:\n",
    "        return None\n",
    "    count = {}\n",
    "    for i in l:\n",
    "        if i in count:\n",
    "            count[i] += 1\n",
    "        else:\n",
    "            count[i] = 1\n",
    "    max_count = max(count.values())\n",
    "    modes = [k for k, v in count.items() if v == max_count]\n",
    "    if len(modes) == 1:\n",
    "        return modes[0]\n",
    "    else:\n",
    "        return modes"
   ]
  },
  {
   "cell_type": "code",
   "execution_count": 65,
   "metadata": {},
   "outputs": [
    {
     "name": "stdout",
     "output_type": "stream",
     "text": [
      "Media: 9.9\n",
      "Mediana: 4.5\n",
      "Moda: 4\n",
      "Media B: 14.9\n",
      "Mediana B: 13.5\n",
      "Moda B: 14\n"
     ]
    }
   ],
   "source": [
    "A = [10,4,6,3,5,4,1,63,-5,8]\n",
    "\n",
    "B = [10,14,16,13,15,14,1,63,-5,8]\n",
    "\n",
    "print(\"Media:\", media(A))\n",
    "print(\"Mediana:\", mediana(A))\n",
    "print(\"Moda:\", moda(A))\n",
    "\n",
    "print(\"Media B:\", media(B))\n",
    "print(\"Mediana B:\", mediana(B))\n",
    "print(\"Moda B:\", moda(B))"
   ]
  }
 ],
 "metadata": {
  "kernelspec": {
   "display_name": "Python 3",
   "language": "python",
   "name": "python3"
  },
  "language_info": {
   "codemirror_mode": {
    "name": "ipython",
    "version": 3
   },
   "file_extension": ".py",
   "mimetype": "text/x-python",
   "name": "python",
   "nbconvert_exporter": "python",
   "pygments_lexer": "ipython3",
   "version": "3.10.0"
  },
  "orig_nbformat": 4
 },
 "nbformat": 4,
 "nbformat_minor": 2
}
