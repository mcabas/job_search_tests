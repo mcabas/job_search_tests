{
 "cells": [
  {
   "cell_type": "code",
   "execution_count": null,
   "metadata": {
    "vscode": {
     "languageId": "plaintext"
    }
   },
   "outputs": [],
   "source": [
    "ML "
   ]
  },
  {
   "cell_type": "markdown",
   "metadata": {},
   "source": [
    "import pandas as pd\n",
    "from sklearn.linear_model import LinearRegression\n",
    "\n",
    "# Datos históricos\n",
    "data = {\n",
    "    'clientes': [1000, 1200, 1500, 1800],\n",
    "    'churn_rate': [0.10, 0.09, 0.08, 0.07],\n",
    "    'mrr': [10000, 12000, 15000, 18000]\n",
    "}\n",
    "df = pd.DataFrame(data)\n",
    "\n",
    "# Modelo de regresión lineal\n",
    "X = df[['clientes', 'churn_rate']]\n",
    "y = df['mrr']\n",
    "model = LinearRegression()\n",
    "model.fit(X, y)\n",
    "\n",
    "# Predicción para el próximo mes\n",
    "nuevos_clientes = 2000\n",
    "nuevo_churn = 0.06\n",
    "prediccion_mrr = model.predict([[nuevos_clientes, nuevo_churn]])\n",
    "print(f\"MRR predicho: {prediccion_mrr[0]:.2f}\")"
   ]
  }
 ],
 "metadata": {
  "language_info": {
   "name": "python"
  }
 },
 "nbformat": 4,
 "nbformat_minor": 2
}
