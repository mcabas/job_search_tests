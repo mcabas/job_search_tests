{
 "cells": [
  {
   "cell_type": "code",
   "execution_count": 1,
   "metadata": {},
   "outputs": [
    {
     "name": "stdout",
     "output_type": "stream",
     "text": [
      "Indian Institute of Technology Bombay (IITB)\n",
      "University of Oxford\n",
      "\n"
     ]
    }
   ],
   "source": [
    "import requests\n",
    "\n",
    "def best_university_by_country(country: str) -> str:\n",
    "    base_url = \"https://jsonmock.hackerrank.com/api/universities\"\n",
    "    page = 1\n",
    "    best_university = \"\"\n",
    "    best_rank = float('inf')  # Set initial rank to a very large number\n",
    "\n",
    "    while True:\n",
    "        response = requests.get(f\"{base_url}?page={page}\")\n",
    "        if response.status_code != 200:\n",
    "            return \"\"  # API error handling\n",
    "        \n",
    "        data = response.json()\n",
    "        universities = data.get(\"data\", [])\n",
    "\n",
    "        for uni in universities:\n",
    "            if uni.get(\"location\", {}).get(\"country\") == country:\n",
    "                rank_display = uni.get(\"rank_display\", \"\")\n",
    "                \n",
    "                # Convert rank to an integer for proper sorting\n",
    "                try:\n",
    "                    rank = int(rank_display)\n",
    "                except ValueError:\n",
    "                    continue  # Skip if rank is not a number\n",
    "                \n",
    "                if rank < best_rank:\n",
    "                    best_rank = rank\n",
    "                    best_university = uni.get(\"university\", \"\")\n",
    "\n",
    "        if page >= data.get(\"total_pages\", 1):\n",
    "            break  # Stop when we've checked all pages\n",
    "        page += 1  # Move to the next page\n",
    "\n",
    "    return best_university  # Return the best university or an empty string\n",
    "\n",
    "# Example Usage:\n",
    "print(best_university_by_country(\"India\"))  # Expected Output: \"Indian Institute of Technology Bombay\"\n",
    "print(best_university_by_country(\"United Kingdom\"))  # Expected Output: \"University of Oxford\"\n",
    "print(best_university_by_country(\"Nonexistent Country\"))  # Expected Output: \"\""
   ]
  },
  {
   "cell_type": "code",
   "execution_count": 4,
   "metadata": {},
   "outputs": [
    {
     "name": "stdout",
     "output_type": "stream",
     "text": [
      "EXADDNPLTEXT\n"
     ]
    }
   ],
   "source": [
    "def leet_decoder(leet_text):\n",
    "    # Leet character mapping\n",
    "    leet_map = {\n",
    "        '0': 'O', '2': 'C', '3': 'E', '7': 'L', '-H': '#', '@': 'A', '$': 'S'\n",
    "    }\n",
    "    \n",
    "    words = leet_text.split()  # Split text into words\n",
    "    decoded_words = []\n",
    "    \n",
    "    for word in words:\n",
    "        # Check if the word contains a mix of letters and symbols (considered leet)\n",
    "        if any(c.isalpha() for c in word) and any(c in leet_map for c in word):\n",
    "            # Replace leet characters\n",
    "            for key, value in leet_map.items():\n",
    "                word = word.replace(key, value)\n",
    "        \n",
    "        decoded_words.append(word.upper())  # Convert to uppercase\n",
    "    \n",
    "    return \" \".join(decoded_words)\n",
    "\n",
    "# Example usage\n",
    "leet_text = \"3x@ddnp7t3xt\"\n",
    "decoded = leet_decoder(leet_text)\n",
    "print(decoded)  # Expected Output: \"EXAMPLE TEXT\""
   ]
  },
  {
   "cell_type": "code",
   "execution_count": 5,
   "metadata": {},
   "outputs": [
    {
     "name": "stdout",
     "output_type": "stream",
     "text": [
      "1\n",
      "2\n",
      "Fizz\n",
      "4\n",
      "Buzz\n",
      "Fizz\n",
      "7\n",
      "8\n",
      "Fizz\n",
      "Buzz\n",
      "11\n",
      "Fizz\n",
      "13\n",
      "14\n",
      "FizzBuzz\n"
     ]
    }
   ],
   "source": [
    "def FizzBuzz(n):\n",
    "    for e in range(1, n + 1):  # Iterate from 1 to n (inclusive)\n",
    "        if e % 3 == 0 and e % 5 == 0:\n",
    "            print(\"FizzBuzz\")\n",
    "        elif e % 3 == 0:\n",
    "            print(\"Fizz\")\n",
    "        elif e % 5 == 0:\n",
    "            print(\"Buzz\")\n",
    "        else:\n",
    "            print(e)\n",
    "\n",
    "# Example usage\n",
    "FizzBuzz(15)"
   ]
  },
  {
   "cell_type": "code",
   "execution_count": 6,
   "metadata": {},
   "outputs": [
    {
     "name": "stdout",
     "output_type": "stream",
     "text": [
      "2\n"
     ]
    }
   ],
   "source": [
    "def threeSumClosest(nums, target):\n",
    "    nums.sort()  # Sort the array first\n",
    "    closest_sum = float('inf')  # Initialize with a large value\n",
    "\n",
    "    for i in range(len(nums) - 2):  # Iterate through each number\n",
    "        left, right = i + 1, len(nums) - 1  # Two pointers\n",
    "\n",
    "        while left < right:\n",
    "            current_sum = nums[i] + nums[left] + nums[right]\n",
    "\n",
    "            # Update the closest sum if the current sum is closer to target\n",
    "            if abs(target - current_sum) < abs(target - closest_sum):\n",
    "                closest_sum = current_sum\n",
    "\n",
    "            # Move pointers based on sum comparison\n",
    "            if current_sum < target:\n",
    "                left += 1  # Increase left pointer to get a larger sum\n",
    "            elif current_sum > target:\n",
    "                right -= 1  # Decrease right pointer to get a smaller sum\n",
    "            else:\n",
    "                return current_sum  # Exact match found\n",
    "\n",
    "    return closest_sum  # Return the closest sum found\n",
    "\n",
    "# Example usage\n",
    "nums = [-1, 2, 1, -4]\n",
    "target = 1\n",
    "print(threeSumClosest(nums, target))  # Output: 2"
   ]
  }
 ],
 "metadata": {
  "kernelspec": {
   "display_name": "Python 3",
   "language": "python",
   "name": "python3"
  },
  "language_info": {
   "codemirror_mode": {
    "name": "ipython",
    "version": 3
   },
   "file_extension": ".py",
   "mimetype": "text/x-python",
   "name": "python",
   "nbconvert_exporter": "python",
   "pygments_lexer": "ipython3",
   "version": "3.10.0"
  }
 },
 "nbformat": 4,
 "nbformat_minor": 2
}
