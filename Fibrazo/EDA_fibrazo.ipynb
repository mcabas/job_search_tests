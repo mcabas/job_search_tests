{
 "cells": [
  {
   "cell_type": "markdown",
   "metadata": {},
   "source": [
    "## Step 1. Importing data"
   ]
  },
  {
   "cell_type": "code",
   "execution_count": 64,
   "metadata": {},
   "outputs": [
    {
     "name": "stdout",
     "output_type": "stream",
     "text": [
      "      id  gaiia_id         status gaiia_status          City          name  \\\n",
      "0  54213   57771.0  Instalaciones       ACTIVE  Barranquilla  SANTODOMINGO   \n",
      "1  69104   71312.0  Instalaciones       ACTIVE  Barranquilla      CARRIZAL   \n",
      "2  16311   24969.0  Instalaciones    SUSPENDED     Cartagena    VILLA ROSA   \n",
      "3  68472   70721.0  Instalaciones       ACTIVE  Barranquilla   SANTA MARIA   \n",
      "4  15285   24147.0  Instalaciones       ACTIVE     Cartagena    VILLA ROSA   \n",
      "\n",
      "                created_at  \n",
      "0  2025-01-14 12:10:45.000  \n",
      "1  2025-03-12 17:00:00.000  \n",
      "2  2024-06-06 14:51:15.000  \n",
      "3  2025-03-10 17:00:00.000  \n",
      "4  2024-05-27 21:21:40.000  \n"
     ]
    }
   ],
   "source": [
    "# read_csv function\n",
    "\n",
    "import os\n",
    "import pandas as pd\n",
    "folder_name = 'Fibrazo'\n",
    "dir = r'C:\\Users\\mcaba\\OneDrive\\Escritorio\\Data Science\\Company test\\Company-test\\{}'.format(folder_name)\n",
    "\n",
    "def read_csv_fun(folder_name,file_name, path):\n",
    "    path = dir\n",
    "    os.chdir(path)\n",
    "    df = pd.read_csv('{}.csv'.format(file_name), sep=',', low_memory=False, on_bad_lines='skip')\n",
    "    return df\n",
    "\n",
    "df_clients = read_csv_fun('Fibrazo','clients', dir)\n",
    "print(df_clients.head(5))"
   ]
  },
  {
   "cell_type": "code",
   "execution_count": 65,
   "metadata": {},
   "outputs": [
    {
     "name": "stdout",
     "output_type": "stream",
     "text": [
      "   gaiia_id                     date          status\n",
      "0     15332  2023-07-31 05:24:36.783       SUSPENDED\n",
      "1     17155  2023-07-31 05:24:37.897  SUSPENDED-LEAD\n",
      "2     16629  2023-07-31 05:24:38.540  SUSPENDED-LEAD\n",
      "3     16987  2023-07-31 05:24:39.609       SUSPENDED\n",
      "4     16609  2023-07-31 05:24:40.071       SUSPENDED\n",
      "      id               created_at  client_id payment_gateway\n",
      "0  14183  2024-05-01 00:04:24.000       5688           NEQUI\n",
      "1  14190  2024-05-01 00:07:08.000       8628           NEQUI\n",
      "2  14180  2024-05-01 00:13:57.000      11289     SUPER_GIROS\n",
      "3  14184  2024-05-01 00:24:50.000       6757     SUPER_GIROS\n",
      "4  14185  2024-05-01 00:26:05.000       7607     SUPER_GIROS\n"
     ]
    }
   ],
   "source": [
    "df_client_journey = read_csv_fun('Fibrazo','client_journey', dir)\n",
    "print(df_client_journey.head(5))\n",
    "\n",
    "df_invoices = read_csv_fun('Fibrazo','invoices', dir)\n",
    "print(df_invoices.head(5))"
   ]
  },
  {
   "cell_type": "markdown",
   "metadata": {},
   "source": [
    "## Step 2. Glimpse on the data"
   ]
  },
  {
   "cell_type": "code",
   "execution_count": 66,
   "metadata": {},
   "outputs": [
    {
     "data": {
      "text/html": [
       "<div>\n",
       "<style scoped>\n",
       "    .dataframe tbody tr th:only-of-type {\n",
       "        vertical-align: middle;\n",
       "    }\n",
       "\n",
       "    .dataframe tbody tr th {\n",
       "        vertical-align: top;\n",
       "    }\n",
       "\n",
       "    .dataframe thead th {\n",
       "        text-align: right;\n",
       "    }\n",
       "</style>\n",
       "<table border=\"1\" class=\"dataframe\">\n",
       "  <thead>\n",
       "    <tr style=\"text-align: right;\">\n",
       "      <th></th>\n",
       "      <th>id</th>\n",
       "      <th>gaiia_id</th>\n",
       "      <th>status</th>\n",
       "      <th>gaiia_status</th>\n",
       "      <th>City</th>\n",
       "      <th>name</th>\n",
       "      <th>created_at</th>\n",
       "    </tr>\n",
       "  </thead>\n",
       "  <tbody>\n",
       "    <tr>\n",
       "      <th>0</th>\n",
       "      <td>54213</td>\n",
       "      <td>57771.0</td>\n",
       "      <td>Instalaciones</td>\n",
       "      <td>ACTIVE</td>\n",
       "      <td>Barranquilla</td>\n",
       "      <td>SANTODOMINGO</td>\n",
       "      <td>2025-01-14 12:10:45.000</td>\n",
       "    </tr>\n",
       "    <tr>\n",
       "      <th>1</th>\n",
       "      <td>69104</td>\n",
       "      <td>71312.0</td>\n",
       "      <td>Instalaciones</td>\n",
       "      <td>ACTIVE</td>\n",
       "      <td>Barranquilla</td>\n",
       "      <td>CARRIZAL</td>\n",
       "      <td>2025-03-12 17:00:00.000</td>\n",
       "    </tr>\n",
       "    <tr>\n",
       "      <th>2</th>\n",
       "      <td>16311</td>\n",
       "      <td>24969.0</td>\n",
       "      <td>Instalaciones</td>\n",
       "      <td>SUSPENDED</td>\n",
       "      <td>Cartagena</td>\n",
       "      <td>VILLA ROSA</td>\n",
       "      <td>2024-06-06 14:51:15.000</td>\n",
       "    </tr>\n",
       "    <tr>\n",
       "      <th>3</th>\n",
       "      <td>68472</td>\n",
       "      <td>70721.0</td>\n",
       "      <td>Instalaciones</td>\n",
       "      <td>ACTIVE</td>\n",
       "      <td>Barranquilla</td>\n",
       "      <td>SANTA MARIA</td>\n",
       "      <td>2025-03-10 17:00:00.000</td>\n",
       "    </tr>\n",
       "    <tr>\n",
       "      <th>4</th>\n",
       "      <td>15285</td>\n",
       "      <td>24147.0</td>\n",
       "      <td>Instalaciones</td>\n",
       "      <td>ACTIVE</td>\n",
       "      <td>Cartagena</td>\n",
       "      <td>VILLA ROSA</td>\n",
       "      <td>2024-05-27 21:21:40.000</td>\n",
       "    </tr>\n",
       "  </tbody>\n",
       "</table>\n",
       "</div>"
      ],
      "text/plain": [
       "      id  gaiia_id         status gaiia_status          City          name  \\\n",
       "0  54213   57771.0  Instalaciones       ACTIVE  Barranquilla  SANTODOMINGO   \n",
       "1  69104   71312.0  Instalaciones       ACTIVE  Barranquilla      CARRIZAL   \n",
       "2  16311   24969.0  Instalaciones    SUSPENDED     Cartagena    VILLA ROSA   \n",
       "3  68472   70721.0  Instalaciones       ACTIVE  Barranquilla   SANTA MARIA   \n",
       "4  15285   24147.0  Instalaciones       ACTIVE     Cartagena    VILLA ROSA   \n",
       "\n",
       "                created_at  \n",
       "0  2025-01-14 12:10:45.000  \n",
       "1  2025-03-12 17:00:00.000  \n",
       "2  2024-06-06 14:51:15.000  \n",
       "3  2025-03-10 17:00:00.000  \n",
       "4  2024-05-27 21:21:40.000  "
      ]
     },
     "metadata": {},
     "output_type": "display_data"
    },
    {
     "name": "stdout",
     "output_type": "stream",
     "text": [
      "id              0\n",
      "gaiia_id        1\n",
      "status          0\n",
      "gaiia_status    0\n",
      "City            0\n",
      "name            0\n",
      "created_at      0\n",
      "dtype: int64\n"
     ]
    },
    {
     "data": {
      "text/plain": [
       "None"
      ]
     },
     "metadata": {},
     "output_type": "display_data"
    },
    {
     "name": "stdout",
     "output_type": "stream",
     "text": [
      "48591\n"
     ]
    },
    {
     "data": {
      "text/plain": [
       "None"
      ]
     },
     "metadata": {},
     "output_type": "display_data"
    },
    {
     "name": "stdout",
     "output_type": "stream",
     "text": [
      "<class 'pandas.core.frame.DataFrame'>\n",
      "RangeIndex: 48591 entries, 0 to 48590\n",
      "Data columns (total 7 columns):\n",
      " #   Column        Non-Null Count  Dtype  \n",
      "---  ------        --------------  -----  \n",
      " 0   id            48591 non-null  int64  \n",
      " 1   gaiia_id      48590 non-null  float64\n",
      " 2   status        48591 non-null  object \n",
      " 3   gaiia_status  48591 non-null  object \n",
      " 4   City          48591 non-null  object \n",
      " 5   name          48591 non-null  object \n",
      " 6   created_at    48591 non-null  object \n",
      "dtypes: float64(1), int64(1), object(5)\n",
      "memory usage: 2.6+ MB\n"
     ]
    },
    {
     "data": {
      "text/plain": [
       "None"
      ]
     },
     "metadata": {},
     "output_type": "display_data"
    },
    {
     "data": {
      "text/plain": [
       "status\n",
       "Instalaciones    48298\n",
       "Ventas             293\n",
       "dtype: int64"
      ]
     },
     "metadata": {},
     "output_type": "display_data"
    },
    {
     "data": {
      "text/plain": [
       "gaiia_status\n",
       "ACTIVE       30012\n",
       "SUSPENDED    12109\n",
       "INACTIVE      6118\n",
       "PENDING        352\n",
       "dtype: int64"
      ]
     },
     "metadata": {},
     "output_type": "display_data"
    },
    {
     "data": {
      "text/plain": [
       "City\n",
       "Cartagena       36771\n",
       "Barranquilla    11820\n",
       "dtype: int64"
      ]
     },
     "metadata": {},
     "output_type": "display_data"
    }
   ],
   "source": [
    "display(\n",
    "    df_clients.head(5)\n",
    ")\n",
    "\n",
    "display(\n",
    "    print(df_clients.isna().sum())\n",
    "    )\n",
    "\n",
    "display(\n",
    "    print(len(df_clients))\n",
    "    )\n",
    "\n",
    "display(\n",
    "    df_clients.info()\n",
    ")\n",
    "\n",
    "display(\n",
    "    df_clients.value_counts(\"status\")\n",
    ")\n",
    "\n",
    "display(\n",
    "    df_clients.value_counts(\"gaiia_status\")\n",
    ")\n",
    "\n",
    "display(\n",
    "    df_clients.value_counts(\"City\")\n",
    ")\n",
    "\n",
    "# we have 1 missing gaiia_id on the dataframe\n",
    "# some columns need to be converted to other Data type for analysis. Ej: created_at      \n"
   ]
  },
  {
   "cell_type": "code",
   "execution_count": 67,
   "metadata": {},
   "outputs": [
    {
     "name": "stdout",
     "output_type": "stream",
     "text": [
      "Is `id` unique? True\n",
      "Does `id` have null values? False\n",
      "Is `id` incremental? True\n",
      "\n",
      "No duplicate `id` values found.\n"
     ]
    }
   ],
   "source": [
    "## Is id a primary key?\n",
    "\n",
    "df_clients = df_clients.sort_values(by=\"id\", ascending=True)\n",
    "\n",
    "# Check 1: Uniqueness of `id`\n",
    "is_unique = df_clients[\"id\"].is_unique\n",
    "print(f\"Is `id` unique? {is_unique}\")\n",
    "\n",
    "# Check 2: Non-Null Values in `id`\n",
    "has_nulls = df_clients[\"id\"].isnull().any()\n",
    "print(f\"Does `id` have null values? {has_nulls}\")\n",
    "\n",
    "# Check 3: Incremental Values in `id`\n",
    "is_incremental = df_clients[\"id\"].is_monotonic_increasing\n",
    "print(f\"Is `id` incremental? {is_incremental}\")\n",
    "\n",
    "# Check for Duplicates in `id`\n",
    "duplicates = df_clients[df_clients.duplicated(\"id\", keep=False)]\n",
    "if not duplicates.empty:\n",
    "    print(\"\\nDuplicate `id` values found:\")\n",
    "    display(duplicates)\n",
    "else:\n",
    "    print(\"\\nNo duplicate `id` values found.\")"
   ]
  },
  {
   "cell_type": "code",
   "execution_count": 68,
   "metadata": {},
   "outputs": [
    {
     "data": {
      "text/html": [
       "<div>\n",
       "<style scoped>\n",
       "    .dataframe tbody tr th:only-of-type {\n",
       "        vertical-align: middle;\n",
       "    }\n",
       "\n",
       "    .dataframe tbody tr th {\n",
       "        vertical-align: top;\n",
       "    }\n",
       "\n",
       "    .dataframe thead th {\n",
       "        text-align: right;\n",
       "    }\n",
       "</style>\n",
       "<table border=\"1\" class=\"dataframe\">\n",
       "  <thead>\n",
       "    <tr style=\"text-align: right;\">\n",
       "      <th></th>\n",
       "      <th>gaiia_id</th>\n",
       "      <th>date</th>\n",
       "      <th>status</th>\n",
       "    </tr>\n",
       "  </thead>\n",
       "  <tbody>\n",
       "    <tr>\n",
       "      <th>0</th>\n",
       "      <td>15332</td>\n",
       "      <td>2023-07-31 05:24:36.783</td>\n",
       "      <td>SUSPENDED</td>\n",
       "    </tr>\n",
       "    <tr>\n",
       "      <th>1</th>\n",
       "      <td>17155</td>\n",
       "      <td>2023-07-31 05:24:37.897</td>\n",
       "      <td>SUSPENDED-LEAD</td>\n",
       "    </tr>\n",
       "    <tr>\n",
       "      <th>2</th>\n",
       "      <td>16629</td>\n",
       "      <td>2023-07-31 05:24:38.540</td>\n",
       "      <td>SUSPENDED-LEAD</td>\n",
       "    </tr>\n",
       "    <tr>\n",
       "      <th>3</th>\n",
       "      <td>16987</td>\n",
       "      <td>2023-07-31 05:24:39.609</td>\n",
       "      <td>SUSPENDED</td>\n",
       "    </tr>\n",
       "    <tr>\n",
       "      <th>4</th>\n",
       "      <td>16609</td>\n",
       "      <td>2023-07-31 05:24:40.071</td>\n",
       "      <td>SUSPENDED</td>\n",
       "    </tr>\n",
       "  </tbody>\n",
       "</table>\n",
       "</div>"
      ],
      "text/plain": [
       "   gaiia_id                     date          status\n",
       "0     15332  2023-07-31 05:24:36.783       SUSPENDED\n",
       "1     17155  2023-07-31 05:24:37.897  SUSPENDED-LEAD\n",
       "2     16629  2023-07-31 05:24:38.540  SUSPENDED-LEAD\n",
       "3     16987  2023-07-31 05:24:39.609       SUSPENDED\n",
       "4     16609  2023-07-31 05:24:40.071       SUSPENDED"
      ]
     },
     "metadata": {},
     "output_type": "display_data"
    },
    {
     "name": "stdout",
     "output_type": "stream",
     "text": [
      "gaiia_id    0\n",
      "date        0\n",
      "status      0\n",
      "dtype: int64\n"
     ]
    },
    {
     "data": {
      "text/plain": [
       "None"
      ]
     },
     "metadata": {},
     "output_type": "display_data"
    },
    {
     "name": "stdout",
     "output_type": "stream",
     "text": [
      "796867\n"
     ]
    },
    {
     "data": {
      "text/plain": [
       "None"
      ]
     },
     "metadata": {},
     "output_type": "display_data"
    },
    {
     "name": "stdout",
     "output_type": "stream",
     "text": [
      "<class 'pandas.core.frame.DataFrame'>\n",
      "RangeIndex: 796867 entries, 0 to 796866\n",
      "Data columns (total 3 columns):\n",
      " #   Column    Non-Null Count   Dtype \n",
      "---  ------    --------------   ----- \n",
      " 0   gaiia_id  796867 non-null  int64 \n",
      " 1   date      796867 non-null  object\n",
      " 2   status    796867 non-null  object\n",
      "dtypes: int64(1), object(2)\n",
      "memory usage: 18.2+ MB\n"
     ]
    },
    {
     "data": {
      "text/plain": [
       "None"
      ]
     },
     "metadata": {},
     "output_type": "display_data"
    },
    {
     "data": {
      "text/plain": [
       "status\n",
       "ACTIVE            397111\n",
       "SUSPENDED         374609\n",
       "TRIAL               8608\n",
       "SUSPENDED-LEAD      5884\n",
       "INACTIVE            4458\n",
       "INACTIVE-LEAD       4030\n",
       "PENDING             2166\n",
       "LEAD                   1\n",
       "dtype: int64"
      ]
     },
     "metadata": {},
     "output_type": "display_data"
    }
   ],
   "source": [
    "display(\n",
    "    df_client_journey.head(5)\n",
    ")\n",
    "\n",
    "display(\n",
    "    print(df_client_journey.isna().sum())\n",
    "    )\n",
    "\n",
    "display(\n",
    "    print(len(df_client_journey))\n",
    "    )\n",
    "\n",
    "display(\n",
    "    df_client_journey.info()\n",
    ")\n",
    "\n",
    "display(\n",
    "    df_client_journey.value_counts(\"status\")\n",
    ")\n",
    "\n",
    "# some columns need to be converted to other Data type for analysis. Ej: date\n",
    "# Staus column seems to have more information than df_clients[status]\n"
   ]
  },
  {
   "cell_type": "code",
   "execution_count": 69,
   "metadata": {},
   "outputs": [
    {
     "name": "stdout",
     "output_type": "stream",
     "text": [
      "Is `gaiia_id` unique? False\n",
      "Does `gaiia_id` have null values? False\n",
      "Is `gaiia_id` incremental? True\n",
      "\n",
      "Duplicate `gaiia_id` values found:\n"
     ]
    },
    {
     "data": {
      "text/html": [
       "<div>\n",
       "<style scoped>\n",
       "    .dataframe tbody tr th:only-of-type {\n",
       "        vertical-align: middle;\n",
       "    }\n",
       "\n",
       "    .dataframe tbody tr th {\n",
       "        vertical-align: top;\n",
       "    }\n",
       "\n",
       "    .dataframe thead th {\n",
       "        text-align: right;\n",
       "    }\n",
       "</style>\n",
       "<table border=\"1\" class=\"dataframe\">\n",
       "  <thead>\n",
       "    <tr style=\"text-align: right;\">\n",
       "      <th></th>\n",
       "      <th>gaiia_id</th>\n",
       "      <th>date</th>\n",
       "      <th>status</th>\n",
       "    </tr>\n",
       "  </thead>\n",
       "  <tbody>\n",
       "    <tr>\n",
       "      <th>44883</th>\n",
       "      <td>15001</td>\n",
       "      <td>2024-02-14 14:46:12.312</td>\n",
       "      <td>ACTIVE</td>\n",
       "    </tr>\n",
       "    <tr>\n",
       "      <th>23425</th>\n",
       "      <td>15001</td>\n",
       "      <td>2023-11-27 17:20:09.776</td>\n",
       "      <td>SUSPENDED</td>\n",
       "    </tr>\n",
       "    <tr>\n",
       "      <th>15065</th>\n",
       "      <td>15001</td>\n",
       "      <td>2023-10-18 22:24:50.994</td>\n",
       "      <td>SUSPENDED</td>\n",
       "    </tr>\n",
       "    <tr>\n",
       "      <th>132370</th>\n",
       "      <td>15001</td>\n",
       "      <td>2024-07-17 19:52:49.736</td>\n",
       "      <td>SUSPENDED</td>\n",
       "    </tr>\n",
       "    <tr>\n",
       "      <th>132372</th>\n",
       "      <td>15001</td>\n",
       "      <td>2024-07-17 19:54:54.227</td>\n",
       "      <td>ACTIVE</td>\n",
       "    </tr>\n",
       "    <tr>\n",
       "      <th>...</th>\n",
       "      <td>...</td>\n",
       "      <td>...</td>\n",
       "      <td>...</td>\n",
       "    </tr>\n",
       "    <tr>\n",
       "      <th>796711</th>\n",
       "      <td>67743</td>\n",
       "      <td>2025-03-14 06:04:00.047</td>\n",
       "      <td>SUSPENDED-LEAD</td>\n",
       "    </tr>\n",
       "    <tr>\n",
       "      <th>796771</th>\n",
       "      <td>67748</td>\n",
       "      <td>2025-03-14 06:04:21.842</td>\n",
       "      <td>SUSPENDED-LEAD</td>\n",
       "    </tr>\n",
       "    <tr>\n",
       "      <th>751361</th>\n",
       "      <td>67748</td>\n",
       "      <td>2025-02-26 20:11:30.845</td>\n",
       "      <td>TRIAL</td>\n",
       "    </tr>\n",
       "    <tr>\n",
       "      <th>751507</th>\n",
       "      <td>67846</td>\n",
       "      <td>2025-02-26 21:01:42.388</td>\n",
       "      <td>TRIAL</td>\n",
       "    </tr>\n",
       "    <tr>\n",
       "      <th>796793</th>\n",
       "      <td>67846</td>\n",
       "      <td>2025-03-14 06:04:28.196</td>\n",
       "      <td>SUSPENDED-LEAD</td>\n",
       "    </tr>\n",
       "  </tbody>\n",
       "</table>\n",
       "<p>789581 rows × 3 columns</p>\n",
       "</div>"
      ],
      "text/plain": [
       "        gaiia_id                     date          status\n",
       "44883      15001  2024-02-14 14:46:12.312          ACTIVE\n",
       "23425      15001  2023-11-27 17:20:09.776       SUSPENDED\n",
       "15065      15001  2023-10-18 22:24:50.994       SUSPENDED\n",
       "132370     15001  2024-07-17 19:52:49.736       SUSPENDED\n",
       "132372     15001  2024-07-17 19:54:54.227          ACTIVE\n",
       "...          ...                      ...             ...\n",
       "796711     67743  2025-03-14 06:04:00.047  SUSPENDED-LEAD\n",
       "796771     67748  2025-03-14 06:04:21.842  SUSPENDED-LEAD\n",
       "751361     67748  2025-02-26 20:11:30.845           TRIAL\n",
       "751507     67846  2025-02-26 21:01:42.388           TRIAL\n",
       "796793     67846  2025-03-14 06:04:28.196  SUSPENDED-LEAD\n",
       "\n",
       "[789581 rows x 3 columns]"
      ]
     },
     "metadata": {},
     "output_type": "display_data"
    }
   ],
   "source": [
    "## Is gaiia_id a primary key?\n",
    "\n",
    "df_client_journey = df_client_journey.sort_values(by=\"gaiia_id\", ascending=True)\n",
    "\n",
    "# Check 1: Uniqueness of `gaiia_id`\n",
    "is_unique = df_client_journey[\"gaiia_id\"].is_unique\n",
    "print(f\"Is `gaiia_id` unique? {is_unique}\")\n",
    "\n",
    "# Check 2: Non-Null Values in `gaiia_id`\n",
    "has_nulls = df_client_journey[\"gaiia_id\"].isnull().any()\n",
    "print(f\"Does `gaiia_id` have null values? {has_nulls}\")\n",
    "\n",
    "# Check 3: Incremental Values in `gaiia_id`\n",
    "is_incremental = df_client_journey[\"gaiia_id\"].is_monotonic_increasing\n",
    "print(f\"Is `gaiia_id` incremental? {is_incremental}\")\n",
    "\n",
    "# Check for Duplicates in `gaiia_id`\n",
    "duplicates = df_client_journey[df_client_journey.duplicated(\"gaiia_id\", keep=False)]\n",
    "if not duplicates.empty:\n",
    "    print(\"\\nDuplicate `gaiia_id` values found:\")\n",
    "    display(duplicates)\n",
    "else:\n",
    "    print(\"\\nNo duplicate `gaiia_id` values found.\")"
   ]
  },
  {
   "cell_type": "code",
   "execution_count": 70,
   "metadata": {},
   "outputs": [
    {
     "data": {
      "text/html": [
       "<div>\n",
       "<style scoped>\n",
       "    .dataframe tbody tr th:only-of-type {\n",
       "        vertical-align: middle;\n",
       "    }\n",
       "\n",
       "    .dataframe tbody tr th {\n",
       "        vertical-align: top;\n",
       "    }\n",
       "\n",
       "    .dataframe thead th {\n",
       "        text-align: right;\n",
       "    }\n",
       "</style>\n",
       "<table border=\"1\" class=\"dataframe\">\n",
       "  <thead>\n",
       "    <tr style=\"text-align: right;\">\n",
       "      <th></th>\n",
       "      <th>id</th>\n",
       "      <th>created_at</th>\n",
       "      <th>client_id</th>\n",
       "      <th>payment_gateway</th>\n",
       "    </tr>\n",
       "  </thead>\n",
       "  <tbody>\n",
       "    <tr>\n",
       "      <th>0</th>\n",
       "      <td>14183</td>\n",
       "      <td>2024-05-01 00:04:24.000</td>\n",
       "      <td>5688</td>\n",
       "      <td>NEQUI</td>\n",
       "    </tr>\n",
       "    <tr>\n",
       "      <th>1</th>\n",
       "      <td>14190</td>\n",
       "      <td>2024-05-01 00:07:08.000</td>\n",
       "      <td>8628</td>\n",
       "      <td>NEQUI</td>\n",
       "    </tr>\n",
       "    <tr>\n",
       "      <th>2</th>\n",
       "      <td>14180</td>\n",
       "      <td>2024-05-01 00:13:57.000</td>\n",
       "      <td>11289</td>\n",
       "      <td>SUPER_GIROS</td>\n",
       "    </tr>\n",
       "    <tr>\n",
       "      <th>3</th>\n",
       "      <td>14184</td>\n",
       "      <td>2024-05-01 00:24:50.000</td>\n",
       "      <td>6757</td>\n",
       "      <td>SUPER_GIROS</td>\n",
       "    </tr>\n",
       "    <tr>\n",
       "      <th>4</th>\n",
       "      <td>14185</td>\n",
       "      <td>2024-05-01 00:26:05.000</td>\n",
       "      <td>7607</td>\n",
       "      <td>SUPER_GIROS</td>\n",
       "    </tr>\n",
       "  </tbody>\n",
       "</table>\n",
       "</div>"
      ],
      "text/plain": [
       "      id               created_at  client_id payment_gateway\n",
       "0  14183  2024-05-01 00:04:24.000       5688           NEQUI\n",
       "1  14190  2024-05-01 00:07:08.000       8628           NEQUI\n",
       "2  14180  2024-05-01 00:13:57.000      11289     SUPER_GIROS\n",
       "3  14184  2024-05-01 00:24:50.000       6757     SUPER_GIROS\n",
       "4  14185  2024-05-01 00:26:05.000       7607     SUPER_GIROS"
      ]
     },
     "metadata": {},
     "output_type": "display_data"
    },
    {
     "name": "stdout",
     "output_type": "stream",
     "text": [
      "id                 0\n",
      "created_at         0\n",
      "client_id          0\n",
      "payment_gateway    0\n",
      "dtype: int64\n"
     ]
    },
    {
     "data": {
      "text/plain": [
       "None"
      ]
     },
     "metadata": {},
     "output_type": "display_data"
    },
    {
     "name": "stdout",
     "output_type": "stream",
     "text": [
      "424464\n"
     ]
    },
    {
     "data": {
      "text/plain": [
       "None"
      ]
     },
     "metadata": {},
     "output_type": "display_data"
    },
    {
     "name": "stdout",
     "output_type": "stream",
     "text": [
      "<class 'pandas.core.frame.DataFrame'>\n",
      "RangeIndex: 424464 entries, 0 to 424463\n",
      "Data columns (total 4 columns):\n",
      " #   Column           Non-Null Count   Dtype \n",
      "---  ------           --------------   ----- \n",
      " 0   id               424464 non-null  int64 \n",
      " 1   created_at       424464 non-null  object\n",
      " 2   client_id        424464 non-null  int64 \n",
      " 3   payment_gateway  424464 non-null  object\n",
      "dtypes: int64(2), object(2)\n",
      "memory usage: 13.0+ MB\n"
     ]
    },
    {
     "data": {
      "text/plain": [
       "None"
      ]
     },
     "metadata": {},
     "output_type": "display_data"
    },
    {
     "data": {
      "text/plain": [
       "payment_gateway\n",
       "NEQUI                    397146\n",
       "SUPER_GIROS               22355\n",
       "MERCADO_PAGO_TRANSFER      2726\n",
       "GIFT                       1949\n",
       "PAYVALIDA_TRANSFER          288\n",
       "dtype: int64"
      ]
     },
     "metadata": {},
     "output_type": "display_data"
    }
   ],
   "source": [
    "display(\n",
    "    df_invoices.head(5)\n",
    ")\n",
    "\n",
    "display(\n",
    "    print(df_invoices.isna().sum())\n",
    "    )\n",
    "\n",
    "display(\n",
    "    print(len(df_invoices))\n",
    "    )\n",
    "\n",
    "display(\n",
    "    df_invoices.info()\n",
    ")\n",
    "\n",
    "display(\n",
    "    df_invoices.value_counts(\"payment_gateway\")\n",
    ")\n",
    "\n",
    "# some columns need to be converted to other Data type for analysis. Ej: created_at"
   ]
  },
  {
   "cell_type": "code",
   "execution_count": 71,
   "metadata": {},
   "outputs": [
    {
     "name": "stdout",
     "output_type": "stream",
     "text": [
      "Is `id` unique? True\n",
      "Does `id` have null values? False\n",
      "Is `id` incremental? True\n",
      "\n",
      "No duplicate `id` values found.\n"
     ]
    }
   ],
   "source": [
    "## Is id a primary key?\n",
    "\n",
    "df_invoices = df_invoices.sort_values(by=\"id\", ascending=True)\n",
    "\n",
    "# Check 1: Uniqueness of `id`\n",
    "is_unique = df_invoices[\"id\"].is_unique\n",
    "print(f\"Is `id` unique? {is_unique}\")\n",
    "\n",
    "# Check 2: Non-Null Values in `id`\n",
    "has_nulls = df_invoices[\"id\"].isnull().any()\n",
    "print(f\"Does `id` have null values? {has_nulls}\")\n",
    "\n",
    "# Check 3: Incremental Values in `id`\n",
    "is_incremental = df_invoices[\"id\"].is_monotonic_increasing\n",
    "print(f\"Is `id` incremental? {is_incremental}\")\n",
    "\n",
    "# Check for Duplicates in `id`\n",
    "duplicates = df_invoices[df_invoices.duplicated(\"id\", keep=False)]\n",
    "if not duplicates.empty:\n",
    "    print(\"\\nDuplicate `id` values found:\")\n",
    "    display(duplicates)\n",
    "else:\n",
    "    print(\"\\nNo duplicate `id` values found.\")"
   ]
  },
  {
   "cell_type": "markdown",
   "metadata": {},
   "source": [
    "## Step 3. Cleaning Data"
   ]
  },
  {
   "cell_type": "code",
   "execution_count": 72,
   "metadata": {},
   "outputs": [
    {
     "name": "stdout",
     "output_type": "stream",
     "text": [
      "2429.55\n",
      "Index(['id', 'gaiia_id', 'status', 'gaiia_status', 'City', 'name',\n",
      "       'created_at'],\n",
      "      dtype='object')\n"
     ]
    }
   ],
   "source": [
    "#Dropping missing values\n",
    "threshold = len(df_clients) * 0.05\n",
    "print(threshold)\n",
    "\n",
    "cols_to_drop = df_clients.columns[df_clients.isna().sum() <= threshold]\n",
    "print(cols_to_drop)\n",
    "\n",
    "df_clients.dropna(subset=cols_to_drop, inplace=True)\n",
    "\n",
    "#Seems to be just one register, and without this field, \n",
    "# it is not possible to perform all the intended joins, \n",
    "# the goal is to find trends in the data, \n",
    "# so it is convenient to drop the only missing one"
   ]
  },
  {
   "cell_type": "code",
   "execution_count": 73,
   "metadata": {},
   "outputs": [
    {
     "name": "stdout",
     "output_type": "stream",
     "text": [
      "id              0\n",
      "gaiia_id        0\n",
      "status          0\n",
      "gaiia_status    0\n",
      "City            0\n",
      "name            0\n",
      "created_at      0\n",
      "dtype: int64\n"
     ]
    },
    {
     "data": {
      "text/plain": [
       "None"
      ]
     },
     "metadata": {},
     "output_type": "display_data"
    },
    {
     "name": "stdout",
     "output_type": "stream",
     "text": [
      "48590\n"
     ]
    },
    {
     "data": {
      "text/plain": [
       "None"
      ]
     },
     "metadata": {},
     "output_type": "display_data"
    }
   ],
   "source": [
    "display(\n",
    "    print(df_clients.isna().sum())\n",
    "    )\n",
    "\n",
    "display(\n",
    "    print(len(df_clients))\n",
    "    )"
   ]
  },
  {
   "cell_type": "code",
   "execution_count": 74,
   "metadata": {},
   "outputs": [],
   "source": [
    "#Transforming data columns into the correct Dtype to be able to perform date-time analysis\n",
    "\n",
    "df_clients[\"created_at\"] = pd.to_datetime(df_clients[\"created_at\"])\n",
    "\n",
    "df_client_journey[\"date\"] = pd.to_datetime(df_client_journey[\"date\"])\n",
    "\n",
    "df_invoices[\"created_at\"] = pd.to_datetime(df_invoices[\"created_at\"])"
   ]
  },
  {
   "cell_type": "code",
   "execution_count": 75,
   "metadata": {},
   "outputs": [
    {
     "name": "stdout",
     "output_type": "stream",
     "text": [
      "<class 'pandas.core.frame.DataFrame'>\n",
      "Int64Index: 48590 entries, 42832 to 2280\n",
      "Data columns (total 7 columns):\n",
      " #   Column        Non-Null Count  Dtype         \n",
      "---  ------        --------------  -----         \n",
      " 0   id            48590 non-null  int64         \n",
      " 1   gaiia_id      48590 non-null  float64       \n",
      " 2   status        48590 non-null  object        \n",
      " 3   gaiia_status  48590 non-null  object        \n",
      " 4   City          48590 non-null  object        \n",
      " 5   name          48590 non-null  object        \n",
      " 6   created_at    48590 non-null  datetime64[ns]\n",
      "dtypes: datetime64[ns](1), float64(1), int64(1), object(4)\n",
      "memory usage: 3.0+ MB\n"
     ]
    },
    {
     "data": {
      "text/plain": [
       "None"
      ]
     },
     "metadata": {},
     "output_type": "display_data"
    },
    {
     "name": "stdout",
     "output_type": "stream",
     "text": [
      "<class 'pandas.core.frame.DataFrame'>\n",
      "Int64Index: 796867 entries, 44883 to 794440\n",
      "Data columns (total 3 columns):\n",
      " #   Column    Non-Null Count   Dtype         \n",
      "---  ------    --------------   -----         \n",
      " 0   gaiia_id  796867 non-null  int64         \n",
      " 1   date      796867 non-null  datetime64[ns]\n",
      " 2   status    796867 non-null  object        \n",
      "dtypes: datetime64[ns](1), int64(1), object(1)\n",
      "memory usage: 24.3+ MB\n"
     ]
    },
    {
     "data": {
      "text/plain": [
       "None"
      ]
     },
     "metadata": {},
     "output_type": "display_data"
    },
    {
     "name": "stdout",
     "output_type": "stream",
     "text": [
      "<class 'pandas.core.frame.DataFrame'>\n",
      "Int64Index: 424464 entries, 888 to 424463\n",
      "Data columns (total 4 columns):\n",
      " #   Column           Non-Null Count   Dtype         \n",
      "---  ------           --------------   -----         \n",
      " 0   id               424464 non-null  int64         \n",
      " 1   created_at       424464 non-null  datetime64[ns]\n",
      " 2   client_id        424464 non-null  int64         \n",
      " 3   payment_gateway  424464 non-null  object        \n",
      "dtypes: datetime64[ns](1), int64(2), object(1)\n",
      "memory usage: 16.2+ MB\n"
     ]
    },
    {
     "data": {
      "text/plain": [
       "None"
      ]
     },
     "metadata": {},
     "output_type": "display_data"
    }
   ],
   "source": [
    "display(\n",
    "    df_clients.info()\n",
    ")\n",
    "\n",
    "display(\n",
    "    df_client_journey.info()\n",
    ")\n",
    "\n",
    "display(\n",
    "    df_invoices.info()\n",
    ")"
   ]
  },
  {
   "cell_type": "code",
   "execution_count": 76,
   "metadata": {},
   "outputs": [
    {
     "name": "stdout",
     "output_type": "stream",
     "text": [
      "Minimum Date: 1964-07-20 10:50:09\n",
      "Maximum Date: 2025-03-13 22:40:11\n"
     ]
    },
    {
     "data": {
      "text/plain": [
       "year\n",
       "2024    32249\n",
       "2025    12009\n",
       "2023     4330\n",
       "1964        1\n",
       "1996        1\n",
       "dtype: int64"
      ]
     },
     "metadata": {},
     "output_type": "display_data"
    }
   ],
   "source": [
    "min_date = df_clients[\"created_at\"].min()\n",
    "max_date = df_clients[\"created_at\"].max()\n",
    "print(f\"Minimum Date: {min_date}\")\n",
    "print(f\"Maximum Date: {max_date}\")\n",
    "\n",
    "df_clients[\"year\"] = df_clients[\"created_at\"].dt.year\n",
    "\n",
    "display(\n",
    "    df_clients.value_counts(\"year\")\n",
    ")\n",
    "\n",
    "# we seem to have two records with time outlyers\n",
    "# records make sense to be between 2023-2025\n",
    "# 1996 and 1964 are way back before company creation, this is inconsistent data"
   ]
  },
  {
   "cell_type": "code",
   "execution_count": 77,
   "metadata": {},
   "outputs": [
    {
     "name": "stdout",
     "output_type": "stream",
     "text": [
      "Minimum Date: 2023-07-31 05:24:36.783000\n",
      "Maximum Date: 2025-03-14 06:06:59.163000\n"
     ]
    },
    {
     "data": {
      "text/plain": [
       "year\n",
       "2024    460823\n",
       "2025    304603\n",
       "2023     31441\n",
       "dtype: int64"
      ]
     },
     "metadata": {},
     "output_type": "display_data"
    }
   ],
   "source": [
    "min_date = df_client_journey[\"date\"].min()\n",
    "max_date = df_client_journey[\"date\"].max()\n",
    "print(f\"Minimum Date: {min_date}\")\n",
    "print(f\"Maximum Date: {max_date}\")\n",
    "\n",
    "df_client_journey[\"year\"] = df_client_journey[\"date\"].dt.year\n",
    "\n",
    "display(\n",
    "    df_client_journey.value_counts(\"year\")\n",
    ")\n",
    "\n",
    "# records make sense to be between 2023-2025"
   ]
  },
  {
   "cell_type": "code",
   "execution_count": 78,
   "metadata": {},
   "outputs": [
    {
     "name": "stdout",
     "output_type": "stream",
     "text": [
      "Minimum Date: 2024-05-01 00:04:24\n",
      "Maximum Date: 2025-03-14 15:35:06\n"
     ]
    },
    {
     "data": {
      "text/plain": [
       "year\n",
       "2024    227619\n",
       "2025    196845\n",
       "dtype: int64"
      ]
     },
     "metadata": {},
     "output_type": "display_data"
    }
   ],
   "source": [
    "min_date = df_invoices[\"created_at\"].min()\n",
    "max_date = df_invoices[\"created_at\"].max()\n",
    "print(f\"Minimum Date: {min_date}\")\n",
    "print(f\"Maximum Date: {max_date}\")\n",
    "\n",
    "df_invoices[\"year\"] = df_invoices[\"created_at\"].dt.year\n",
    "\n",
    "display(\n",
    "    df_invoices.value_counts(\"year\")\n",
    ")\n",
    "\n",
    "# records are available between 2024-2025 this may limit our scope of analysis\n",
    "# to provide a clear trend using payment_gateway info"
   ]
  },
  {
   "cell_type": "code",
   "execution_count": 79,
   "metadata": {},
   "outputs": [
    {
     "name": "stdout",
     "output_type": "stream",
     "text": [
      "         id  gaiia_id         status gaiia_status       City  \\\n",
      "38938  4794   16910.0  Instalaciones     INACTIVE  Cartagena   \n",
      "39631  5634   17750.0  Instalaciones     INACTIVE  Cartagena   \n",
      "\n",
      "                   name          created_at  year  \n",
      "38938  UB NUEVA VENECIA 1996-11-28 16:34:09  1996  \n",
      "39631     LA CANDELARIA 1964-07-20 10:50:09  1964  \n"
     ]
    }
   ],
   "source": [
    "# On this case the most reasonable thing to do is to drop inconsistent date data\n",
    "# but just for this case I'm going to imput inconsistet data base on the group(name)\n",
    "\n",
    "# imputting inconsistent date data\n",
    "outliers = df_clients[df_clients[\"created_at\"].dt.year.isin([1996, 1964])]\n",
    "print(outliers)\n"
   ]
  },
  {
   "cell_type": "code",
   "execution_count": 84,
   "metadata": {},
   "outputs": [
    {
     "name": "stdout",
     "output_type": "stream",
     "text": [
      "Is `id` in ascending order? True\n",
      "Is `created_at` in ascending order? False\n",
      "2312\n"
     ]
    }
   ],
   "source": [
    "specific_group_sorted = df_clients[\n",
    "     (df_clients[\"name\"] == \"UB NUEVA VENECIA\")]\n",
    "\n",
    "# Validate that `id` and `created_at` are in ascending order\n",
    "is_id_ascending = specific_group_sorted[\"id\"].is_monotonic_increasing\n",
    "is_created_at_ascending = specific_group_sorted[\"created_at\"].is_monotonic_increasing\n",
    "\n",
    "print(f\"Is `id` in ascending order? {is_id_ascending}\")\n",
    "print(f\"Is `created_at` in ascending order? {is_created_at_ascending}\")\n",
    "\n",
    "print(specific_group_sorted.size)\n"
   ]
  },
  {
   "cell_type": "code",
   "execution_count": 89,
   "metadata": {},
   "outputs": [
    {
     "name": "stdout",
     "output_type": "stream",
     "text": [
      "Rows where `created_at` is not in ascending order:\n"
     ]
    },
    {
     "name": "stderr",
     "output_type": "stream",
     "text": [
      "C:\\Users\\mcaba\\AppData\\Local\\Temp\\ipykernel_27320\\1495104431.py:2: SettingWithCopyWarning: \n",
      "A value is trying to be set on a copy of a slice from a DataFrame.\n",
      "Try using .loc[row_indexer,col_indexer] = value instead\n",
      "\n",
      "See the caveats in the documentation: https://pandas.pydata.org/pandas-docs/stable/user_guide/indexing.html#returning-a-view-versus-a-copy\n",
      "  specific_group_sorted[\"is_ascending\"] = specific_group_sorted[\"created_at\"].diff() >= pd.Timedelta(0)\n"
     ]
    },
    {
     "data": {
      "text/html": [
       "<div>\n",
       "<style scoped>\n",
       "    .dataframe tbody tr th:only-of-type {\n",
       "        vertical-align: middle;\n",
       "    }\n",
       "\n",
       "    .dataframe tbody tr th {\n",
       "        vertical-align: top;\n",
       "    }\n",
       "\n",
       "    .dataframe thead th {\n",
       "        text-align: right;\n",
       "    }\n",
       "</style>\n",
       "<table border=\"1\" class=\"dataframe\">\n",
       "  <thead>\n",
       "    <tr style=\"text-align: right;\">\n",
       "      <th></th>\n",
       "      <th>id</th>\n",
       "      <th>gaiia_id</th>\n",
       "      <th>status</th>\n",
       "      <th>gaiia_status</th>\n",
       "      <th>City</th>\n",
       "      <th>name</th>\n",
       "      <th>created_at</th>\n",
       "      <th>year</th>\n",
       "      <th>is_ascending</th>\n",
       "    </tr>\n",
       "  </thead>\n",
       "  <tbody>\n",
       "    <tr>\n",
       "      <th>44931</th>\n",
       "      <td>4204</td>\n",
       "      <td>16290.0</td>\n",
       "      <td>Instalaciones</td>\n",
       "      <td>ACTIVE</td>\n",
       "      <td>Cartagena</td>\n",
       "      <td>UB NUEVA VENECIA</td>\n",
       "      <td>2023-05-16 12:33:05</td>\n",
       "      <td>2023</td>\n",
       "      <td>False</td>\n",
       "    </tr>\n",
       "    <tr>\n",
       "      <th>27545</th>\n",
       "      <td>4394</td>\n",
       "      <td>16494.0</td>\n",
       "      <td>Instalaciones</td>\n",
       "      <td>ACTIVE</td>\n",
       "      <td>Cartagena</td>\n",
       "      <td>UB NUEVA VENECIA</td>\n",
       "      <td>2023-05-27 00:00:00</td>\n",
       "      <td>2023</td>\n",
       "      <td>False</td>\n",
       "    </tr>\n",
       "    <tr>\n",
       "      <th>22457</th>\n",
       "      <td>5896</td>\n",
       "      <td>17984.0</td>\n",
       "      <td>Instalaciones</td>\n",
       "      <td>INACTIVE</td>\n",
       "      <td>Cartagena</td>\n",
       "      <td>UB NUEVA VENECIA</td>\n",
       "      <td>2023-08-17 11:20:07</td>\n",
       "      <td>2023</td>\n",
       "      <td>False</td>\n",
       "    </tr>\n",
       "  </tbody>\n",
       "</table>\n",
       "</div>"
      ],
      "text/plain": [
       "         id  gaiia_id         status gaiia_status       City  \\\n",
       "44931  4204   16290.0  Instalaciones       ACTIVE  Cartagena   \n",
       "27545  4394   16494.0  Instalaciones       ACTIVE  Cartagena   \n",
       "22457  5896   17984.0  Instalaciones     INACTIVE  Cartagena   \n",
       "\n",
       "                   name          created_at  year  is_ascending  \n",
       "44931  UB NUEVA VENECIA 2023-05-16 12:33:05  2023         False  \n",
       "27545  UB NUEVA VENECIA 2023-05-27 00:00:00  2023         False  \n",
       "22457  UB NUEVA VENECIA 2023-08-17 11:20:07  2023         False  "
      ]
     },
     "metadata": {},
     "output_type": "display_data"
    }
   ],
   "source": [
    "# Validate which rows in `created_at` are not in ascending order\n",
    "specific_group_sorted[\"is_ascending\"] = specific_group_sorted[\"created_at\"].diff() >= pd.Timedelta(0)\n",
    "\n",
    "# Identify rows where `created_at` is not in ascending order\n",
    "non_ascending_rows = specific_group_sorted[specific_group_sorted[\"is_ascending\"] == False]\n",
    "\n",
    "# Display the rows where `created_at` is not in ascending order\n",
    "print(\"Rows where `created_at` is not in ascending order:\")\n",
    "display(non_ascending_rows)\n",
    "\n",
    "# `created_at` does not seem to be consistently increasing along with the id value,\n",
    "#  however, these exceptions are only 0.1% of the sample"
   ]
  },
  {
   "cell_type": "code",
   "execution_count": 85,
   "metadata": {},
   "outputs": [
    {
     "name": "stdout",
     "output_type": "stream",
     "text": [
      "Updated DataFrame:\n",
      "         id  gaiia_id         status gaiia_status       City  \\\n",
      "44931  4204   16290.0  Instalaciones       ACTIVE  Cartagena   \n",
      "5887   4263   16362.0         Ventas      PENDING  Cartagena   \n",
      "5970   4317   16412.0  Instalaciones     INACTIVE  Cartagena   \n",
      "19868  4384   16483.0  Instalaciones    SUSPENDED  Cartagena   \n",
      "27545  4394   16494.0  Instalaciones       ACTIVE  Cartagena   \n",
      "6062   4401   16499.0  Instalaciones     INACTIVE  Cartagena   \n",
      "38858  4694   16818.0  Instalaciones     INACTIVE  Cartagena   \n",
      "38859  4695   16820.0  Instalaciones     INACTIVE  Cartagena   \n",
      "38938  4794   16910.0  Instalaciones     INACTIVE  Cartagena   \n",
      "39008  4932   16986.0  Instalaciones     INACTIVE  Cartagena   \n",
      "39137  5105   17151.0  Instalaciones     INACTIVE  Cartagena   \n",
      "39233  5203   17271.0  Instalaciones       ACTIVE  Cartagena   \n",
      "39332  5307   17395.0  Instalaciones     INACTIVE  Cartagena   \n",
      "39531  5525   17618.0  Instalaciones     INACTIVE  Cartagena   \n",
      "\n",
      "                   name              created_at  year  \n",
      "44931  UB NUEVA VENECIA 2023-05-16 12:33:05.000  2023  \n",
      "5887   UB NUEVA VENECIA 2023-05-19 12:31:04.000  2023  \n",
      "5970   UB NUEVA VENECIA 2023-05-23 15:34:11.000  2023  \n",
      "19868  UB NUEVA VENECIA 2023-05-27 11:29:45.000  2023  \n",
      "27545  UB NUEVA VENECIA 2023-05-27 00:00:00.000  2023  \n",
      "6062   UB NUEVA VENECIA 2023-05-27 16:24:37.000  2023  \n",
      "38858  UB NUEVA VENECIA 2023-06-22 14:13:26.000  2023  \n",
      "38859  UB NUEVA VENECIA 2023-06-22 14:20:46.000  2023  \n",
      "38938  UB NUEVA VENECIA 2023-06-29 00:00:00.000  1996  \n",
      "39008  UB NUEVA VENECIA 2023-07-05 14:25:53.000  2023  \n",
      "39137  UB NUEVA VENECIA 2023-07-12 16:57:30.000  2023  \n",
      "39233  UB NUEVA VENECIA 2023-07-18 10:36:41.000  2023  \n",
      "39332  UB NUEVA VENECIA 2023-07-24 10:29:51.000  2023  \n",
      "39531  UB NUEVA VENECIA 2024-01-31 16:13:07.655  2024  \n"
     ]
    }
   ],
   "source": [
    "non_ascending_rows = non_ascending_rows[non_ascending_rows[\"created_at\"].dt.year == 1996]\n",
    "\n",
    "# Forward-fill `created_at` with a midpoint date for the problematic rows\n",
    "for index, row in non_ascending_rows.iterrows():\n",
    "    # Get the `id` before and after the problematic row\n",
    "    prev_row = specific_group_sorted[specific_group_sorted[\"id\"] < row[\"id\"]].iloc[-1]  # Row before\n",
    "    next_row = specific_group_sorted[specific_group_sorted[\"id\"] > row[\"id\"]].iloc[0]   # Row after\n",
    "\n",
    "    # Calculate the midpoint date (excluding time)\n",
    "    midpoint_date = prev_row[\"created_at\"] + (next_row[\"created_at\"] - prev_row[\"created_at\"]) / 2\n",
    "    midpoint_date = midpoint_date.normalize()  # Remove time component\n",
    "\n",
    "    # Forward-fill the `created_at` column with the midpoint date\n",
    "    specific_group_sorted.at[index, \"created_at\"] = midpoint_date\n",
    "\n",
    "# Display the updated DataFrame\n",
    "print(\"Updated DataFrame:\")\n",
    "print(specific_group_sorted.head(14))\n",
    "\n",
    "# now the outlyers is imput with a new datetime value between rows: \n",
    "# the value imputed is 2023-06-29 00:00:00.000 "
   ]
  },
  {
   "cell_type": "code",
   "execution_count": null,
   "metadata": {},
   "outputs": [
    {
     "name": "stdout",
     "output_type": "stream",
     "text": [
      "Updated DataFrame:\n"
     ]
    },
    {
     "name": "stderr",
     "output_type": "stream",
     "text": [
      "C:\\Users\\mcaba\\AppData\\Local\\Temp\\ipykernel_27320\\3895623171.py:4: SettingWithCopyWarning: \n",
      "A value is trying to be set on a copy of a slice from a DataFrame.\n",
      "Try using .loc[row_indexer,col_indexer] = value instead\n",
      "\n",
      "See the caveats in the documentation: https://pandas.pydata.org/pandas-docs/stable/user_guide/indexing.html#returning-a-view-versus-a-copy\n",
      "  specific_group_1964[\"is_ascending\"] = specific_group_1964[\"created_at\"].diff() >= pd.Timedelta(0)\n"
     ]
    },
    {
     "data": {
      "text/html": [
       "<div>\n",
       "<style scoped>\n",
       "    .dataframe tbody tr th:only-of-type {\n",
       "        vertical-align: middle;\n",
       "    }\n",
       "\n",
       "    .dataframe tbody tr th {\n",
       "        vertical-align: top;\n",
       "    }\n",
       "\n",
       "    .dataframe thead th {\n",
       "        text-align: right;\n",
       "    }\n",
       "</style>\n",
       "<table border=\"1\" class=\"dataframe\">\n",
       "  <thead>\n",
       "    <tr style=\"text-align: right;\">\n",
       "      <th></th>\n",
       "      <th>id</th>\n",
       "      <th>gaiia_id</th>\n",
       "      <th>status</th>\n",
       "      <th>gaiia_status</th>\n",
       "      <th>City</th>\n",
       "      <th>name</th>\n",
       "      <th>created_at</th>\n",
       "      <th>year</th>\n",
       "      <th>is_ascending</th>\n",
       "    </tr>\n",
       "  </thead>\n",
       "  <tbody>\n",
       "    <tr>\n",
       "      <th>39631</th>\n",
       "      <td>5634</td>\n",
       "      <td>17750.0</td>\n",
       "      <td>Instalaciones</td>\n",
       "      <td>INACTIVE</td>\n",
       "      <td>Cartagena</td>\n",
       "      <td>LA CANDELARIA</td>\n",
       "      <td>2023-08-09</td>\n",
       "      <td>1964</td>\n",
       "      <td>False</td>\n",
       "    </tr>\n",
       "  </tbody>\n",
       "</table>\n",
       "</div>"
      ],
      "text/plain": [
       "         id  gaiia_id         status gaiia_status       City           name  \\\n",
       "39631  5634   17750.0  Instalaciones     INACTIVE  Cartagena  LA CANDELARIA   \n",
       "\n",
       "      created_at  year  is_ascending  \n",
       "39631 2023-08-09  1964         False  "
      ]
     },
     "metadata": {},
     "output_type": "display_data"
    }
   ],
   "source": [
    "# now there is the process to imput '1964' date value\n",
    "specific_group_1964 = df_clients[\n",
    "     (df_clients[\"name\"] == \"LA CANDELARIA\")]\n",
    "\n",
    "specific_group_1964[\"is_ascending\"] = specific_group_1964[\"created_at\"].diff() >= pd.Timedelta(0)\n",
    "\n",
    "\n",
    "non_ascending_1964 = specific_group_1964[specific_group_1964[\"is_ascending\"] == False]\n",
    "non_ascending_1964 = non_ascending_1964[non_ascending_1964[\"created_at\"].dt.year == 1964]\n",
    "\n",
    "for index, row in non_ascending_1964.iterrows():\n",
    "    \n",
    "    prev_row = specific_group_1964[specific_group_1964[\"id\"] < row[\"id\"]].iloc[-1]  # Row before\n",
    "    next_row = specific_group_1964[specific_group_1964[\"id\"] > row[\"id\"]].iloc[0]   # Row after\n",
    "\n",
    "    midpoint_date = prev_row[\"created_at\"] + (next_row[\"created_at\"] - prev_row[\"created_at\"]) / 2\n",
    "    midpoint_date = midpoint_date.normalize() \n",
    "\n",
    "    specific_group_1964.at[index, \"created_at\"] = midpoint_date\n",
    "\n",
    "# Display the updated DataFrame\n",
    "print(\"Updated DataFrame:\")\n",
    "display(specific_group_1964[specific_group_1964[\"year\"] == 1964])\n",
    "# now the outlyers is imput with a new datetime value between rows: \n",
    "# the value imputed is 2023-06-29 00:00:00.000 \n"
   ]
  },
  {
   "cell_type": "code",
   "execution_count": null,
   "metadata": {},
   "outputs": [
    {
     "name": "stdout",
     "output_type": "stream",
     "text": [
      "Updated df_clients:\n"
     ]
    },
    {
     "data": {
      "text/html": [
       "<div>\n",
       "<style scoped>\n",
       "    .dataframe tbody tr th:only-of-type {\n",
       "        vertical-align: middle;\n",
       "    }\n",
       "\n",
       "    .dataframe tbody tr th {\n",
       "        vertical-align: top;\n",
       "    }\n",
       "\n",
       "    .dataframe thead th {\n",
       "        text-align: right;\n",
       "    }\n",
       "</style>\n",
       "<table border=\"1\" class=\"dataframe\">\n",
       "  <thead>\n",
       "    <tr style=\"text-align: right;\">\n",
       "      <th></th>\n",
       "      <th>id</th>\n",
       "      <th>gaiia_id</th>\n",
       "      <th>status</th>\n",
       "      <th>gaiia_status</th>\n",
       "      <th>City</th>\n",
       "      <th>name</th>\n",
       "      <th>created_at</th>\n",
       "      <th>year</th>\n",
       "    </tr>\n",
       "  </thead>\n",
       "  <tbody>\n",
       "    <tr>\n",
       "      <th>38938</th>\n",
       "      <td>4794</td>\n",
       "      <td>16910.0</td>\n",
       "      <td>Instalaciones</td>\n",
       "      <td>INACTIVE</td>\n",
       "      <td>Cartagena</td>\n",
       "      <td>UB NUEVA VENECIA</td>\n",
       "      <td>2023-06-29</td>\n",
       "      <td>1996</td>\n",
       "    </tr>\n",
       "    <tr>\n",
       "      <th>39631</th>\n",
       "      <td>5634</td>\n",
       "      <td>17750.0</td>\n",
       "      <td>Instalaciones</td>\n",
       "      <td>INACTIVE</td>\n",
       "      <td>Cartagena</td>\n",
       "      <td>LA CANDELARIA</td>\n",
       "      <td>2023-08-09</td>\n",
       "      <td>1964</td>\n",
       "    </tr>\n",
       "  </tbody>\n",
       "</table>\n",
       "</div>"
      ],
      "text/plain": [
       "         id  gaiia_id         status gaiia_status       City  \\\n",
       "38938  4794   16910.0  Instalaciones     INACTIVE  Cartagena   \n",
       "39631  5634   17750.0  Instalaciones     INACTIVE  Cartagena   \n",
       "\n",
       "                   name created_at  year  \n",
       "38938  UB NUEVA VENECIA 2023-06-29  1996  \n",
       "39631     LA CANDELARIA 2023-08-09  1964  "
      ]
     },
     "metadata": {},
     "output_type": "display_data"
    },
    {
     "data": {
      "text/plain": [
       "year\n",
       "2024    32249\n",
       "2025    12009\n",
       "2023     4332\n",
       "dtype: int64"
      ]
     },
     "metadata": {},
     "output_type": "display_data"
    }
   ],
   "source": [
    "#now it is time to update impute date values in our dataframe\n",
    "\n",
    "# Update df_clients with the corrected `created_at` values from specific_group_sorted\n",
    "df_clients.update(specific_group_sorted[\"created_at\"])\n",
    "df_clients.update(specific_group_1964[\"created_at\"])\n",
    "\n",
    "# Display the updated df_clients DataFrame\n",
    "print(\"Updated df_clients:\")\n",
    "display(df_clients[df_clients[\"year\"].isin([1964, 1996])])\n",
    "\n",
    "# clean year column\n",
    "df_clients[\"year\"] = df_clients[\"created_at\"].dt.year\n",
    "display(\n",
    "    df_clients.value_counts(\"year\")\n",
    ")"
   ]
  },
  {
   "cell_type": "markdown",
   "metadata": {},
   "source": [
    "Step 4. Create new columns and joins for data"
   ]
  },
  {
   "cell_type": "code",
   "execution_count": 102,
   "metadata": {},
   "outputs": [
    {
     "name": "stdout",
     "output_type": "stream",
     "text": [
      "<class 'pandas.core.frame.DataFrame'>\n",
      "Int64Index: 48590 entries, 42832 to 2280\n",
      "Data columns (total 12 columns):\n",
      " #   Column        Non-Null Count  Dtype         \n",
      "---  ------        --------------  -----         \n",
      " 0   id            48590 non-null  int64         \n",
      " 1   gaiia_id      48590 non-null  float64       \n",
      " 2   status        48590 non-null  object        \n",
      " 3   gaiia_status  48590 non-null  object        \n",
      " 4   City          48590 non-null  object        \n",
      " 5   name          48590 non-null  object        \n",
      " 6   created_at    48590 non-null  datetime64[ns]\n",
      " 7   year          48590 non-null  int64         \n",
      " 8   month         48590 non-null  int64         \n",
      " 9   weekday       48590 non-null  int64         \n",
      " 10  week_number   48590 non-null  UInt32        \n",
      " 11  year_week     48590 non-null  object        \n",
      "dtypes: UInt32(1), datetime64[ns](1), float64(1), int64(4), object(5)\n",
      "memory usage: 4.7+ MB\n"
     ]
    },
    {
     "data": {
      "text/plain": [
       "None"
      ]
     },
     "metadata": {},
     "output_type": "display_data"
    }
   ],
   "source": [
    "df_clients[\"year\"] = df_clients[\"created_at\"].dt.year\n",
    "df_clients[\"month\"] = df_clients[\"created_at\"].dt.month\n",
    "df_clients[\"weekday\"] = df_clients[\"created_at\"].dt.weekday\n",
    "\n",
    "df_clients[\"week_number\"] = df_clients[\"created_at\"].dt.isocalendar().week\n",
    "\n",
    "# Create 'year_week' column by concatenating year and week number\n",
    "df_clients[\"year_week\"] = df_clients[\"year\"].astype(str) + \"_\" + df_clients[\"week_number\"].astype(str)\n",
    "\n",
    "display(\n",
    "    df_clients.info()\n",
    ")"
   ]
  },
  {
   "cell_type": "code",
   "execution_count": 109,
   "metadata": {},
   "outputs": [
    {
     "data": {
      "text/html": [
       "<div>\n",
       "<style scoped>\n",
       "    .dataframe tbody tr th:only-of-type {\n",
       "        vertical-align: middle;\n",
       "    }\n",
       "\n",
       "    .dataframe tbody tr th {\n",
       "        vertical-align: top;\n",
       "    }\n",
       "\n",
       "    .dataframe thead th {\n",
       "        text-align: right;\n",
       "    }\n",
       "</style>\n",
       "<table border=\"1\" class=\"dataframe\">\n",
       "  <thead>\n",
       "    <tr style=\"text-align: right;\">\n",
       "      <th></th>\n",
       "      <th>id</th>\n",
       "      <th>gaiia_id</th>\n",
       "      <th>status_client</th>\n",
       "      <th>gaiia_status</th>\n",
       "      <th>City</th>\n",
       "      <th>name</th>\n",
       "      <th>created_at</th>\n",
       "      <th>year_client</th>\n",
       "      <th>month</th>\n",
       "      <th>weekday</th>\n",
       "      <th>week_number</th>\n",
       "      <th>year_week</th>\n",
       "      <th>date</th>\n",
       "      <th>status_journey</th>\n",
       "      <th>year_journey</th>\n",
       "    </tr>\n",
       "  </thead>\n",
       "  <tbody>\n",
       "    <tr>\n",
       "      <th>0</th>\n",
       "      <td>84</td>\n",
       "      <td>15103.0</td>\n",
       "      <td>Instalaciones</td>\n",
       "      <td>ACTIVE</td>\n",
       "      <td>Cartagena</td>\n",
       "      <td>UB NELSON MANDELA SECTOR LAS VEGAS</td>\n",
       "      <td>2023-03-02 15:35:24</td>\n",
       "      <td>2023</td>\n",
       "      <td>3</td>\n",
       "      <td>3</td>\n",
       "      <td>9</td>\n",
       "      <td>2023_9</td>\n",
       "      <td>2024-06-04 13:19:13.952</td>\n",
       "      <td>ACTIVE</td>\n",
       "      <td>2024</td>\n",
       "    </tr>\n",
       "    <tr>\n",
       "      <th>1</th>\n",
       "      <td>84</td>\n",
       "      <td>15103.0</td>\n",
       "      <td>Instalaciones</td>\n",
       "      <td>ACTIVE</td>\n",
       "      <td>Cartagena</td>\n",
       "      <td>UB NELSON MANDELA SECTOR LAS VEGAS</td>\n",
       "      <td>2023-03-02 15:35:24</td>\n",
       "      <td>2023</td>\n",
       "      <td>3</td>\n",
       "      <td>3</td>\n",
       "      <td>9</td>\n",
       "      <td>2023_9</td>\n",
       "      <td>2024-03-26 15:03:58.924</td>\n",
       "      <td>SUSPENDED</td>\n",
       "      <td>2024</td>\n",
       "    </tr>\n",
       "  </tbody>\n",
       "</table>\n",
       "</div>"
      ],
      "text/plain": [
       "   id  gaiia_id  status_client gaiia_status       City  \\\n",
       "0  84   15103.0  Instalaciones       ACTIVE  Cartagena   \n",
       "1  84   15103.0  Instalaciones       ACTIVE  Cartagena   \n",
       "\n",
       "                                 name          created_at  year_client  month  \\\n",
       "0  UB NELSON MANDELA SECTOR LAS VEGAS 2023-03-02 15:35:24         2023      3   \n",
       "1  UB NELSON MANDELA SECTOR LAS VEGAS 2023-03-02 15:35:24         2023      3   \n",
       "\n",
       "   weekday  week_number year_week                    date status_journey  \\\n",
       "0        3            9    2023_9 2024-06-04 13:19:13.952         ACTIVE   \n",
       "1        3            9    2023_9 2024-03-26 15:03:58.924      SUSPENDED   \n",
       "\n",
       "   year_journey  \n",
       "0          2024  \n",
       "1          2024  "
      ]
     },
     "metadata": {},
     "output_type": "display_data"
    }
   ],
   "source": [
    "# Perform inner join on gaiia_id (df_clients + df_client_journey)\n",
    "df_merged = pd.merge(\n",
    "    df_clients,\n",
    "    df_client_journey,\n",
    "    on=\"gaiia_id\",\n",
    "    how=\"inner\",\n",
    "    suffixes=(\"_client\", \"_journey\")\n",
    ")\n",
    "# Display the merged DataFrame\n",
    "display(df_merged.head(2))"
   ]
  },
  {
   "cell_type": "code",
   "execution_count": 114,
   "metadata": {},
   "outputs": [
    {
     "data": {
      "image/png": "[encoded data removed]",
      "text/plain": [
       "<Figure size 640x480 with 1 Axes>"
      ]
     },
     "metadata": {},
     "output_type": "display_data"
    }
   ],
   "source": [
    "# Import the required visualization libraries\n",
    "import seaborn as sns\n",
    "import matplotlib.pyplot as plt\n",
    "\n",
    "# Create a histogram of 2021 unemployment; show a full percent in each bin\n",
    "sns.histplot(data=df_merged, y=\"status_journey\", binwidth=1)\n",
    "plt.show()"
   ]
  },
  {
   "cell_type": "markdown",
   "metadata": {},
   "source": [
    "Step 3. Analyze categorical data\n"
   ]
  },
  {
   "cell_type": "code",
   "execution_count": 13,
   "metadata": {},
   "outputs": [
    {
     "data": {
      "image/png": "[encoded data removed]",
      "text/plain": [
       "<Figure size 640x480 with 1 Axes>"
      ]
     },
     "metadata": {},
     "output_type": "display_data"
    }
   ],
   "source": [
    "# Import the required visualization libraries\n",
    "import seaborn as sns\n",
    "import matplotlib.pyplot as plt\n",
    "\n",
    "# Create a histogram of 2021 unemployment; show a full percent in each bin\n",
    "sns.histplot(data=df_invoices, y=\"payment_gateway\", binwidth=1)\n",
    "plt.show()"
   ]
  },
  {
   "cell_type": "code",
   "execution_count": 14,
   "metadata": {},
   "outputs": [
    {
     "ename": "ValueError",
     "evalue": "Could not interpret input '2021'",
     "output_type": "error",
     "traceback": [
      "\u001b[1;31m---------------------------------------------------------------------------\u001b[0m",
      "\u001b[1;31mValueError\u001b[0m                                Traceback (most recent call last)",
      "Cell \u001b[1;32mIn [14], line 2\u001b[0m\n\u001b[0;32m      1\u001b[0m \u001b[38;5;66;03m# Create a boxplot of 2021 unemployment rates, broken down by continent\u001b[39;00m\n\u001b[1;32m----> 2\u001b[0m \u001b[43msns\u001b[49m\u001b[38;5;241;43m.\u001b[39;49m\u001b[43mboxplot\u001b[49m\u001b[43m(\u001b[49m\u001b[43mdata\u001b[49m\u001b[38;5;241;43m=\u001b[39;49m\u001b[43mdf_invoices\u001b[49m\u001b[43m,\u001b[49m\u001b[43m \u001b[49m\u001b[43mx\u001b[49m\u001b[38;5;241;43m=\u001b[39;49m\u001b[38;5;124;43m\"\u001b[39;49m\u001b[38;5;124;43m2021\u001b[39;49m\u001b[38;5;124;43m\"\u001b[39;49m\u001b[43m,\u001b[49m\u001b[43m \u001b[49m\u001b[43my\u001b[49m\u001b[38;5;241;43m=\u001b[39;49m\u001b[38;5;124;43m\"\u001b[39;49m\u001b[38;5;124;43mcontinent\u001b[39;49m\u001b[38;5;124;43m\"\u001b[39;49m\u001b[43m)\u001b[49m\n\u001b[0;32m      3\u001b[0m plt\u001b[38;5;241m.\u001b[39mshow()\n",
      "File \u001b[1;32m~\\AppData\\Roaming\\Python\\Python310\\site-packages\\seaborn\\categorical.py:2231\u001b[0m, in \u001b[0;36mboxplot\u001b[1;34m(data, x, y, hue, order, hue_order, orient, color, palette, saturation, width, dodge, fliersize, linewidth, whis, ax, **kwargs)\u001b[0m\n\u001b[0;32m   2224\u001b[0m \u001b[38;5;28;01mdef\u001b[39;00m \u001b[38;5;21mboxplot\u001b[39m(\n\u001b[0;32m   2225\u001b[0m     data\u001b[38;5;241m=\u001b[39m\u001b[38;5;28;01mNone\u001b[39;00m, \u001b[38;5;241m*\u001b[39m, x\u001b[38;5;241m=\u001b[39m\u001b[38;5;28;01mNone\u001b[39;00m, y\u001b[38;5;241m=\u001b[39m\u001b[38;5;28;01mNone\u001b[39;00m, hue\u001b[38;5;241m=\u001b[39m\u001b[38;5;28;01mNone\u001b[39;00m, order\u001b[38;5;241m=\u001b[39m\u001b[38;5;28;01mNone\u001b[39;00m, hue_order\u001b[38;5;241m=\u001b[39m\u001b[38;5;28;01mNone\u001b[39;00m,\n\u001b[0;32m   2226\u001b[0m     orient\u001b[38;5;241m=\u001b[39m\u001b[38;5;28;01mNone\u001b[39;00m, color\u001b[38;5;241m=\u001b[39m\u001b[38;5;28;01mNone\u001b[39;00m, palette\u001b[38;5;241m=\u001b[39m\u001b[38;5;28;01mNone\u001b[39;00m, saturation\u001b[38;5;241m=\u001b[39m\u001b[38;5;241m.75\u001b[39m, width\u001b[38;5;241m=\u001b[39m\u001b[38;5;241m.8\u001b[39m,\n\u001b[0;32m   2227\u001b[0m     dodge\u001b[38;5;241m=\u001b[39m\u001b[38;5;28;01mTrue\u001b[39;00m, fliersize\u001b[38;5;241m=\u001b[39m\u001b[38;5;241m5\u001b[39m, linewidth\u001b[38;5;241m=\u001b[39m\u001b[38;5;28;01mNone\u001b[39;00m, whis\u001b[38;5;241m=\u001b[39m\u001b[38;5;241m1.5\u001b[39m, ax\u001b[38;5;241m=\u001b[39m\u001b[38;5;28;01mNone\u001b[39;00m,\n\u001b[0;32m   2228\u001b[0m     \u001b[38;5;241m*\u001b[39m\u001b[38;5;241m*\u001b[39mkwargs\n\u001b[0;32m   2229\u001b[0m ):\n\u001b[1;32m-> 2231\u001b[0m     plotter \u001b[38;5;241m=\u001b[39m \u001b[43m_BoxPlotter\u001b[49m\u001b[43m(\u001b[49m\u001b[43mx\u001b[49m\u001b[43m,\u001b[49m\u001b[43m \u001b[49m\u001b[43my\u001b[49m\u001b[43m,\u001b[49m\u001b[43m \u001b[49m\u001b[43mhue\u001b[49m\u001b[43m,\u001b[49m\u001b[43m \u001b[49m\u001b[43mdata\u001b[49m\u001b[43m,\u001b[49m\u001b[43m \u001b[49m\u001b[43morder\u001b[49m\u001b[43m,\u001b[49m\u001b[43m \u001b[49m\u001b[43mhue_order\u001b[49m\u001b[43m,\u001b[49m\n\u001b[0;32m   2232\u001b[0m \u001b[43m                          \u001b[49m\u001b[43morient\u001b[49m\u001b[43m,\u001b[49m\u001b[43m \u001b[49m\u001b[43mcolor\u001b[49m\u001b[43m,\u001b[49m\u001b[43m \u001b[49m\u001b[43mpalette\u001b[49m\u001b[43m,\u001b[49m\u001b[43m \u001b[49m\u001b[43msaturation\u001b[49m\u001b[43m,\u001b[49m\n\u001b[0;32m   2233\u001b[0m \u001b[43m                          \u001b[49m\u001b[43mwidth\u001b[49m\u001b[43m,\u001b[49m\u001b[43m \u001b[49m\u001b[43mdodge\u001b[49m\u001b[43m,\u001b[49m\u001b[43m \u001b[49m\u001b[43mfliersize\u001b[49m\u001b[43m,\u001b[49m\u001b[43m \u001b[49m\u001b[43mlinewidth\u001b[49m\u001b[43m)\u001b[49m\n\u001b[0;32m   2235\u001b[0m     \u001b[38;5;28;01mif\u001b[39;00m ax \u001b[38;5;129;01mis\u001b[39;00m \u001b[38;5;28;01mNone\u001b[39;00m:\n\u001b[0;32m   2236\u001b[0m         ax \u001b[38;5;241m=\u001b[39m plt\u001b[38;5;241m.\u001b[39mgca()\n",
      "File \u001b[1;32m~\\AppData\\Roaming\\Python\\Python310\\site-packages\\seaborn\\categorical.py:785\u001b[0m, in \u001b[0;36m_BoxPlotter.__init__\u001b[1;34m(self, x, y, hue, data, order, hue_order, orient, color, palette, saturation, width, dodge, fliersize, linewidth)\u001b[0m\n\u001b[0;32m    781\u001b[0m \u001b[38;5;28;01mdef\u001b[39;00m \u001b[38;5;21m__init__\u001b[39m(\u001b[38;5;28mself\u001b[39m, x, y, hue, data, order, hue_order,\n\u001b[0;32m    782\u001b[0m              orient, color, palette, saturation,\n\u001b[0;32m    783\u001b[0m              width, dodge, fliersize, linewidth):\n\u001b[1;32m--> 785\u001b[0m     \u001b[38;5;28;43mself\u001b[39;49m\u001b[38;5;241;43m.\u001b[39;49m\u001b[43mestablish_variables\u001b[49m\u001b[43m(\u001b[49m\u001b[43mx\u001b[49m\u001b[43m,\u001b[49m\u001b[43m \u001b[49m\u001b[43my\u001b[49m\u001b[43m,\u001b[49m\u001b[43m \u001b[49m\u001b[43mhue\u001b[49m\u001b[43m,\u001b[49m\u001b[43m \u001b[49m\u001b[43mdata\u001b[49m\u001b[43m,\u001b[49m\u001b[43m \u001b[49m\u001b[43morient\u001b[49m\u001b[43m,\u001b[49m\u001b[43m \u001b[49m\u001b[43morder\u001b[49m\u001b[43m,\u001b[49m\u001b[43m \u001b[49m\u001b[43mhue_order\u001b[49m\u001b[43m)\u001b[49m\n\u001b[0;32m    786\u001b[0m     \u001b[38;5;28mself\u001b[39m\u001b[38;5;241m.\u001b[39mestablish_colors(color, palette, saturation)\n\u001b[0;32m    788\u001b[0m     \u001b[38;5;28mself\u001b[39m\u001b[38;5;241m.\u001b[39mdodge \u001b[38;5;241m=\u001b[39m dodge\n",
      "File \u001b[1;32m~\\AppData\\Roaming\\Python\\Python310\\site-packages\\seaborn\\categorical.py:541\u001b[0m, in \u001b[0;36m_CategoricalPlotter.establish_variables\u001b[1;34m(self, x, y, hue, data, orient, order, hue_order, units)\u001b[0m\n\u001b[0;32m    539\u001b[0m     \u001b[38;5;28;01mif\u001b[39;00m \u001b[38;5;28misinstance\u001b[39m(var, \u001b[38;5;28mstr\u001b[39m):\n\u001b[0;32m    540\u001b[0m         err \u001b[38;5;241m=\u001b[39m \u001b[38;5;124mf\u001b[39m\u001b[38;5;124m\"\u001b[39m\u001b[38;5;124mCould not interpret input \u001b[39m\u001b[38;5;124m'\u001b[39m\u001b[38;5;132;01m{\u001b[39;00mvar\u001b[38;5;132;01m}\u001b[39;00m\u001b[38;5;124m'\u001b[39m\u001b[38;5;124m\"\u001b[39m\n\u001b[1;32m--> 541\u001b[0m         \u001b[38;5;28;01mraise\u001b[39;00m \u001b[38;5;167;01mValueError\u001b[39;00m(err)\n\u001b[0;32m    543\u001b[0m \u001b[38;5;66;03m# Figure out the plotting orientation\u001b[39;00m\n\u001b[0;32m    544\u001b[0m orient \u001b[38;5;241m=\u001b[39m infer_orient(\n\u001b[0;32m    545\u001b[0m     x, y, orient, require_numeric\u001b[38;5;241m=\u001b[39m\u001b[38;5;28mself\u001b[39m\u001b[38;5;241m.\u001b[39mrequire_numeric\n\u001b[0;32m    546\u001b[0m )\n",
      "\u001b[1;31mValueError\u001b[0m: Could not interpret input '2021'"
     ]
    }
   ],
   "source": [
    "# Create a boxplot of 2021 unemployment rates, broken down by continent\n",
    "sns.boxplot(data=df_invoices, x=\"2021\", y=\"continent\")\n",
    "plt.show()"
   ]
  }
 ],
 "metadata": {
  "kernelspec": {
   "display_name": "Python 3",
   "language": "python",
   "name": "python3"
  },
  "language_info": {
   "codemirror_mode": {
    "name": "ipython",
    "version": 3
   },
   "file_extension": ".py",
   "mimetype": "text/x-python",
   "name": "python",
   "nbconvert_exporter": "python",
   "pygments_lexer": "ipython3",
   "version": "3.10.0"
  }
 },
 "nbformat": 4,
 "nbformat_minor": 2
}
