{
 "cells": [
  {
   "cell_type": "markdown",
   "metadata": {},
   "source": [
    "## Step 1. Importing data"
   ]
  },
  {
   "cell_type": "code",
   "execution_count": 2,
   "metadata": {},
   "outputs": [
    {
     "name": "stdout",
     "output_type": "stream",
     "text": [
      "      id  gaiia_id         status gaiia_status          City          name  \\\n",
      "0  54213   57771.0  Instalaciones       ACTIVE  Barranquilla  SANTODOMINGO   \n",
      "1  69104   71312.0  Instalaciones       ACTIVE  Barranquilla      CARRIZAL   \n",
      "2  16311   24969.0  Instalaciones    SUSPENDED     Cartagena    VILLA ROSA   \n",
      "3  68472   70721.0  Instalaciones       ACTIVE  Barranquilla   SANTA MARIA   \n",
      "4  15285   24147.0  Instalaciones       ACTIVE     Cartagena    VILLA ROSA   \n",
      "\n",
      "                created_at  \n",
      "0  2025-01-14 12:10:45.000  \n",
      "1  2025-03-12 17:00:00.000  \n",
      "2  2024-06-06 14:51:15.000  \n",
      "3  2025-03-10 17:00:00.000  \n",
      "4  2024-05-27 21:21:40.000  \n"
     ]
    }
   ],
   "source": [
    "# read_csv function\n",
    "\n",
    "import os\n",
    "import pandas as pd\n",
    "folder_name = 'Fibrazo'\n",
    "dir = r'C:\\Users\\mcaba\\OneDrive\\Escritorio\\Data Science\\Company test\\Company-test\\{}'.format(folder_name)\n",
    "\n",
    "def read_csv_fun(folder_name,file_name, path):\n",
    "    path = dir\n",
    "    os.chdir(path)\n",
    "    df = pd.read_csv('{}.csv'.format(file_name), sep=',', low_memory=False, on_bad_lines='skip')\n",
    "    return df\n",
    "\n",
    "df_clients = read_csv_fun('Fibrazo','clients', dir)\n",
    "print(df_clients.head(5))"
   ]
  },
  {
   "cell_type": "code",
   "execution_count": 3,
   "metadata": {},
   "outputs": [
    {
     "name": "stdout",
     "output_type": "stream",
     "text": [
      "   gaiia_id                     date          status\n",
      "0     15332  2023-07-31 05:24:36.783       SUSPENDED\n",
      "1     17155  2023-07-31 05:24:37.897  SUSPENDED-LEAD\n",
      "2     16629  2023-07-31 05:24:38.540  SUSPENDED-LEAD\n",
      "3     16987  2023-07-31 05:24:39.609       SUSPENDED\n",
      "4     16609  2023-07-31 05:24:40.071       SUSPENDED\n",
      "      id               created_at  client_id payment_gateway\n",
      "0  14183  2024-05-01 00:04:24.000       5688           NEQUI\n",
      "1  14190  2024-05-01 00:07:08.000       8628           NEQUI\n",
      "2  14180  2024-05-01 00:13:57.000      11289     SUPER_GIROS\n",
      "3  14184  2024-05-01 00:24:50.000       6757     SUPER_GIROS\n",
      "4  14185  2024-05-01 00:26:05.000       7607     SUPER_GIROS\n"
     ]
    }
   ],
   "source": [
    "df_client_journey = read_csv_fun('Fibrazo','client_journey', dir)\n",
    "print(df_client_journey.head(5))\n",
    "\n",
    "df_invoices = read_csv_fun('Fibrazo','invoices', dir)\n",
    "print(df_invoices.head(5))"
   ]
  },
  {
   "cell_type": "markdown",
   "metadata": {},
   "source": [
    "## Step 2. Glimpse on the data"
   ]
  },
  {
   "cell_type": "code",
   "execution_count": 5,
   "metadata": {},
   "outputs": [
    {
     "data": {
      "text/html": [
       "<div>\n",
       "<style scoped>\n",
       "    .dataframe tbody tr th:only-of-type {\n",
       "        vertical-align: middle;\n",
       "    }\n",
       "\n",
       "    .dataframe tbody tr th {\n",
       "        vertical-align: top;\n",
       "    }\n",
       "\n",
       "    .dataframe thead th {\n",
       "        text-align: right;\n",
       "    }\n",
       "</style>\n",
       "<table border=\"1\" class=\"dataframe\">\n",
       "  <thead>\n",
       "    <tr style=\"text-align: right;\">\n",
       "      <th></th>\n",
       "      <th>id</th>\n",
       "      <th>gaiia_id</th>\n",
       "      <th>status</th>\n",
       "      <th>gaiia_status</th>\n",
       "      <th>City</th>\n",
       "      <th>name</th>\n",
       "      <th>created_at</th>\n",
       "    </tr>\n",
       "  </thead>\n",
       "  <tbody>\n",
       "    <tr>\n",
       "      <th>0</th>\n",
       "      <td>54213</td>\n",
       "      <td>57771.0</td>\n",
       "      <td>Instalaciones</td>\n",
       "      <td>ACTIVE</td>\n",
       "      <td>Barranquilla</td>\n",
       "      <td>SANTODOMINGO</td>\n",
       "      <td>2025-01-14 12:10:45.000</td>\n",
       "    </tr>\n",
       "    <tr>\n",
       "      <th>1</th>\n",
       "      <td>69104</td>\n",
       "      <td>71312.0</td>\n",
       "      <td>Instalaciones</td>\n",
       "      <td>ACTIVE</td>\n",
       "      <td>Barranquilla</td>\n",
       "      <td>CARRIZAL</td>\n",
       "      <td>2025-03-12 17:00:00.000</td>\n",
       "    </tr>\n",
       "    <tr>\n",
       "      <th>2</th>\n",
       "      <td>16311</td>\n",
       "      <td>24969.0</td>\n",
       "      <td>Instalaciones</td>\n",
       "      <td>SUSPENDED</td>\n",
       "      <td>Cartagena</td>\n",
       "      <td>VILLA ROSA</td>\n",
       "      <td>2024-06-06 14:51:15.000</td>\n",
       "    </tr>\n",
       "    <tr>\n",
       "      <th>3</th>\n",
       "      <td>68472</td>\n",
       "      <td>70721.0</td>\n",
       "      <td>Instalaciones</td>\n",
       "      <td>ACTIVE</td>\n",
       "      <td>Barranquilla</td>\n",
       "      <td>SANTA MARIA</td>\n",
       "      <td>2025-03-10 17:00:00.000</td>\n",
       "    </tr>\n",
       "    <tr>\n",
       "      <th>4</th>\n",
       "      <td>15285</td>\n",
       "      <td>24147.0</td>\n",
       "      <td>Instalaciones</td>\n",
       "      <td>ACTIVE</td>\n",
       "      <td>Cartagena</td>\n",
       "      <td>VILLA ROSA</td>\n",
       "      <td>2024-05-27 21:21:40.000</td>\n",
       "    </tr>\n",
       "  </tbody>\n",
       "</table>\n",
       "</div>"
      ],
      "text/plain": [
       "      id  gaiia_id         status gaiia_status          City          name  \\\n",
       "0  54213   57771.0  Instalaciones       ACTIVE  Barranquilla  SANTODOMINGO   \n",
       "1  69104   71312.0  Instalaciones       ACTIVE  Barranquilla      CARRIZAL   \n",
       "2  16311   24969.0  Instalaciones    SUSPENDED     Cartagena    VILLA ROSA   \n",
       "3  68472   70721.0  Instalaciones       ACTIVE  Barranquilla   SANTA MARIA   \n",
       "4  15285   24147.0  Instalaciones       ACTIVE     Cartagena    VILLA ROSA   \n",
       "\n",
       "                created_at  \n",
       "0  2025-01-14 12:10:45.000  \n",
       "1  2025-03-12 17:00:00.000  \n",
       "2  2024-06-06 14:51:15.000  \n",
       "3  2025-03-10 17:00:00.000  \n",
       "4  2024-05-27 21:21:40.000  "
      ]
     },
     "metadata": {},
     "output_type": "display_data"
    },
    {
     "name": "stdout",
     "output_type": "stream",
     "text": [
      "id              0\n",
      "gaiia_id        1\n",
      "status          0\n",
      "gaiia_status    0\n",
      "City            0\n",
      "name            0\n",
      "created_at      0\n",
      "dtype: int64\n"
     ]
    },
    {
     "data": {
      "text/plain": [
       "None"
      ]
     },
     "metadata": {},
     "output_type": "display_data"
    },
    {
     "name": "stdout",
     "output_type": "stream",
     "text": [
      "48591\n"
     ]
    },
    {
     "data": {
      "text/plain": [
       "None"
      ]
     },
     "metadata": {},
     "output_type": "display_data"
    },
    {
     "name": "stdout",
     "output_type": "stream",
     "text": [
      "<class 'pandas.core.frame.DataFrame'>\n",
      "RangeIndex: 48591 entries, 0 to 48590\n",
      "Data columns (total 7 columns):\n",
      " #   Column        Non-Null Count  Dtype  \n",
      "---  ------        --------------  -----  \n",
      " 0   id            48591 non-null  int64  \n",
      " 1   gaiia_id      48590 non-null  float64\n",
      " 2   status        48591 non-null  object \n",
      " 3   gaiia_status  48591 non-null  object \n",
      " 4   City          48591 non-null  object \n",
      " 5   name          48591 non-null  object \n",
      " 6   created_at    48591 non-null  object \n",
      "dtypes: float64(1), int64(1), object(5)\n",
      "memory usage: 2.6+ MB\n"
     ]
    },
    {
     "data": {
      "text/plain": [
       "None"
      ]
     },
     "metadata": {},
     "output_type": "display_data"
    },
    {
     "data": {
      "text/plain": [
       "status\n",
       "Instalaciones    48298\n",
       "Ventas             293\n",
       "dtype: int64"
      ]
     },
     "metadata": {},
     "output_type": "display_data"
    },
    {
     "data": {
      "text/plain": [
       "gaiia_status\n",
       "ACTIVE       30012\n",
       "SUSPENDED    12109\n",
       "INACTIVE      6118\n",
       "PENDING        352\n",
       "dtype: int64"
      ]
     },
     "metadata": {},
     "output_type": "display_data"
    },
    {
     "data": {
      "text/plain": [
       "City\n",
       "Cartagena       36771\n",
       "Barranquilla    11820\n",
       "dtype: int64"
      ]
     },
     "metadata": {},
     "output_type": "display_data"
    }
   ],
   "source": [
    "display(\n",
    "    df_clients.head(5)\n",
    ")\n",
    "\n",
    "display(\n",
    "    print(df_clients.isna().sum())\n",
    "    )\n",
    "\n",
    "display(\n",
    "    print(len(df_clients))\n",
    "    )\n",
    "\n",
    "display(\n",
    "    df_clients.info()\n",
    ")\n",
    "\n",
    "display(\n",
    "    df_clients.value_counts(\"status\")\n",
    ")\n",
    "\n",
    "display(\n",
    "    df_clients.value_counts(\"gaiia_status\")\n",
    ")\n",
    "\n",
    "display(\n",
    "    df_clients.value_counts(\"City\")\n",
    ")\n",
    "\n",
    "# we have 1 missing gaiia_id on the dataframe\n",
    "# some columns need to be converted to other Data type for analysis. Ej: created_at      \n"
   ]
  },
  {
   "cell_type": "code",
   "execution_count": 6,
   "metadata": {},
   "outputs": [
    {
     "name": "stdout",
     "output_type": "stream",
     "text": [
      "Is `id` unique? True\n",
      "Does `id` have null values? False\n",
      "Is `id` incremental? True\n",
      "\n",
      "No duplicate `id` values found.\n"
     ]
    }
   ],
   "source": [
    "## Is id a primary key?\n",
    "\n",
    "df_clients = df_clients.sort_values(by=\"id\", ascending=True)\n",
    "\n",
    "# Check 1: Uniqueness of `id`\n",
    "is_unique = df_clients[\"id\"].is_unique\n",
    "print(f\"Is `id` unique? {is_unique}\")\n",
    "\n",
    "# Check 2: Non-Null Values in `id`\n",
    "has_nulls = df_clients[\"id\"].isnull().any()\n",
    "print(f\"Does `id` have null values? {has_nulls}\")\n",
    "\n",
    "# Check 3: Incremental Values in `id`\n",
    "is_incremental = df_clients[\"id\"].is_monotonic_increasing\n",
    "print(f\"Is `id` incremental? {is_incremental}\")\n",
    "\n",
    "# Check for Duplicates in `id`\n",
    "duplicates = df_clients[df_clients.duplicated(\"id\", keep=False)]\n",
    "if not duplicates.empty:\n",
    "    print(\"\\nDuplicate `id` values found:\")\n",
    "    display(duplicates)\n",
    "else:\n",
    "    print(\"\\nNo duplicate `id` values found.\")"
   ]
  },
  {
   "cell_type": "code",
   "execution_count": 7,
   "metadata": {},
   "outputs": [
    {
     "data": {
      "text/html": [
       "<div>\n",
       "<style scoped>\n",
       "    .dataframe tbody tr th:only-of-type {\n",
       "        vertical-align: middle;\n",
       "    }\n",
       "\n",
       "    .dataframe tbody tr th {\n",
       "        vertical-align: top;\n",
       "    }\n",
       "\n",
       "    .dataframe thead th {\n",
       "        text-align: right;\n",
       "    }\n",
       "</style>\n",
       "<table border=\"1\" class=\"dataframe\">\n",
       "  <thead>\n",
       "    <tr style=\"text-align: right;\">\n",
       "      <th></th>\n",
       "      <th>gaiia_id</th>\n",
       "      <th>date</th>\n",
       "      <th>status</th>\n",
       "    </tr>\n",
       "  </thead>\n",
       "  <tbody>\n",
       "    <tr>\n",
       "      <th>0</th>\n",
       "      <td>15332</td>\n",
       "      <td>2023-07-31 05:24:36.783</td>\n",
       "      <td>SUSPENDED</td>\n",
       "    </tr>\n",
       "    <tr>\n",
       "      <th>1</th>\n",
       "      <td>17155</td>\n",
       "      <td>2023-07-31 05:24:37.897</td>\n",
       "      <td>SUSPENDED-LEAD</td>\n",
       "    </tr>\n",
       "    <tr>\n",
       "      <th>2</th>\n",
       "      <td>16629</td>\n",
       "      <td>2023-07-31 05:24:38.540</td>\n",
       "      <td>SUSPENDED-LEAD</td>\n",
       "    </tr>\n",
       "    <tr>\n",
       "      <th>3</th>\n",
       "      <td>16987</td>\n",
       "      <td>2023-07-31 05:24:39.609</td>\n",
       "      <td>SUSPENDED</td>\n",
       "    </tr>\n",
       "    <tr>\n",
       "      <th>4</th>\n",
       "      <td>16609</td>\n",
       "      <td>2023-07-31 05:24:40.071</td>\n",
       "      <td>SUSPENDED</td>\n",
       "    </tr>\n",
       "  </tbody>\n",
       "</table>\n",
       "</div>"
      ],
      "text/plain": [
       "   gaiia_id                     date          status\n",
       "0     15332  2023-07-31 05:24:36.783       SUSPENDED\n",
       "1     17155  2023-07-31 05:24:37.897  SUSPENDED-LEAD\n",
       "2     16629  2023-07-31 05:24:38.540  SUSPENDED-LEAD\n",
       "3     16987  2023-07-31 05:24:39.609       SUSPENDED\n",
       "4     16609  2023-07-31 05:24:40.071       SUSPENDED"
      ]
     },
     "metadata": {},
     "output_type": "display_data"
    },
    {
     "name": "stdout",
     "output_type": "stream",
     "text": [
      "gaiia_id    0\n",
      "date        0\n",
      "status      0\n",
      "dtype: int64\n"
     ]
    },
    {
     "data": {
      "text/plain": [
       "None"
      ]
     },
     "metadata": {},
     "output_type": "display_data"
    },
    {
     "name": "stdout",
     "output_type": "stream",
     "text": [
      "796867\n"
     ]
    },
    {
     "data": {
      "text/plain": [
       "None"
      ]
     },
     "metadata": {},
     "output_type": "display_data"
    },
    {
     "name": "stdout",
     "output_type": "stream",
     "text": [
      "<class 'pandas.core.frame.DataFrame'>\n",
      "RangeIndex: 796867 entries, 0 to 796866\n",
      "Data columns (total 3 columns):\n",
      " #   Column    Non-Null Count   Dtype \n",
      "---  ------    --------------   ----- \n",
      " 0   gaiia_id  796867 non-null  int64 \n",
      " 1   date      796867 non-null  object\n",
      " 2   status    796867 non-null  object\n",
      "dtypes: int64(1), object(2)\n",
      "memory usage: 18.2+ MB\n"
     ]
    },
    {
     "data": {
      "text/plain": [
       "None"
      ]
     },
     "metadata": {},
     "output_type": "display_data"
    },
    {
     "data": {
      "text/plain": [
       "status\n",
       "ACTIVE            397111\n",
       "SUSPENDED         374609\n",
       "TRIAL               8608\n",
       "SUSPENDED-LEAD      5884\n",
       "INACTIVE            4458\n",
       "INACTIVE-LEAD       4030\n",
       "PENDING             2166\n",
       "LEAD                   1\n",
       "dtype: int64"
      ]
     },
     "metadata": {},
     "output_type": "display_data"
    }
   ],
   "source": [
    "display(\n",
    "    df_client_journey.head(5)\n",
    ")\n",
    "\n",
    "display(\n",
    "    print(df_client_journey.isna().sum())\n",
    "    )\n",
    "\n",
    "display(\n",
    "    print(len(df_client_journey))\n",
    "    )\n",
    "\n",
    "display(\n",
    "    df_client_journey.info()\n",
    ")\n",
    "\n",
    "display(\n",
    "    df_client_journey.value_counts(\"status\")\n",
    ")\n",
    "\n",
    "# some columns need to be converted to other Data type for analysis. Ej: date\n"
   ]
  },
  {
   "cell_type": "code",
   "execution_count": 8,
   "metadata": {},
   "outputs": [
    {
     "name": "stdout",
     "output_type": "stream",
     "text": [
      "Is `gaiia_id` unique? False\n",
      "Does `gaiia_id` have null values? False\n",
      "Is `gaiia_id` incremental? True\n",
      "\n",
      "Duplicate `gaiia_id` values found:\n"
     ]
    },
    {
     "data": {
      "text/html": [
       "<div>\n",
       "<style scoped>\n",
       "    .dataframe tbody tr th:only-of-type {\n",
       "        vertical-align: middle;\n",
       "    }\n",
       "\n",
       "    .dataframe tbody tr th {\n",
       "        vertical-align: top;\n",
       "    }\n",
       "\n",
       "    .dataframe thead th {\n",
       "        text-align: right;\n",
       "    }\n",
       "</style>\n",
       "<table border=\"1\" class=\"dataframe\">\n",
       "  <thead>\n",
       "    <tr style=\"text-align: right;\">\n",
       "      <th></th>\n",
       "      <th>gaiia_id</th>\n",
       "      <th>date</th>\n",
       "      <th>status</th>\n",
       "    </tr>\n",
       "  </thead>\n",
       "  <tbody>\n",
       "    <tr>\n",
       "      <th>44883</th>\n",
       "      <td>15001</td>\n",
       "      <td>2024-02-14 14:46:12.312</td>\n",
       "      <td>ACTIVE</td>\n",
       "    </tr>\n",
       "    <tr>\n",
       "      <th>23425</th>\n",
       "      <td>15001</td>\n",
       "      <td>2023-11-27 17:20:09.776</td>\n",
       "      <td>SUSPENDED</td>\n",
       "    </tr>\n",
       "    <tr>\n",
       "      <th>15065</th>\n",
       "      <td>15001</td>\n",
       "      <td>2023-10-18 22:24:50.994</td>\n",
       "      <td>SUSPENDED</td>\n",
       "    </tr>\n",
       "    <tr>\n",
       "      <th>132370</th>\n",
       "      <td>15001</td>\n",
       "      <td>2024-07-17 19:52:49.736</td>\n",
       "      <td>SUSPENDED</td>\n",
       "    </tr>\n",
       "    <tr>\n",
       "      <th>132372</th>\n",
       "      <td>15001</td>\n",
       "      <td>2024-07-17 19:54:54.227</td>\n",
       "      <td>ACTIVE</td>\n",
       "    </tr>\n",
       "    <tr>\n",
       "      <th>...</th>\n",
       "      <td>...</td>\n",
       "      <td>...</td>\n",
       "      <td>...</td>\n",
       "    </tr>\n",
       "    <tr>\n",
       "      <th>796711</th>\n",
       "      <td>67743</td>\n",
       "      <td>2025-03-14 06:04:00.047</td>\n",
       "      <td>SUSPENDED-LEAD</td>\n",
       "    </tr>\n",
       "    <tr>\n",
       "      <th>796771</th>\n",
       "      <td>67748</td>\n",
       "      <td>2025-03-14 06:04:21.842</td>\n",
       "      <td>SUSPENDED-LEAD</td>\n",
       "    </tr>\n",
       "    <tr>\n",
       "      <th>751361</th>\n",
       "      <td>67748</td>\n",
       "      <td>2025-02-26 20:11:30.845</td>\n",
       "      <td>TRIAL</td>\n",
       "    </tr>\n",
       "    <tr>\n",
       "      <th>751507</th>\n",
       "      <td>67846</td>\n",
       "      <td>2025-02-26 21:01:42.388</td>\n",
       "      <td>TRIAL</td>\n",
       "    </tr>\n",
       "    <tr>\n",
       "      <th>796793</th>\n",
       "      <td>67846</td>\n",
       "      <td>2025-03-14 06:04:28.196</td>\n",
       "      <td>SUSPENDED-LEAD</td>\n",
       "    </tr>\n",
       "  </tbody>\n",
       "</table>\n",
       "<p>789581 rows × 3 columns</p>\n",
       "</div>"
      ],
      "text/plain": [
       "        gaiia_id                     date          status\n",
       "44883      15001  2024-02-14 14:46:12.312          ACTIVE\n",
       "23425      15001  2023-11-27 17:20:09.776       SUSPENDED\n",
       "15065      15001  2023-10-18 22:24:50.994       SUSPENDED\n",
       "132370     15001  2024-07-17 19:52:49.736       SUSPENDED\n",
       "132372     15001  2024-07-17 19:54:54.227          ACTIVE\n",
       "...          ...                      ...             ...\n",
       "796711     67743  2025-03-14 06:04:00.047  SUSPENDED-LEAD\n",
       "796771     67748  2025-03-14 06:04:21.842  SUSPENDED-LEAD\n",
       "751361     67748  2025-02-26 20:11:30.845           TRIAL\n",
       "751507     67846  2025-02-26 21:01:42.388           TRIAL\n",
       "796793     67846  2025-03-14 06:04:28.196  SUSPENDED-LEAD\n",
       "\n",
       "[789581 rows x 3 columns]"
      ]
     },
     "metadata": {},
     "output_type": "display_data"
    }
   ],
   "source": [
    "## Is gaiia_id a primary key?\n",
    "\n",
    "df_client_journey = df_client_journey.sort_values(by=\"gaiia_id\", ascending=True)\n",
    "\n",
    "# Check 1: Uniqueness of `gaiia_id`\n",
    "is_unique = df_client_journey[\"gaiia_id\"].is_unique\n",
    "print(f\"Is `gaiia_id` unique? {is_unique}\")\n",
    "\n",
    "# Check 2: Non-Null Values in `gaiia_id`\n",
    "has_nulls = df_client_journey[\"gaiia_id\"].isnull().any()\n",
    "print(f\"Does `gaiia_id` have null values? {has_nulls}\")\n",
    "\n",
    "# Check 3: Incremental Values in `gaiia_id`\n",
    "is_incremental = df_client_journey[\"gaiia_id\"].is_monotonic_increasing\n",
    "print(f\"Is `gaiia_id` incremental? {is_incremental}\")\n",
    "\n",
    "# Check for Duplicates in `gaiia_id`\n",
    "duplicates = df_client_journey[df_client_journey.duplicated(\"gaiia_id\", keep=False)]\n",
    "if not duplicates.empty:\n",
    "    print(\"\\nDuplicate `gaiia_id` values found:\")\n",
    "    display(duplicates)\n",
    "else:\n",
    "    print(\"\\nNo duplicate `gaiia_id` values found.\")"
   ]
  },
  {
   "cell_type": "code",
   "execution_count": 9,
   "metadata": {},
   "outputs": [
    {
     "data": {
      "text/html": [
       "<div>\n",
       "<style scoped>\n",
       "    .dataframe tbody tr th:only-of-type {\n",
       "        vertical-align: middle;\n",
       "    }\n",
       "\n",
       "    .dataframe tbody tr th {\n",
       "        vertical-align: top;\n",
       "    }\n",
       "\n",
       "    .dataframe thead th {\n",
       "        text-align: right;\n",
       "    }\n",
       "</style>\n",
       "<table border=\"1\" class=\"dataframe\">\n",
       "  <thead>\n",
       "    <tr style=\"text-align: right;\">\n",
       "      <th></th>\n",
       "      <th>id</th>\n",
       "      <th>created_at</th>\n",
       "      <th>client_id</th>\n",
       "      <th>payment_gateway</th>\n",
       "    </tr>\n",
       "  </thead>\n",
       "  <tbody>\n",
       "    <tr>\n",
       "      <th>0</th>\n",
       "      <td>14183</td>\n",
       "      <td>2024-05-01 00:04:24.000</td>\n",
       "      <td>5688</td>\n",
       "      <td>NEQUI</td>\n",
       "    </tr>\n",
       "    <tr>\n",
       "      <th>1</th>\n",
       "      <td>14190</td>\n",
       "      <td>2024-05-01 00:07:08.000</td>\n",
       "      <td>8628</td>\n",
       "      <td>NEQUI</td>\n",
       "    </tr>\n",
       "    <tr>\n",
       "      <th>2</th>\n",
       "      <td>14180</td>\n",
       "      <td>2024-05-01 00:13:57.000</td>\n",
       "      <td>11289</td>\n",
       "      <td>SUPER_GIROS</td>\n",
       "    </tr>\n",
       "    <tr>\n",
       "      <th>3</th>\n",
       "      <td>14184</td>\n",
       "      <td>2024-05-01 00:24:50.000</td>\n",
       "      <td>6757</td>\n",
       "      <td>SUPER_GIROS</td>\n",
       "    </tr>\n",
       "    <tr>\n",
       "      <th>4</th>\n",
       "      <td>14185</td>\n",
       "      <td>2024-05-01 00:26:05.000</td>\n",
       "      <td>7607</td>\n",
       "      <td>SUPER_GIROS</td>\n",
       "    </tr>\n",
       "  </tbody>\n",
       "</table>\n",
       "</div>"
      ],
      "text/plain": [
       "      id               created_at  client_id payment_gateway\n",
       "0  14183  2024-05-01 00:04:24.000       5688           NEQUI\n",
       "1  14190  2024-05-01 00:07:08.000       8628           NEQUI\n",
       "2  14180  2024-05-01 00:13:57.000      11289     SUPER_GIROS\n",
       "3  14184  2024-05-01 00:24:50.000       6757     SUPER_GIROS\n",
       "4  14185  2024-05-01 00:26:05.000       7607     SUPER_GIROS"
      ]
     },
     "metadata": {},
     "output_type": "display_data"
    },
    {
     "name": "stdout",
     "output_type": "stream",
     "text": [
      "id                 0\n",
      "created_at         0\n",
      "client_id          0\n",
      "payment_gateway    0\n",
      "dtype: int64\n"
     ]
    },
    {
     "data": {
      "text/plain": [
       "None"
      ]
     },
     "metadata": {},
     "output_type": "display_data"
    },
    {
     "name": "stdout",
     "output_type": "stream",
     "text": [
      "424464\n"
     ]
    },
    {
     "data": {
      "text/plain": [
       "None"
      ]
     },
     "metadata": {},
     "output_type": "display_data"
    },
    {
     "name": "stdout",
     "output_type": "stream",
     "text": [
      "<class 'pandas.core.frame.DataFrame'>\n",
      "RangeIndex: 424464 entries, 0 to 424463\n",
      "Data columns (total 4 columns):\n",
      " #   Column           Non-Null Count   Dtype \n",
      "---  ------           --------------   ----- \n",
      " 0   id               424464 non-null  int64 \n",
      " 1   created_at       424464 non-null  object\n",
      " 2   client_id        424464 non-null  int64 \n",
      " 3   payment_gateway  424464 non-null  object\n",
      "dtypes: int64(2), object(2)\n",
      "memory usage: 13.0+ MB\n"
     ]
    },
    {
     "data": {
      "text/plain": [
       "None"
      ]
     },
     "metadata": {},
     "output_type": "display_data"
    },
    {
     "data": {
      "text/plain": [
       "payment_gateway\n",
       "NEQUI                    397146\n",
       "SUPER_GIROS               22355\n",
       "MERCADO_PAGO_TRANSFER      2726\n",
       "GIFT                       1949\n",
       "PAYVALIDA_TRANSFER          288\n",
       "dtype: int64"
      ]
     },
     "metadata": {},
     "output_type": "display_data"
    }
   ],
   "source": [
    "display(\n",
    "    df_invoices.head(5)\n",
    ")\n",
    "\n",
    "display(\n",
    "    print(df_invoices.isna().sum())\n",
    "    )\n",
    "\n",
    "display(\n",
    "    print(len(df_invoices))\n",
    "    )\n",
    "\n",
    "display(\n",
    "    df_invoices.info()\n",
    ")\n",
    "\n",
    "display(\n",
    "    df_invoices.value_counts(\"payment_gateway\")\n",
    ")\n",
    "\n",
    "# some columns need to be converted to other Data type for analysis. Ej: created_at"
   ]
  },
  {
   "cell_type": "code",
   "execution_count": 10,
   "metadata": {},
   "outputs": [
    {
     "name": "stdout",
     "output_type": "stream",
     "text": [
      "Is `id` unique? True\n",
      "Does `id` have null values? False\n",
      "Is `id` incremental? True\n",
      "\n",
      "No duplicate `id` values found.\n"
     ]
    }
   ],
   "source": [
    "## Is id a primary key?\n",
    "\n",
    "df_invoices = df_invoices.sort_values(by=\"id\", ascending=True)\n",
    "\n",
    "# Check 1: Uniqueness of `id`\n",
    "is_unique = df_invoices[\"id\"].is_unique\n",
    "print(f\"Is `id` unique? {is_unique}\")\n",
    "\n",
    "# Check 2: Non-Null Values in `id`\n",
    "has_nulls = df_invoices[\"id\"].isnull().any()\n",
    "print(f\"Does `id` have null values? {has_nulls}\")\n",
    "\n",
    "# Check 3: Incremental Values in `id`\n",
    "is_incremental = df_invoices[\"id\"].is_monotonic_increasing\n",
    "print(f\"Is `id` incremental? {is_incremental}\")\n",
    "\n",
    "# Check for Duplicates in `id`\n",
    "duplicates = df_invoices[df_invoices.duplicated(\"id\", keep=False)]\n",
    "if not duplicates.empty:\n",
    "    print(\"\\nDuplicate `id` values found:\")\n",
    "    display(duplicates)\n",
    "else:\n",
    "    print(\"\\nNo duplicate `id` values found.\")"
   ]
  },
  {
   "cell_type": "markdown",
   "metadata": {},
   "source": [
    "## Step 3. Cleaning Data"
   ]
  },
  {
   "cell_type": "code",
   "execution_count": 11,
   "metadata": {},
   "outputs": [
    {
     "name": "stdout",
     "output_type": "stream",
     "text": [
      "2429.55\n",
      "Index(['id', 'gaiia_id', 'status', 'gaiia_status', 'City', 'name',\n",
      "       'created_at'],\n",
      "      dtype='object')\n"
     ]
    }
   ],
   "source": [
    "#Dropping missing values\n",
    "threshold = len(df_clients) * 0.05\n",
    "print(threshold)\n",
    "\n",
    "cols_to_drop = df_clients.columns[df_clients.isna().sum() <= threshold]\n",
    "print(cols_to_drop)\n",
    "\n",
    "df_clients.dropna(subset=cols_to_drop, inplace=True)\n",
    "\n",
    "#Seems to be just one register, and without this field, \n",
    "# it is not possible to perform all the intended joins, \n",
    "# the goal is to find trends in the data, \n",
    "# so it is convenient to drop the only missing one"
   ]
  },
  {
   "cell_type": "code",
   "execution_count": 12,
   "metadata": {},
   "outputs": [
    {
     "name": "stdout",
     "output_type": "stream",
     "text": [
      "id              0\n",
      "gaiia_id        0\n",
      "status          0\n",
      "gaiia_status    0\n",
      "City            0\n",
      "name            0\n",
      "created_at      0\n",
      "dtype: int64\n"
     ]
    },
    {
     "data": {
      "text/plain": [
       "None"
      ]
     },
     "metadata": {},
     "output_type": "display_data"
    },
    {
     "name": "stdout",
     "output_type": "stream",
     "text": [
      "48590\n"
     ]
    },
    {
     "data": {
      "text/plain": [
       "None"
      ]
     },
     "metadata": {},
     "output_type": "display_data"
    }
   ],
   "source": [
    "display(\n",
    "    print(df_clients.isna().sum())\n",
    "    )\n",
    "\n",
    "display(\n",
    "    print(len(df_clients))\n",
    "    )"
   ]
  },
  {
   "cell_type": "code",
   "execution_count": 13,
   "metadata": {},
   "outputs": [],
   "source": [
    "#Transforming data columns into the correct Dtype to be able to perform date-time analysis\n",
    "\n",
    "df_clients[\"created_at\"] = pd.to_datetime(df_clients[\"created_at\"])\n",
    "\n",
    "df_client_journey[\"date\"] = pd.to_datetime(df_client_journey[\"date\"])\n",
    "\n",
    "df_invoices[\"created_at\"] = pd.to_datetime(df_invoices[\"created_at\"])"
   ]
  },
  {
   "cell_type": "code",
   "execution_count": 14,
   "metadata": {},
   "outputs": [
    {
     "name": "stdout",
     "output_type": "stream",
     "text": [
      "<class 'pandas.core.frame.DataFrame'>\n",
      "Int64Index: 48590 entries, 42832 to 2280\n",
      "Data columns (total 7 columns):\n",
      " #   Column        Non-Null Count  Dtype         \n",
      "---  ------        --------------  -----         \n",
      " 0   id            48590 non-null  int64         \n",
      " 1   gaiia_id      48590 non-null  float64       \n",
      " 2   status        48590 non-null  object        \n",
      " 3   gaiia_status  48590 non-null  object        \n",
      " 4   City          48590 non-null  object        \n",
      " 5   name          48590 non-null  object        \n",
      " 6   created_at    48590 non-null  datetime64[ns]\n",
      "dtypes: datetime64[ns](1), float64(1), int64(1), object(4)\n",
      "memory usage: 3.0+ MB\n"
     ]
    },
    {
     "data": {
      "text/plain": [
       "None"
      ]
     },
     "metadata": {},
     "output_type": "display_data"
    },
    {
     "name": "stdout",
     "output_type": "stream",
     "text": [
      "<class 'pandas.core.frame.DataFrame'>\n",
      "Int64Index: 796867 entries, 44883 to 794440\n",
      "Data columns (total 3 columns):\n",
      " #   Column    Non-Null Count   Dtype         \n",
      "---  ------    --------------   -----         \n",
      " 0   gaiia_id  796867 non-null  int64         \n",
      " 1   date      796867 non-null  datetime64[ns]\n",
      " 2   status    796867 non-null  object        \n",
      "dtypes: datetime64[ns](1), int64(1), object(1)\n",
      "memory usage: 24.3+ MB\n"
     ]
    },
    {
     "data": {
      "text/plain": [
       "None"
      ]
     },
     "metadata": {},
     "output_type": "display_data"
    },
    {
     "name": "stdout",
     "output_type": "stream",
     "text": [
      "<class 'pandas.core.frame.DataFrame'>\n",
      "Int64Index: 424464 entries, 888 to 424463\n",
      "Data columns (total 4 columns):\n",
      " #   Column           Non-Null Count   Dtype         \n",
      "---  ------           --------------   -----         \n",
      " 0   id               424464 non-null  int64         \n",
      " 1   created_at       424464 non-null  datetime64[ns]\n",
      " 2   client_id        424464 non-null  int64         \n",
      " 3   payment_gateway  424464 non-null  object        \n",
      "dtypes: datetime64[ns](1), int64(2), object(1)\n",
      "memory usage: 16.2+ MB\n"
     ]
    },
    {
     "data": {
      "text/plain": [
       "None"
      ]
     },
     "metadata": {},
     "output_type": "display_data"
    }
   ],
   "source": [
    "display(\n",
    "    df_clients.info()\n",
    ")\n",
    "\n",
    "display(\n",
    "    df_client_journey.info()\n",
    ")\n",
    "\n",
    "display(\n",
    "    df_invoices.info()\n",
    ")"
   ]
  },
  {
   "cell_type": "code",
   "execution_count": 16,
   "metadata": {},
   "outputs": [
    {
     "name": "stdout",
     "output_type": "stream",
     "text": [
      "Minimum Date: 1964-07-20 10:50:09\n",
      "Maximum Date: 2025-03-13 22:40:11\n"
     ]
    },
    {
     "data": {
      "text/plain": [
       "year\n",
       "2024    32249\n",
       "2025    12009\n",
       "2023     4330\n",
       "1964        1\n",
       "1996        1\n",
       "dtype: int64"
      ]
     },
     "metadata": {},
     "output_type": "display_data"
    }
   ],
   "source": [
    "min_date = df_clients[\"created_at\"].min()\n",
    "max_date = df_clients[\"created_at\"].max()\n",
    "print(f\"Minimum Date: {min_date}\")\n",
    "print(f\"Maximum Date: {max_date}\")\n",
    "\n",
    "df_clients[\"year\"] = df_clients[\"created_at\"].dt.year\n",
    "\n",
    "display(\n",
    "    df_clients.value_counts(\"year\")\n",
    ")\n",
    "\n",
    "# we seem to have two records with time outlyers\n",
    "# records make sense to be between 2023-2025\n",
    "# 1996 and 1964 are way back before company creation, this is inconsistent data"
   ]
  },
  {
   "cell_type": "code",
   "execution_count": 17,
   "metadata": {},
   "outputs": [
    {
     "name": "stdout",
     "output_type": "stream",
     "text": [
      "Minimum Date: 2023-07-31 05:24:36.783000\n",
      "Maximum Date: 2025-03-14 06:06:59.163000\n"
     ]
    },
    {
     "data": {
      "text/plain": [
       "year\n",
       "2024    460823\n",
       "2025    304603\n",
       "2023     31441\n",
       "dtype: int64"
      ]
     },
     "metadata": {},
     "output_type": "display_data"
    }
   ],
   "source": [
    "min_date = df_client_journey[\"date\"].min()\n",
    "max_date = df_client_journey[\"date\"].max()\n",
    "print(f\"Minimum Date: {min_date}\")\n",
    "print(f\"Maximum Date: {max_date}\")\n",
    "\n",
    "df_client_journey[\"year\"] = df_client_journey[\"date\"].dt.year\n",
    "\n",
    "display(\n",
    "    df_client_journey.value_counts(\"year\")\n",
    ")\n",
    "\n",
    "# records make sense to be between 2023-2025"
   ]
  },
  {
   "cell_type": "code",
   "execution_count": 18,
   "metadata": {},
   "outputs": [
    {
     "name": "stdout",
     "output_type": "stream",
     "text": [
      "Minimum Date: 2024-05-01 00:04:24\n",
      "Maximum Date: 2025-03-14 15:35:06\n"
     ]
    },
    {
     "data": {
      "text/plain": [
       "year\n",
       "2024    227619\n",
       "2025    196845\n",
       "dtype: int64"
      ]
     },
     "metadata": {},
     "output_type": "display_data"
    }
   ],
   "source": [
    "min_date = df_invoices[\"created_at\"].min()\n",
    "max_date = df_invoices[\"created_at\"].max()\n",
    "print(f\"Minimum Date: {min_date}\")\n",
    "print(f\"Maximum Date: {max_date}\")\n",
    "\n",
    "df_invoices[\"year\"] = df_invoices[\"created_at\"].dt.year\n",
    "\n",
    "display(\n",
    "    df_invoices.value_counts(\"year\")\n",
    ")\n",
    "\n",
    "# records are available between 2024-2025 this may limit our scope of analysis\n",
    "# to provide a clear trend using payment_gateway info"
   ]
  },
  {
   "cell_type": "code",
   "execution_count": 19,
   "metadata": {},
   "outputs": [
    {
     "name": "stdout",
     "output_type": "stream",
     "text": [
      "         id  gaiia_id         status gaiia_status       City  \\\n",
      "38938  4794   16910.0  Instalaciones     INACTIVE  Cartagena   \n",
      "39631  5634   17750.0  Instalaciones     INACTIVE  Cartagena   \n",
      "\n",
      "                   name          created_at  year  \n",
      "38938  UB NUEVA VENECIA 1996-11-28 16:34:09  1996  \n",
      "39631     LA CANDELARIA 1964-07-20 10:50:09  1964  \n"
     ]
    }
   ],
   "source": [
    "# On this case the most reasonable thing to do is to drop inconsistent date data \n",
    "# since there is only one created_at per client id, there is no other way to imput it\n",
    "# also this are only two rows of data, 0.004% of df_clients\n",
    "\n",
    "outliers = df_clients[df_clients[\"created_at\"].dt.year.isin([1996, 1964])]\n",
    "print(outliers)\n",
    "\n",
    "df_clients = df_clients[~df_clients[\"created_at\"].dt.year.isin([1996, 1964])]\n"
   ]
  },
  {
   "cell_type": "code",
   "execution_count": 20,
   "metadata": {},
   "outputs": [
    {
     "data": {
      "text/plain": [
       "year\n",
       "2024    32249\n",
       "2025    12009\n",
       "2023     4330\n",
       "dtype: int64"
      ]
     },
     "metadata": {},
     "output_type": "display_data"
    }
   ],
   "source": [
    "display(\n",
    "    df_clients.value_counts(\"year\")\n",
    ")"
   ]
  },
  {
   "cell_type": "code",
   "execution_count": 21,
   "metadata": {},
   "outputs": [
    {
     "name": "stdout",
     "output_type": "stream",
     "text": [
      "status\n",
      "ACTIVE       11\n",
      "SUSPENDED    10\n",
      "INACTIVE      1\n",
      "PENDING       1\n",
      "dtype: int64\n"
     ]
    }
   ],
   "source": [
    "print(df_client_journey[df_client_journey[\"gaiia_id\"] == 15103].value_counts(\"status\"))"
   ]
  },
  {
   "cell_type": "markdown",
   "metadata": {},
   "source": [
    "## Step 4. Feature Engineering"
   ]
  },
  {
   "cell_type": "code",
   "execution_count": 22,
   "metadata": {},
   "outputs": [
    {
     "name": "stdout",
     "output_type": "stream",
     "text": [
      "        gaiia_id                    date     status  year  churned\n",
      "44883      15001 2024-02-14 14:46:12.312     ACTIVE  2024        0\n",
      "23425      15001 2023-11-27 17:20:09.776  SUSPENDED  2023        1\n",
      "15065      15001 2023-10-18 22:24:50.994  SUSPENDED  2023        1\n",
      "132370     15001 2024-07-17 19:52:49.736  SUSPENDED  2024        1\n",
      "132372     15001 2024-07-17 19:54:54.227     ACTIVE  2024        0\n"
     ]
    }
   ],
   "source": [
    "# Create the churned column\n",
    "df_client_journey[\"churned\"] = df_client_journey[\"status\"].apply(\n",
    "    lambda x: 1 if x in [\"SUSPENDED\", \"INACTIVE\"] else 0\n",
    ")\n",
    "\n",
    "# Display the updated DataFrame\n",
    "print(df_client_journey.head())"
   ]
  },
  {
   "cell_type": "code",
   "execution_count": null,
   "metadata": {},
   "outputs": [],
   "source": [
    "# Function to calculate subscription duration for each client\n",
    "def calculate_subscription_duration(group):\n",
    "    # Sort by date\n",
    "    group = group.sort_values(by=\"date\")\n",
    "    \n",
    "    # Initialize list to store durations\n",
    "    durations = []\n",
    "    \n",
    "    # Iterate through the group to calculate durations\n",
    "    for i in range(len(group)):\n",
    "        if group.iloc[i][\"status\"] == \"ACTIVE\":\n",
    "            # Find the closest SUSPENDED or INACTIVE event after this ACTIVE event\n",
    "            for j in range(i + 1, len(group)):\n",
    "                if group.iloc[j][\"status\"] in [\"SUSPENDED\", \"INACTIVE\"]:\n",
    "                    duration = (group.iloc[j][\"date\"] - group.iloc[i][\"date\"]).days\n",
    "                    durations.append((group.iloc[i][\"date\"], duration))\n",
    "                    break  # Stop after finding the closest event\n",
    "    \n",
    "    # Convert the result to a DataFrame\n",
    "    durations_df = pd.DataFrame(durations, columns=[\"active_date\", \"subscription_duration\"])\n",
    "    return durations_df\n",
    "\n",
    "# Apply the function to each client\n",
    "subscription_durations = df_client_journey.groupby(\"gaiia_id\").apply(calculate_subscription_duration).reset_index(drop=True)\n",
    "\n",
    "# Merge subscription durations with df_client_journey\n",
    "df_client_journey = df_client_journey.merge(\n",
    "    subscription_durations,\n",
    "    left_on=[\"gaiia_id\", \"date\"],\n",
    "    right_on=[\"gaiia_id\", \"active_date\"],\n",
    "    how=\"left\"\n",
    ")\n",
    "\n",
    "# Drop the temporary active_date column\n",
    "df_client_journey = df_client_journey.drop(columns=[\"active_date\"])\n",
    "\n",
    "# Display the updated DataFrame\n",
    "print(df_client_journey.head())"
   ]
  },
  {
   "cell_type": "code",
   "execution_count": 247,
   "metadata": {},
   "outputs": [
    {
     "ename": "KeyError",
     "evalue": "'gaiia_id'",
     "output_type": "error",
     "traceback": [
      "\u001b[1;31m---------------------------------------------------------------------------\u001b[0m",
      "\u001b[1;31mKeyError\u001b[0m                                  Traceback (most recent call last)",
      "Cell \u001b[1;32mIn [247], line 2\u001b[0m\n\u001b[0;32m      1\u001b[0m \u001b[38;5;66;03m# Merge subscription durations with df_client_journey\u001b[39;00m\n\u001b[1;32m----> 2\u001b[0m df_client_journey \u001b[38;5;241m=\u001b[39m \u001b[43mdf_client_journey\u001b[49m\u001b[38;5;241;43m.\u001b[39;49m\u001b[43mmerge\u001b[49m\u001b[43m(\u001b[49m\n\u001b[0;32m      3\u001b[0m \u001b[43m    \u001b[49m\u001b[43msubscription_durations\u001b[49m\u001b[43m,\u001b[49m\n\u001b[0;32m      4\u001b[0m \u001b[43m    \u001b[49m\u001b[43mleft_on\u001b[49m\u001b[38;5;241;43m=\u001b[39;49m\u001b[43m[\u001b[49m\u001b[38;5;124;43m\"\u001b[39;49m\u001b[38;5;124;43mgaiia_id\u001b[39;49m\u001b[38;5;124;43m\"\u001b[39;49m\u001b[43m,\u001b[49m\u001b[43m \u001b[49m\u001b[38;5;124;43m\"\u001b[39;49m\u001b[38;5;124;43mdate\u001b[39;49m\u001b[38;5;124;43m\"\u001b[39;49m\u001b[43m]\u001b[49m\u001b[43m,\u001b[49m\n\u001b[0;32m      5\u001b[0m \u001b[43m    \u001b[49m\u001b[43mright_on\u001b[49m\u001b[38;5;241;43m=\u001b[39;49m\u001b[43m[\u001b[49m\u001b[38;5;124;43m\"\u001b[39;49m\u001b[38;5;124;43mgaiia_id\u001b[39;49m\u001b[38;5;124;43m\"\u001b[39;49m\u001b[43m,\u001b[49m\u001b[43m \u001b[49m\u001b[38;5;124;43m\"\u001b[39;49m\u001b[38;5;124;43mactive_date\u001b[39;49m\u001b[38;5;124;43m\"\u001b[39;49m\u001b[43m]\u001b[49m\u001b[43m,\u001b[49m\n\u001b[0;32m      6\u001b[0m \u001b[43m    \u001b[49m\u001b[43mhow\u001b[49m\u001b[38;5;241;43m=\u001b[39;49m\u001b[38;5;124;43m\"\u001b[39;49m\u001b[38;5;124;43mleft\u001b[39;49m\u001b[38;5;124;43m\"\u001b[39;49m\n\u001b[0;32m      7\u001b[0m \u001b[43m)\u001b[49m\n\u001b[0;32m      9\u001b[0m \u001b[38;5;66;03m# Drop the temporary active_date column\u001b[39;00m\n\u001b[0;32m     10\u001b[0m df_client_journey \u001b[38;5;241m=\u001b[39m df_client_journey\u001b[38;5;241m.\u001b[39mdrop(columns\u001b[38;5;241m=\u001b[39m[\u001b[38;5;124m\"\u001b[39m\u001b[38;5;124mactive_date\u001b[39m\u001b[38;5;124m\"\u001b[39m])\n",
      "File \u001b[1;32m~\\AppData\\Roaming\\Python\\Python310\\site-packages\\pandas\\core\\frame.py:10093\u001b[0m, in \u001b[0;36mDataFrame.merge\u001b[1;34m(self, right, how, on, left_on, right_on, left_index, right_index, sort, suffixes, copy, indicator, validate)\u001b[0m\n\u001b[0;32m  10074\u001b[0m \u001b[38;5;129m@Substitution\u001b[39m(\u001b[38;5;124m\"\u001b[39m\u001b[38;5;124m\"\u001b[39m)\n\u001b[0;32m  10075\u001b[0m \u001b[38;5;129m@Appender\u001b[39m(_merge_doc, indents\u001b[38;5;241m=\u001b[39m\u001b[38;5;241m2\u001b[39m)\n\u001b[0;32m  10076\u001b[0m \u001b[38;5;28;01mdef\u001b[39;00m \u001b[38;5;21mmerge\u001b[39m(\n\u001b[1;32m   (...)\u001b[0m\n\u001b[0;32m  10089\u001b[0m     validate: \u001b[38;5;28mstr\u001b[39m \u001b[38;5;241m|\u001b[39m \u001b[38;5;28;01mNone\u001b[39;00m \u001b[38;5;241m=\u001b[39m \u001b[38;5;28;01mNone\u001b[39;00m,\n\u001b[0;32m  10090\u001b[0m ) \u001b[38;5;241m-\u001b[39m\u001b[38;5;241m>\u001b[39m DataFrame:\n\u001b[0;32m  10091\u001b[0m     \u001b[38;5;28;01mfrom\u001b[39;00m \u001b[38;5;21;01mpandas\u001b[39;00m\u001b[38;5;21;01m.\u001b[39;00m\u001b[38;5;21;01mcore\u001b[39;00m\u001b[38;5;21;01m.\u001b[39;00m\u001b[38;5;21;01mreshape\u001b[39;00m\u001b[38;5;21;01m.\u001b[39;00m\u001b[38;5;21;01mmerge\u001b[39;00m \u001b[38;5;28;01mimport\u001b[39;00m merge\n\u001b[1;32m> 10093\u001b[0m     \u001b[38;5;28;01mreturn\u001b[39;00m \u001b[43mmerge\u001b[49m\u001b[43m(\u001b[49m\n\u001b[0;32m  10094\u001b[0m \u001b[43m        \u001b[49m\u001b[38;5;28;43mself\u001b[39;49m\u001b[43m,\u001b[49m\n\u001b[0;32m  10095\u001b[0m \u001b[43m        \u001b[49m\u001b[43mright\u001b[49m\u001b[43m,\u001b[49m\n\u001b[0;32m  10096\u001b[0m \u001b[43m        \u001b[49m\u001b[43mhow\u001b[49m\u001b[38;5;241;43m=\u001b[39;49m\u001b[43mhow\u001b[49m\u001b[43m,\u001b[49m\n\u001b[0;32m  10097\u001b[0m \u001b[43m        \u001b[49m\u001b[43mon\u001b[49m\u001b[38;5;241;43m=\u001b[39;49m\u001b[43mon\u001b[49m\u001b[43m,\u001b[49m\n\u001b[0;32m  10098\u001b[0m \u001b[43m        \u001b[49m\u001b[43mleft_on\u001b[49m\u001b[38;5;241;43m=\u001b[39;49m\u001b[43mleft_on\u001b[49m\u001b[43m,\u001b[49m\n\u001b[0;32m  10099\u001b[0m \u001b[43m        \u001b[49m\u001b[43mright_on\u001b[49m\u001b[38;5;241;43m=\u001b[39;49m\u001b[43mright_on\u001b[49m\u001b[43m,\u001b[49m\n\u001b[0;32m  10100\u001b[0m \u001b[43m        \u001b[49m\u001b[43mleft_index\u001b[49m\u001b[38;5;241;43m=\u001b[39;49m\u001b[43mleft_index\u001b[49m\u001b[43m,\u001b[49m\n\u001b[0;32m  10101\u001b[0m \u001b[43m        \u001b[49m\u001b[43mright_index\u001b[49m\u001b[38;5;241;43m=\u001b[39;49m\u001b[43mright_index\u001b[49m\u001b[43m,\u001b[49m\n\u001b[0;32m  10102\u001b[0m \u001b[43m        \u001b[49m\u001b[43msort\u001b[49m\u001b[38;5;241;43m=\u001b[39;49m\u001b[43msort\u001b[49m\u001b[43m,\u001b[49m\n\u001b[0;32m  10103\u001b[0m \u001b[43m        \u001b[49m\u001b[43msuffixes\u001b[49m\u001b[38;5;241;43m=\u001b[39;49m\u001b[43msuffixes\u001b[49m\u001b[43m,\u001b[49m\n\u001b[0;32m  10104\u001b[0m \u001b[43m        \u001b[49m\u001b[43mcopy\u001b[49m\u001b[38;5;241;43m=\u001b[39;49m\u001b[43mcopy\u001b[49m\u001b[43m,\u001b[49m\n\u001b[0;32m  10105\u001b[0m \u001b[43m        \u001b[49m\u001b[43mindicator\u001b[49m\u001b[38;5;241;43m=\u001b[39;49m\u001b[43mindicator\u001b[49m\u001b[43m,\u001b[49m\n\u001b[0;32m  10106\u001b[0m \u001b[43m        \u001b[49m\u001b[43mvalidate\u001b[49m\u001b[38;5;241;43m=\u001b[39;49m\u001b[43mvalidate\u001b[49m\u001b[43m,\u001b[49m\n\u001b[0;32m  10107\u001b[0m \u001b[43m    \u001b[49m\u001b[43m)\u001b[49m\n",
      "File \u001b[1;32m~\\AppData\\Roaming\\Python\\Python310\\site-packages\\pandas\\core\\reshape\\merge.py:110\u001b[0m, in \u001b[0;36mmerge\u001b[1;34m(left, right, how, on, left_on, right_on, left_index, right_index, sort, suffixes, copy, indicator, validate)\u001b[0m\n\u001b[0;32m     93\u001b[0m \u001b[38;5;129m@Substitution\u001b[39m(\u001b[38;5;124m\"\u001b[39m\u001b[38;5;130;01m\\n\u001b[39;00m\u001b[38;5;124mleft : DataFrame or named Series\u001b[39m\u001b[38;5;124m\"\u001b[39m)\n\u001b[0;32m     94\u001b[0m \u001b[38;5;129m@Appender\u001b[39m(_merge_doc, indents\u001b[38;5;241m=\u001b[39m\u001b[38;5;241m0\u001b[39m)\n\u001b[0;32m     95\u001b[0m \u001b[38;5;28;01mdef\u001b[39;00m \u001b[38;5;21mmerge\u001b[39m(\n\u001b[1;32m   (...)\u001b[0m\n\u001b[0;32m    108\u001b[0m     validate: \u001b[38;5;28mstr\u001b[39m \u001b[38;5;241m|\u001b[39m \u001b[38;5;28;01mNone\u001b[39;00m \u001b[38;5;241m=\u001b[39m \u001b[38;5;28;01mNone\u001b[39;00m,\n\u001b[0;32m    109\u001b[0m ) \u001b[38;5;241m-\u001b[39m\u001b[38;5;241m>\u001b[39m DataFrame:\n\u001b[1;32m--> 110\u001b[0m     op \u001b[38;5;241m=\u001b[39m \u001b[43m_MergeOperation\u001b[49m\u001b[43m(\u001b[49m\n\u001b[0;32m    111\u001b[0m \u001b[43m        \u001b[49m\u001b[43mleft\u001b[49m\u001b[43m,\u001b[49m\n\u001b[0;32m    112\u001b[0m \u001b[43m        \u001b[49m\u001b[43mright\u001b[49m\u001b[43m,\u001b[49m\n\u001b[0;32m    113\u001b[0m \u001b[43m        \u001b[49m\u001b[43mhow\u001b[49m\u001b[38;5;241;43m=\u001b[39;49m\u001b[43mhow\u001b[49m\u001b[43m,\u001b[49m\n\u001b[0;32m    114\u001b[0m \u001b[43m        \u001b[49m\u001b[43mon\u001b[49m\u001b[38;5;241;43m=\u001b[39;49m\u001b[43mon\u001b[49m\u001b[43m,\u001b[49m\n\u001b[0;32m    115\u001b[0m \u001b[43m        \u001b[49m\u001b[43mleft_on\u001b[49m\u001b[38;5;241;43m=\u001b[39;49m\u001b[43mleft_on\u001b[49m\u001b[43m,\u001b[49m\n\u001b[0;32m    116\u001b[0m \u001b[43m        \u001b[49m\u001b[43mright_on\u001b[49m\u001b[38;5;241;43m=\u001b[39;49m\u001b[43mright_on\u001b[49m\u001b[43m,\u001b[49m\n\u001b[0;32m    117\u001b[0m \u001b[43m        \u001b[49m\u001b[43mleft_index\u001b[49m\u001b[38;5;241;43m=\u001b[39;49m\u001b[43mleft_index\u001b[49m\u001b[43m,\u001b[49m\n\u001b[0;32m    118\u001b[0m \u001b[43m        \u001b[49m\u001b[43mright_index\u001b[49m\u001b[38;5;241;43m=\u001b[39;49m\u001b[43mright_index\u001b[49m\u001b[43m,\u001b[49m\n\u001b[0;32m    119\u001b[0m \u001b[43m        \u001b[49m\u001b[43msort\u001b[49m\u001b[38;5;241;43m=\u001b[39;49m\u001b[43msort\u001b[49m\u001b[43m,\u001b[49m\n\u001b[0;32m    120\u001b[0m \u001b[43m        \u001b[49m\u001b[43msuffixes\u001b[49m\u001b[38;5;241;43m=\u001b[39;49m\u001b[43msuffixes\u001b[49m\u001b[43m,\u001b[49m\n\u001b[0;32m    121\u001b[0m \u001b[43m        \u001b[49m\u001b[43mindicator\u001b[49m\u001b[38;5;241;43m=\u001b[39;49m\u001b[43mindicator\u001b[49m\u001b[43m,\u001b[49m\n\u001b[0;32m    122\u001b[0m \u001b[43m        \u001b[49m\u001b[43mvalidate\u001b[49m\u001b[38;5;241;43m=\u001b[39;49m\u001b[43mvalidate\u001b[49m\u001b[43m,\u001b[49m\n\u001b[0;32m    123\u001b[0m \u001b[43m    \u001b[49m\u001b[43m)\u001b[49m\n\u001b[0;32m    124\u001b[0m     \u001b[38;5;28;01mreturn\u001b[39;00m op\u001b[38;5;241m.\u001b[39mget_result(copy\u001b[38;5;241m=\u001b[39mcopy)\n",
      "File \u001b[1;32m~\\AppData\\Roaming\\Python\\Python310\\site-packages\\pandas\\core\\reshape\\merge.py:703\u001b[0m, in \u001b[0;36m_MergeOperation.__init__\u001b[1;34m(self, left, right, how, on, left_on, right_on, axis, left_index, right_index, sort, suffixes, indicator, validate)\u001b[0m\n\u001b[0;32m    696\u001b[0m \u001b[38;5;28mself\u001b[39m\u001b[38;5;241m.\u001b[39m_cross \u001b[38;5;241m=\u001b[39m cross_col\n\u001b[0;32m    698\u001b[0m \u001b[38;5;66;03m# note this function has side effects\u001b[39;00m\n\u001b[0;32m    699\u001b[0m (\n\u001b[0;32m    700\u001b[0m     \u001b[38;5;28mself\u001b[39m\u001b[38;5;241m.\u001b[39mleft_join_keys,\n\u001b[0;32m    701\u001b[0m     \u001b[38;5;28mself\u001b[39m\u001b[38;5;241m.\u001b[39mright_join_keys,\n\u001b[0;32m    702\u001b[0m     \u001b[38;5;28mself\u001b[39m\u001b[38;5;241m.\u001b[39mjoin_names,\n\u001b[1;32m--> 703\u001b[0m ) \u001b[38;5;241m=\u001b[39m \u001b[38;5;28;43mself\u001b[39;49m\u001b[38;5;241;43m.\u001b[39;49m\u001b[43m_get_merge_keys\u001b[49m\u001b[43m(\u001b[49m\u001b[43m)\u001b[49m\n\u001b[0;32m    705\u001b[0m \u001b[38;5;66;03m# validate the merge keys dtypes. We may need to coerce\u001b[39;00m\n\u001b[0;32m    706\u001b[0m \u001b[38;5;66;03m# to avoid incompatible dtypes\u001b[39;00m\n\u001b[0;32m    707\u001b[0m \u001b[38;5;28mself\u001b[39m\u001b[38;5;241m.\u001b[39m_maybe_coerce_merge_keys()\n",
      "File \u001b[1;32m~\\AppData\\Roaming\\Python\\Python310\\site-packages\\pandas\\core\\reshape\\merge.py:1162\u001b[0m, in \u001b[0;36m_MergeOperation._get_merge_keys\u001b[1;34m(self)\u001b[0m\n\u001b[0;32m   1160\u001b[0m rk \u001b[38;5;241m=\u001b[39m cast(Hashable, rk)\n\u001b[0;32m   1161\u001b[0m \u001b[38;5;28;01mif\u001b[39;00m rk \u001b[38;5;129;01mis\u001b[39;00m \u001b[38;5;129;01mnot\u001b[39;00m \u001b[38;5;28;01mNone\u001b[39;00m:\n\u001b[1;32m-> 1162\u001b[0m     right_keys\u001b[38;5;241m.\u001b[39mappend(\u001b[43mright\u001b[49m\u001b[38;5;241;43m.\u001b[39;49m\u001b[43m_get_label_or_level_values\u001b[49m\u001b[43m(\u001b[49m\u001b[43mrk\u001b[49m\u001b[43m)\u001b[49m)\n\u001b[0;32m   1163\u001b[0m \u001b[38;5;28;01melse\u001b[39;00m:\n\u001b[0;32m   1164\u001b[0m     \u001b[38;5;66;03m# work-around for merge_asof(right_index=True)\u001b[39;00m\n\u001b[0;32m   1165\u001b[0m     right_keys\u001b[38;5;241m.\u001b[39mappend(right\u001b[38;5;241m.\u001b[39mindex)\n",
      "File \u001b[1;32m~\\AppData\\Roaming\\Python\\Python310\\site-packages\\pandas\\core\\generic.py:1850\u001b[0m, in \u001b[0;36mNDFrame._get_label_or_level_values\u001b[1;34m(self, key, axis)\u001b[0m\n\u001b[0;32m   1844\u001b[0m     values \u001b[38;5;241m=\u001b[39m (\n\u001b[0;32m   1845\u001b[0m         \u001b[38;5;28mself\u001b[39m\u001b[38;5;241m.\u001b[39maxes[axis]\n\u001b[0;32m   1846\u001b[0m         \u001b[38;5;241m.\u001b[39mget_level_values(key)  \u001b[38;5;66;03m# type: ignore[assignment]\u001b[39;00m\n\u001b[0;32m   1847\u001b[0m         \u001b[38;5;241m.\u001b[39m_values\n\u001b[0;32m   1848\u001b[0m     )\n\u001b[0;32m   1849\u001b[0m \u001b[38;5;28;01melse\u001b[39;00m:\n\u001b[1;32m-> 1850\u001b[0m     \u001b[38;5;28;01mraise\u001b[39;00m \u001b[38;5;167;01mKeyError\u001b[39;00m(key)\n\u001b[0;32m   1852\u001b[0m \u001b[38;5;66;03m# Check for duplicates\u001b[39;00m\n\u001b[0;32m   1853\u001b[0m \u001b[38;5;28;01mif\u001b[39;00m values\u001b[38;5;241m.\u001b[39mndim \u001b[38;5;241m>\u001b[39m \u001b[38;5;241m1\u001b[39m:\n",
      "\u001b[1;31mKeyError\u001b[0m: 'gaiia_id'"
     ]
    }
   ],
   "source": [
    "# Merge subscription durations with df_client_journey\n",
    "df_client_journey = df_client_journey.merge(\n",
    "    subscription_durations,\n",
    "    left_on=[\"gaiia_id\", \"date\"],\n",
    "    right_on=[\"gaiia_id\", \"active_date\"],\n",
    "    how=\"left\"\n",
    ")\n",
    "\n",
    "# Drop the temporary active_date column\n",
    "df_client_journey = df_client_journey.drop(columns=[\"active_date\"])\n",
    "\n",
    "# Display the updated DataFrame\n",
    "print(df_client_journey.head())"
   ]
  },
  {
   "cell_type": "code",
   "execution_count": 232,
   "metadata": {},
   "outputs": [
    {
     "name": "stdout",
     "output_type": "stream",
     "text": [
      "        gaiia_id                    date     status  churned  \\\n",
      "222939     15103 2024-06-04 13:19:13.952     ACTIVE        0   \n",
      "222940     15103 2024-06-04 13:19:13.952     ACTIVE        0   \n",
      "222941     15103 2024-06-04 13:19:13.952     ACTIVE        0   \n",
      "222942     15103 2024-06-04 13:19:13.952     ACTIVE        0   \n",
      "222943     15103 2024-06-04 13:19:13.952     ACTIVE        0   \n",
      "...          ...                     ...        ...      ...   \n",
      "223164     15103 2024-04-03 03:04:00.691  SUSPENDED        1   \n",
      "223165     15103 2024-04-03 03:04:00.691  SUSPENDED        1   \n",
      "223166     15103 2024-04-03 03:04:00.691  SUSPENDED        1   \n",
      "223167     15103 2024-04-03 03:04:00.691  SUSPENDED        1   \n",
      "223168     15103 2024-04-03 03:04:00.691  SUSPENDED        1   \n",
      "\n",
      "       subscription_duration  \n",
      "222939                    30  \n",
      "222940                     6  \n",
      "222941                     7  \n",
      "222942                    61  \n",
      "222943                    30  \n",
      "...                      ...  \n",
      "223164                    30  \n",
      "223165                    92  \n",
      "223166                    67  \n",
      "223167                    30  \n",
      "223168                    11  \n",
      "\n",
      "[230 rows x 5 columns]\n"
     ]
    }
   ],
   "source": [
    "# Filter for a specific client\n",
    "client_data = df_client_journey[df_client_journey[\"gaiia_id\"] == 15103]\n",
    "\n",
    "# Display the client's data\n",
    "print(client_data[[\"gaiia_id\", \"date\", \"status\", \"churned\", \"subscription_duration\"]])"
   ]
  },
  {
   "cell_type": "code",
   "execution_count": null,
   "metadata": {},
   "outputs": [],
   "source": []
  },
  {
   "cell_type": "code",
   "execution_count": 205,
   "metadata": {},
   "outputs": [
    {
     "data": {
      "text/html": [
       "<div>\n",
       "<style scoped>\n",
       "    .dataframe tbody tr th:only-of-type {\n",
       "        vertical-align: middle;\n",
       "    }\n",
       "\n",
       "    .dataframe tbody tr th {\n",
       "        vertical-align: top;\n",
       "    }\n",
       "\n",
       "    .dataframe thead th {\n",
       "        text-align: right;\n",
       "    }\n",
       "</style>\n",
       "<table border=\"1\" class=\"dataframe\">\n",
       "  <thead>\n",
       "    <tr style=\"text-align: right;\">\n",
       "      <th></th>\n",
       "      <th>id</th>\n",
       "      <th>gaiia_id</th>\n",
       "      <th>status_client</th>\n",
       "      <th>gaiia_status</th>\n",
       "      <th>City</th>\n",
       "      <th>name</th>\n",
       "      <th>created_at</th>\n",
       "      <th>year_client</th>\n",
       "      <th>date</th>\n",
       "      <th>status_journey</th>\n",
       "      <th>year_journey</th>\n",
       "    </tr>\n",
       "  </thead>\n",
       "  <tbody>\n",
       "    <tr>\n",
       "      <th>0</th>\n",
       "      <td>84</td>\n",
       "      <td>15103.0</td>\n",
       "      <td>Instalaciones</td>\n",
       "      <td>ACTIVE</td>\n",
       "      <td>Cartagena</td>\n",
       "      <td>UB NELSON MANDELA SECTOR LAS VEGAS</td>\n",
       "      <td>2023-03-02 15:35:24</td>\n",
       "      <td>2023</td>\n",
       "      <td>2024-06-04 13:19:13.952</td>\n",
       "      <td>ACTIVE</td>\n",
       "      <td>2024</td>\n",
       "    </tr>\n",
       "    <tr>\n",
       "      <th>1</th>\n",
       "      <td>84</td>\n",
       "      <td>15103.0</td>\n",
       "      <td>Instalaciones</td>\n",
       "      <td>ACTIVE</td>\n",
       "      <td>Cartagena</td>\n",
       "      <td>UB NELSON MANDELA SECTOR LAS VEGAS</td>\n",
       "      <td>2023-03-02 15:35:24</td>\n",
       "      <td>2023</td>\n",
       "      <td>2024-03-26 15:03:58.924</td>\n",
       "      <td>SUSPENDED</td>\n",
       "      <td>2024</td>\n",
       "    </tr>\n",
       "  </tbody>\n",
       "</table>\n",
       "</div>"
      ],
      "text/plain": [
       "   id  gaiia_id  status_client gaiia_status       City  \\\n",
       "0  84   15103.0  Instalaciones       ACTIVE  Cartagena   \n",
       "1  84   15103.0  Instalaciones       ACTIVE  Cartagena   \n",
       "\n",
       "                                 name          created_at  year_client  \\\n",
       "0  UB NELSON MANDELA SECTOR LAS VEGAS 2023-03-02 15:35:24         2023   \n",
       "1  UB NELSON MANDELA SECTOR LAS VEGAS 2023-03-02 15:35:24         2023   \n",
       "\n",
       "                     date status_journey  year_journey  \n",
       "0 2024-06-04 13:19:13.952         ACTIVE          2024  \n",
       "1 2024-03-26 15:03:58.924      SUSPENDED          2024  "
      ]
     },
     "metadata": {},
     "output_type": "display_data"
    }
   ],
   "source": [
    "# First lets join the data\n",
    "# Perform inner join on gaiia_id (df_clients + df_client_journey)\n",
    "df_merged = pd.merge(\n",
    "    df_clients,\n",
    "    df_client_journey,\n",
    "    on=\"gaiia_id\",\n",
    "    how=\"inner\",\n",
    "    suffixes=(\"_client\", \"_journey\")\n",
    ")\n",
    "# Display the merged DataFrame\n",
    "display(df_merged.head(2))"
   ]
  },
  {
   "cell_type": "code",
   "execution_count": 206,
   "metadata": {},
   "outputs": [
    {
     "name": "stdout",
     "output_type": "stream",
     "text": [
      "<class 'pandas.core.frame.DataFrame'>\n",
      "Int64Index: 27028143 entries, 0 to 27028142\n",
      "Data columns (total 16 columns):\n",
      " #   Column              Dtype         \n",
      "---  ------              -----         \n",
      " 0   id_client           int64         \n",
      " 1   gaiia_id            float64       \n",
      " 2   status_client       object        \n",
      " 3   gaiia_status        object        \n",
      " 4   City                object        \n",
      " 5   name                object        \n",
      " 6   created_at_client   datetime64[ns]\n",
      " 7   year_client         int64         \n",
      " 8   date                datetime64[ns]\n",
      " 9   status_journey      object        \n",
      " 10  year_journey        int64         \n",
      " 11  id_invoice          int64         \n",
      " 12  created_at_invoice  datetime64[ns]\n",
      " 13  client_id           int64         \n",
      " 14  payment_gateway     object        \n",
      " 15  year                int64         \n",
      "dtypes: datetime64[ns](3), float64(1), int64(6), object(6)\n",
      "memory usage: 3.4+ GB\n"
     ]
    },
    {
     "data": {
      "text/plain": [
       "None"
      ]
     },
     "metadata": {},
     "output_type": "display_data"
    }
   ],
   "source": [
    "# Perform inner join on client_id (df_merged + df_invoice)\n",
    "df_data = pd.merge(\n",
    "    df_merged,\n",
    "    df_invoices,\n",
    "    left_on=\"id\",  \n",
    "    right_on=\"client_id\", \n",
    "    how=\"inner\",\n",
    "    suffixes=(\"_client\", \"_invoice\")\n",
    ")\n",
    "\n",
    "display(df_data.info())"
   ]
  },
  {
   "cell_type": "code",
   "execution_count": 207,
   "metadata": {},
   "outputs": [
    {
     "name": "stdout",
     "output_type": "stream",
     "text": [
      "[   84    88    89 ... 66910 67149 67174]\n"
     ]
    }
   ],
   "source": [
    "print(df_data[\"id_client\"].unique())"
   ]
  },
  {
   "cell_type": "code",
   "execution_count": 223,
   "metadata": {},
   "outputs": [
    {
     "name": "stdout",
     "output_type": "stream",
     "text": [
      "date\n",
      "2023-08-03 23:37:38.510    12\n",
      "2024-07-05 03:17:01.569    12\n",
      "2025-03-01 03:03:55.990    12\n",
      "2025-02-17 22:18:54.728    12\n",
      "2025-02-14 21:04:23.662    12\n",
      "2025-01-14 22:26:46.176    12\n",
      "2025-01-14 13:03:49.135    12\n",
      "2024-11-07 13:26:07.616    12\n",
      "2024-11-06 12:04:11.628    12\n",
      "2024-08-06 01:34:58.059    12\n",
      "2024-08-04 18:06:46.202    12\n",
      "2024-07-05 02:05:42.340    12\n",
      "2023-09-03 08:04:43.124    12\n",
      "2024-06-04 13:19:13.952    12\n",
      "2024-06-03 22:04:41.683    12\n",
      "2024-04-03 12:44:10.620    12\n",
      "2024-04-03 03:04:00.691    12\n",
      "2024-03-26 21:41:00.308    12\n",
      "2024-03-26 15:03:58.924    12\n",
      "2024-03-20 14:09:32.121    12\n",
      "2024-03-14 15:49:31.330    12\n",
      "2023-11-02 17:39:31.201    12\n",
      "2025-03-03 20:00:36.036    12\n",
      "dtype: int64\n"
     ]
    }
   ],
   "source": [
    "print(df_data[df_data[\"id_client\"] == 84].value_counts(\"date\"))"
   ]
  },
  {
   "cell_type": "code",
   "execution_count": 226,
   "metadata": {},
   "outputs": [
    {
     "name": "stdout",
     "output_type": "stream",
     "text": [
      "status\n",
      "ACTIVE       11\n",
      "SUSPENDED    10\n",
      "INACTIVE      1\n",
      "PENDING       1\n",
      "dtype: int64\n"
     ]
    }
   ],
   "source": [
    "print(df_client_journey[df_client_journey[\"gaiia_id\"] == 15103].value_counts(\"status\"))"
   ]
  },
  {
   "cell_type": "code",
   "execution_count": null,
   "metadata": {},
   "outputs": [
    {
     "ename": "ValueError",
     "evalue": "Function did not transform",
     "output_type": "error",
     "traceback": [
      "\u001b[1;31m---------------------------------------------------------------------------\u001b[0m",
      "\u001b[1;31mValueError\u001b[0m                                Traceback (most recent call last)",
      "Cell \u001b[1;32mIn [209], line 2\u001b[0m\n\u001b[0;32m      1\u001b[0m \u001b[38;5;66;03m# Churn\u001b[39;00m\n\u001b[1;32m----> 2\u001b[0m df_data[\u001b[38;5;124m\"\u001b[39m\u001b[38;5;124mchurned\u001b[39m\u001b[38;5;124m\"\u001b[39m] \u001b[38;5;241m=\u001b[39m \u001b[43mdf_data\u001b[49m\u001b[43m[\u001b[49m\u001b[38;5;124;43m\"\u001b[39;49m\u001b[38;5;124;43mstatus_journey\u001b[39;49m\u001b[38;5;124;43m\"\u001b[39;49m\u001b[43m]\u001b[49m\u001b[38;5;241;43m.\u001b[39;49m\u001b[43mtransform\u001b[49m\u001b[43m(\u001b[49m\n\u001b[0;32m      3\u001b[0m \u001b[43m    \u001b[49m\u001b[38;5;28;43;01mlambda\u001b[39;49;00m\u001b[43m \u001b[49m\u001b[43mx\u001b[49m\u001b[43m:\u001b[49m\u001b[43m \u001b[49m\u001b[38;5;241;43m1\u001b[39;49m\u001b[43m \u001b[49m\u001b[38;5;28;43;01mif\u001b[39;49;00m\u001b[43m \u001b[49m\u001b[43m(\u001b[49m\u001b[43mx\u001b[49m\u001b[38;5;241;43m.\u001b[39;49m\u001b[43misin\u001b[49m\u001b[43m(\u001b[49m\u001b[43m[\u001b[49m\u001b[38;5;124;43m\"\u001b[39;49m\u001b[38;5;124;43mSUSPENDED\u001b[39;49m\u001b[38;5;124;43m\"\u001b[39;49m\u001b[43m,\u001b[49m\u001b[43m \u001b[49m\u001b[38;5;124;43m\"\u001b[39;49m\u001b[38;5;124;43mINACTIVE\u001b[39;49m\u001b[38;5;124;43m\"\u001b[39;49m\u001b[43m]\u001b[49m\u001b[43m)\u001b[49m\u001b[38;5;241;43m.\u001b[39;49m\u001b[43msum\u001b[49m\u001b[43m(\u001b[49m\u001b[43m)\u001b[49m\u001b[43m \u001b[49m\u001b[38;5;241;43m>\u001b[39;49m\u001b[43m \u001b[49m\u001b[38;5;241;43m0\u001b[39;49m\u001b[43m)\u001b[49m\u001b[43m \u001b[49m\u001b[38;5;28;43;01melse\u001b[39;49;00m\u001b[43m \u001b[49m\u001b[38;5;241;43m0\u001b[39;49m\n\u001b[0;32m      4\u001b[0m \u001b[43m)\u001b[49m\n",
      "File \u001b[1;32m~\\AppData\\Roaming\\Python\\Python310\\site-packages\\pandas\\core\\series.py:4658\u001b[0m, in \u001b[0;36mSeries.transform\u001b[1;34m(self, func, axis, *args, **kwargs)\u001b[0m\n\u001b[0;32m   4646\u001b[0m \u001b[38;5;129m@doc\u001b[39m(\n\u001b[0;32m   4647\u001b[0m     _shared_docs[\u001b[38;5;124m\"\u001b[39m\u001b[38;5;124mtransform\u001b[39m\u001b[38;5;124m\"\u001b[39m],\n\u001b[0;32m   4648\u001b[0m     klass\u001b[38;5;241m=\u001b[39m_shared_doc_kwargs[\u001b[38;5;124m\"\u001b[39m\u001b[38;5;124mklass\u001b[39m\u001b[38;5;124m\"\u001b[39m],\n\u001b[1;32m   (...)\u001b[0m\n\u001b[0;32m   4653\u001b[0m ) \u001b[38;5;241m-\u001b[39m\u001b[38;5;241m>\u001b[39m DataFrame \u001b[38;5;241m|\u001b[39m Series:\n\u001b[0;32m   4654\u001b[0m     \u001b[38;5;66;03m# Validate axis argument\u001b[39;00m\n\u001b[0;32m   4655\u001b[0m     \u001b[38;5;28mself\u001b[39m\u001b[38;5;241m.\u001b[39m_get_axis_number(axis)\n\u001b[0;32m   4656\u001b[0m     result \u001b[38;5;241m=\u001b[39m \u001b[43mSeriesApply\u001b[49m\u001b[43m(\u001b[49m\n\u001b[0;32m   4657\u001b[0m \u001b[43m        \u001b[49m\u001b[38;5;28;43mself\u001b[39;49m\u001b[43m,\u001b[49m\u001b[43m \u001b[49m\u001b[43mfunc\u001b[49m\u001b[38;5;241;43m=\u001b[39;49m\u001b[43mfunc\u001b[49m\u001b[43m,\u001b[49m\u001b[43m \u001b[49m\u001b[43mconvert_dtype\u001b[49m\u001b[38;5;241;43m=\u001b[39;49m\u001b[38;5;28;43;01mTrue\u001b[39;49;00m\u001b[43m,\u001b[49m\u001b[43m \u001b[49m\u001b[43margs\u001b[49m\u001b[38;5;241;43m=\u001b[39;49m\u001b[43margs\u001b[49m\u001b[43m,\u001b[49m\u001b[43m \u001b[49m\u001b[43mkwargs\u001b[49m\u001b[38;5;241;43m=\u001b[39;49m\u001b[43mkwargs\u001b[49m\n\u001b[1;32m-> 4658\u001b[0m \u001b[43m    \u001b[49m\u001b[43m)\u001b[49m\u001b[38;5;241;43m.\u001b[39;49m\u001b[43mtransform\u001b[49m\u001b[43m(\u001b[49m\u001b[43m)\u001b[49m\n\u001b[0;32m   4659\u001b[0m     \u001b[38;5;28;01mreturn\u001b[39;00m result\n",
      "File \u001b[1;32m~\\AppData\\Roaming\\Python\\Python310\\site-packages\\pandas\\core\\apply.py:256\u001b[0m, in \u001b[0;36mApply.transform\u001b[1;34m(self)\u001b[0m\n\u001b[0;32m    249\u001b[0m \u001b[38;5;66;03m# error: Argument 1 to \"__get__\" of \"AxisProperty\" has incompatible type\u001b[39;00m\n\u001b[0;32m    250\u001b[0m \u001b[38;5;66;03m# \"Union[Series, DataFrame, GroupBy[Any], SeriesGroupBy,\u001b[39;00m\n\u001b[0;32m    251\u001b[0m \u001b[38;5;66;03m# DataFrameGroupBy, BaseWindow, Resampler]\"; expected \"Union[DataFrame,\u001b[39;00m\n\u001b[0;32m    252\u001b[0m \u001b[38;5;66;03m# Series]\"\u001b[39;00m\n\u001b[0;32m    253\u001b[0m \u001b[38;5;28;01mif\u001b[39;00m \u001b[38;5;129;01mnot\u001b[39;00m \u001b[38;5;28misinstance\u001b[39m(result, (ABCSeries, ABCDataFrame)) \u001b[38;5;129;01mor\u001b[39;00m \u001b[38;5;129;01mnot\u001b[39;00m result\u001b[38;5;241m.\u001b[39mindex\u001b[38;5;241m.\u001b[39mequals(\n\u001b[0;32m    254\u001b[0m     obj\u001b[38;5;241m.\u001b[39mindex  \u001b[38;5;66;03m# type:ignore[arg-type]\u001b[39;00m\n\u001b[0;32m    255\u001b[0m ):\n\u001b[1;32m--> 256\u001b[0m     \u001b[38;5;28;01mraise\u001b[39;00m \u001b[38;5;167;01mValueError\u001b[39;00m(\u001b[38;5;124m\"\u001b[39m\u001b[38;5;124mFunction did not transform\u001b[39m\u001b[38;5;124m\"\u001b[39m)\n\u001b[0;32m    258\u001b[0m \u001b[38;5;28;01mreturn\u001b[39;00m result\n",
      "\u001b[1;31mValueError\u001b[0m: Function did not transform"
     ]
    }
   ],
   "source": [
    "# Churn\n",
    "df_data[\"churned\"] = df_data.groupby(\"id_client\")[\"status_journey\"].transform(\n",
    "    lambda x: 1 if (x.isin([\"SUSPENDED\", \"INACTIVE\"]).sum() > 0) else 0\n",
    ")"
   ]
  },
  {
   "cell_type": "code",
   "execution_count": null,
   "metadata": {},
   "outputs": [],
   "source": [
    "# Churn\n"
   ]
  },
  {
   "cell_type": "code",
   "execution_count": null,
   "metadata": {},
   "outputs": [],
   "source": [
    "# New Clients\n"
   ]
  },
  {
   "cell_type": "code",
   "execution_count": null,
   "metadata": {},
   "outputs": [],
   "source": [
    "## Time-features\n",
    "\n",
    "df_clients[\"year\"] = df_clients[\"created_at\"].dt.year\n",
    "df_clients[\"month\"] = df_clients[\"created_at\"].dt.month\n",
    "df_clients[\"weekday\"] = df_clients[\"created_at\"].dt.weekday\n",
    "\n",
    "df_clients[\"week_number\"] = df_clients[\"created_at\"].dt.isocalendar().week\n",
    "\n",
    "# Create 'year_week' column by concatenating year and week number\n",
    "df_clients[\"year_week\"] = df_clients[\"year\"].astype(str) + \"_\" + df_clients[\"week_number\"].astype(str)\n",
    "\n",
    "display(\n",
    "    df_clients.info()\n",
    ")"
   ]
  },
  {
   "cell_type": "code",
   "execution_count": 122,
   "metadata": {},
   "outputs": [
    {
     "data": {
      "image/png": "[encoded data removed]",
      "text/plain": [
       "<Figure size 640x480 with 1 Axes>"
      ]
     },
     "metadata": {},
     "output_type": "display_data"
    }
   ],
   "source": [
    "# Import the required visualization libraries\n",
    "import seaborn as sns\n",
    "import matplotlib.pyplot as plt\n",
    "\n",
    "# Create a histogram of 2021 unemployment; show a full percent in each bin\n",
    "sns.histplot(data=df_merged, y=\"status_journey\", binwidth=1)\n",
    "plt.show()"
   ]
  },
  {
   "cell_type": "code",
   "execution_count": 123,
   "metadata": {},
   "outputs": [
    {
     "data": {
      "image/png": "[encoded data removed]",
      "text/plain": [
       "<Figure size 640x480 with 1 Axes>"
      ]
     },
     "metadata": {},
     "output_type": "display_data"
    }
   ],
   "source": [
    "# Import the required visualization libraries\n",
    "import seaborn as sns\n",
    "import matplotlib.pyplot as plt\n",
    "\n",
    "# Create a histogram of 2021 unemployment; show a full percent in each bin\n",
    "sns.histplot(data=df_invoices, y=\"payment_gateway\", binwidth=1)\n",
    "plt.show()"
   ]
  },
  {
   "cell_type": "code",
   "execution_count": 129,
   "metadata": {},
   "outputs": [
    {
     "name": "stdout",
     "output_type": "stream",
     "text": [
      "         id          created_at  client_id payment_gateway  year\n",
      "888   13723 2024-05-03 13:04:19      11633           NEQUI  2024\n",
      "1175  13929 2024-05-04 00:42:57       5862           NEQUI  2024\n",
      "938   14032 2024-05-03 15:56:42      11855           NEQUI  2024\n",
      "1006  14077 2024-05-03 18:28:38       6989           NEQUI  2024\n",
      "2     14180 2024-05-01 00:13:57      11289     SUPER_GIROS  2024\n",
      "<class 'pandas.core.frame.DataFrame'>\n",
      "Int64Index: 424464 entries, 888 to 424463\n",
      "Data columns (total 5 columns):\n",
      " #   Column           Non-Null Count   Dtype         \n",
      "---  ------           --------------   -----         \n",
      " 0   id               424464 non-null  int64         \n",
      " 1   created_at       424464 non-null  datetime64[ns]\n",
      " 2   client_id        424464 non-null  int64         \n",
      " 3   payment_gateway  424464 non-null  object        \n",
      " 4   year             424464 non-null  int64         \n",
      "dtypes: datetime64[ns](1), int64(3), object(1)\n",
      "memory usage: 19.4+ MB\n"
     ]
    },
    {
     "data": {
      "text/plain": [
       "None"
      ]
     },
     "metadata": {},
     "output_type": "display_data"
    },
    {
     "data": {
      "text/plain": [
       "payment_gateway\n",
       "NEQUI                    397146\n",
       "SUPER_GIROS               22355\n",
       "MERCADO_PAGO_TRANSFER      2726\n",
       "GIFT                       1949\n",
       "PAYVALIDA_TRANSFER          288\n",
       "dtype: int64"
      ]
     },
     "metadata": {},
     "output_type": "display_data"
    }
   ],
   "source": [
    "print(\n",
    "    df_invoices.head(5)\n",
    ")\n",
    "display(\n",
    "    df_invoices.info()\n",
    ")\n",
    "display(\n",
    "    df_invoices.value_counts(\"payment_gateway\")\n",
    ")\n"
   ]
  }
 ],
 "metadata": {
  "kernelspec": {
   "display_name": "Python 3",
   "language": "python",
   "name": "python3"
  },
  "language_info": {
   "codemirror_mode": {
    "name": "ipython",
    "version": 3
   },
   "file_extension": ".py",
   "mimetype": "text/x-python",
   "name": "python",
   "nbconvert_exporter": "python",
   "pygments_lexer": "ipython3",
   "version": "3.10.0"
  }
 },
 "nbformat": 4,
 "nbformat_minor": 2
}
