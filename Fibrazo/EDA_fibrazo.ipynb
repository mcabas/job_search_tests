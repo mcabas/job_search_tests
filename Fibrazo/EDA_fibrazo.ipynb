{
 "cells": [
  {
   "cell_type": "markdown",
   "metadata": {},
   "source": [
    "Step 1. Importing data"
   ]
  },
  {
   "cell_type": "code",
   "execution_count": 7,
   "metadata": {},
   "outputs": [
    {
     "name": "stdout",
     "output_type": "stream",
     "text": [
      "      id  gaiia_id         status gaiia_status          City          name  \\\n",
      "0  54213   57771.0  Instalaciones       ACTIVE  Barranquilla  SANTODOMINGO   \n",
      "1  69104   71312.0  Instalaciones       ACTIVE  Barranquilla      CARRIZAL   \n",
      "2  16311   24969.0  Instalaciones    SUSPENDED     Cartagena    VILLA ROSA   \n",
      "3  68472   70721.0  Instalaciones       ACTIVE  Barranquilla   SANTA MARIA   \n",
      "4  15285   24147.0  Instalaciones       ACTIVE     Cartagena    VILLA ROSA   \n",
      "\n",
      "                created_at  \n",
      "0  2025-01-14 12:10:45.000  \n",
      "1  2025-03-12 17:00:00.000  \n",
      "2  2024-06-06 14:51:15.000  \n",
      "3  2025-03-10 17:00:00.000  \n",
      "4  2024-05-27 21:21:40.000  \n"
     ]
    }
   ],
   "source": [
    "# read_csv function\n",
    "\n",
    "import os\n",
    "import pandas as pd\n",
    "folder_name = 'Fibrazo'\n",
    "dir = r'C:\\Users\\mcaba\\OneDrive\\Escritorio\\Data Science\\Company test\\Company-test\\{}'.format(folder_name)\n",
    "\n",
    "def read_csv_fun(folder_name,file_name, path):\n",
    "    path = dir\n",
    "    os.chdir(path)\n",
    "    df = pd.read_csv('{}.csv'.format(file_name), sep=',', low_memory=False, on_bad_lines='skip')\n",
    "    return df\n",
    "\n",
    "df_clients = read_csv_fun('Fibrazo','clients', dir)\n",
    "print(df_clients.head(5))"
   ]
  },
  {
   "cell_type": "code",
   "execution_count": 9,
   "metadata": {},
   "outputs": [
    {
     "name": "stdout",
     "output_type": "stream",
     "text": [
      "   gaiia_id                     date          status\n",
      "0     15332  2023-07-31 05:24:36.783       SUSPENDED\n",
      "1     17155  2023-07-31 05:24:37.897  SUSPENDED-LEAD\n",
      "2     16629  2023-07-31 05:24:38.540  SUSPENDED-LEAD\n",
      "3     16987  2023-07-31 05:24:39.609       SUSPENDED\n",
      "4     16609  2023-07-31 05:24:40.071       SUSPENDED\n",
      "      id               created_at  client_id payment_gateway\n",
      "0  14183  2024-05-01 00:04:24.000       5688           NEQUI\n",
      "1  14190  2024-05-01 00:07:08.000       8628           NEQUI\n",
      "2  14180  2024-05-01 00:13:57.000      11289     SUPER_GIROS\n",
      "3  14184  2024-05-01 00:24:50.000       6757     SUPER_GIROS\n",
      "4  14185  2024-05-01 00:26:05.000       7607     SUPER_GIROS\n"
     ]
    }
   ],
   "source": [
    "df_client_journey = read_csv_fun('Fibrazo','client_journey', dir)\n",
    "print(df_client_journey.head(5))\n",
    "\n",
    "df_invoices = read_csv_fun('Fibrazo','invoices', dir)\n",
    "print(df_invoices.head(5))"
   ]
  },
  {
   "cell_type": "code",
   "execution_count": 21,
   "metadata": {},
   "outputs": [
    {
     "data": {
      "text/html": [
       "<div>\n",
       "<style scoped>\n",
       "    .dataframe tbody tr th:only-of-type {\n",
       "        vertical-align: middle;\n",
       "    }\n",
       "\n",
       "    .dataframe tbody tr th {\n",
       "        vertical-align: top;\n",
       "    }\n",
       "\n",
       "    .dataframe thead th {\n",
       "        text-align: right;\n",
       "    }\n",
       "</style>\n",
       "<table border=\"1\" class=\"dataframe\">\n",
       "  <thead>\n",
       "    <tr style=\"text-align: right;\">\n",
       "      <th></th>\n",
       "      <th>id</th>\n",
       "      <th>gaiia_id</th>\n",
       "      <th>status</th>\n",
       "      <th>gaiia_status</th>\n",
       "      <th>City</th>\n",
       "      <th>name</th>\n",
       "      <th>created_at</th>\n",
       "    </tr>\n",
       "  </thead>\n",
       "  <tbody>\n",
       "    <tr>\n",
       "      <th>0</th>\n",
       "      <td>54213</td>\n",
       "      <td>57771.0</td>\n",
       "      <td>Instalaciones</td>\n",
       "      <td>ACTIVE</td>\n",
       "      <td>Barranquilla</td>\n",
       "      <td>SANTODOMINGO</td>\n",
       "      <td>2025-01-14 12:10:45.000</td>\n",
       "    </tr>\n",
       "    <tr>\n",
       "      <th>1</th>\n",
       "      <td>69104</td>\n",
       "      <td>71312.0</td>\n",
       "      <td>Instalaciones</td>\n",
       "      <td>ACTIVE</td>\n",
       "      <td>Barranquilla</td>\n",
       "      <td>CARRIZAL</td>\n",
       "      <td>2025-03-12 17:00:00.000</td>\n",
       "    </tr>\n",
       "    <tr>\n",
       "      <th>2</th>\n",
       "      <td>16311</td>\n",
       "      <td>24969.0</td>\n",
       "      <td>Instalaciones</td>\n",
       "      <td>SUSPENDED</td>\n",
       "      <td>Cartagena</td>\n",
       "      <td>VILLA ROSA</td>\n",
       "      <td>2024-06-06 14:51:15.000</td>\n",
       "    </tr>\n",
       "    <tr>\n",
       "      <th>3</th>\n",
       "      <td>68472</td>\n",
       "      <td>70721.0</td>\n",
       "      <td>Instalaciones</td>\n",
       "      <td>ACTIVE</td>\n",
       "      <td>Barranquilla</td>\n",
       "      <td>SANTA MARIA</td>\n",
       "      <td>2025-03-10 17:00:00.000</td>\n",
       "    </tr>\n",
       "    <tr>\n",
       "      <th>4</th>\n",
       "      <td>15285</td>\n",
       "      <td>24147.0</td>\n",
       "      <td>Instalaciones</td>\n",
       "      <td>ACTIVE</td>\n",
       "      <td>Cartagena</td>\n",
       "      <td>VILLA ROSA</td>\n",
       "      <td>2024-05-27 21:21:40.000</td>\n",
       "    </tr>\n",
       "  </tbody>\n",
       "</table>\n",
       "</div>"
      ],
      "text/plain": [
       "      id  gaiia_id         status gaiia_status          City          name  \\\n",
       "0  54213   57771.0  Instalaciones       ACTIVE  Barranquilla  SANTODOMINGO   \n",
       "1  69104   71312.0  Instalaciones       ACTIVE  Barranquilla      CARRIZAL   \n",
       "2  16311   24969.0  Instalaciones    SUSPENDED     Cartagena    VILLA ROSA   \n",
       "3  68472   70721.0  Instalaciones       ACTIVE  Barranquilla   SANTA MARIA   \n",
       "4  15285   24147.0  Instalaciones       ACTIVE     Cartagena    VILLA ROSA   \n",
       "\n",
       "                created_at  \n",
       "0  2025-01-14 12:10:45.000  \n",
       "1  2025-03-12 17:00:00.000  \n",
       "2  2024-06-06 14:51:15.000  \n",
       "3  2025-03-10 17:00:00.000  \n",
       "4  2024-05-27 21:21:40.000  "
      ]
     },
     "metadata": {},
     "output_type": "display_data"
    },
    {
     "name": "stdout",
     "output_type": "stream",
     "text": [
      "id              0\n",
      "gaiia_id        1\n",
      "status          0\n",
      "gaiia_status    0\n",
      "City            0\n",
      "name            0\n",
      "created_at      0\n",
      "dtype: int64\n"
     ]
    },
    {
     "data": {
      "text/plain": [
       "None"
      ]
     },
     "metadata": {},
     "output_type": "display_data"
    },
    {
     "name": "stdout",
     "output_type": "stream",
     "text": [
      "48591\n"
     ]
    },
    {
     "data": {
      "text/plain": [
       "None"
      ]
     },
     "metadata": {},
     "output_type": "display_data"
    },
    {
     "name": "stdout",
     "output_type": "stream",
     "text": [
      "<class 'pandas.core.frame.DataFrame'>\n",
      "RangeIndex: 48591 entries, 0 to 48590\n",
      "Data columns (total 7 columns):\n",
      " #   Column        Non-Null Count  Dtype  \n",
      "---  ------        --------------  -----  \n",
      " 0   id            48591 non-null  int64  \n",
      " 1   gaiia_id      48590 non-null  float64\n",
      " 2   status        48591 non-null  object \n",
      " 3   gaiia_status  48591 non-null  object \n",
      " 4   City          48591 non-null  object \n",
      " 5   name          48591 non-null  object \n",
      " 6   created_at    48591 non-null  object \n",
      "dtypes: float64(1), int64(1), object(5)\n",
      "memory usage: 2.6+ MB\n"
     ]
    },
    {
     "data": {
      "text/plain": [
       "None"
      ]
     },
     "metadata": {},
     "output_type": "display_data"
    },
    {
     "data": {
      "text/plain": [
       "status\n",
       "Instalaciones    48298\n",
       "Ventas             293\n",
       "dtype: int64"
      ]
     },
     "metadata": {},
     "output_type": "display_data"
    },
    {
     "data": {
      "text/plain": [
       "gaiia_status\n",
       "ACTIVE       30012\n",
       "SUSPENDED    12109\n",
       "INACTIVE      6118\n",
       "PENDING        352\n",
       "dtype: int64"
      ]
     },
     "metadata": {},
     "output_type": "display_data"
    },
    {
     "data": {
      "text/plain": [
       "City\n",
       "Cartagena       36771\n",
       "Barranquilla    11820\n",
       "dtype: int64"
      ]
     },
     "metadata": {},
     "output_type": "display_data"
    }
   ],
   "source": [
    "display(\n",
    "    df_clients.head(5)\n",
    ")\n",
    "\n",
    "display(\n",
    "    print(df_clients.isna().sum())\n",
    "    )\n",
    "\n",
    "display(\n",
    "    print(len(df_clients))\n",
    "    )\n",
    "\n",
    "display(\n",
    "    df_clients.info()\n",
    ")\n",
    "\n",
    "display(\n",
    "    df_clients.value_counts(\"status\")\n",
    ")\n",
    "\n",
    "display(\n",
    "    df_clients.value_counts(\"gaiia_status\")\n",
    ")\n",
    "\n",
    "display(\n",
    "    df_clients.value_counts(\"City\")\n",
    ")\n"
   ]
  },
  {
   "cell_type": "code",
   "execution_count": 22,
   "metadata": {},
   "outputs": [
    {
     "data": {
      "text/html": [
       "<div>\n",
       "<style scoped>\n",
       "    .dataframe tbody tr th:only-of-type {\n",
       "        vertical-align: middle;\n",
       "    }\n",
       "\n",
       "    .dataframe tbody tr th {\n",
       "        vertical-align: top;\n",
       "    }\n",
       "\n",
       "    .dataframe thead th {\n",
       "        text-align: right;\n",
       "    }\n",
       "</style>\n",
       "<table border=\"1\" class=\"dataframe\">\n",
       "  <thead>\n",
       "    <tr style=\"text-align: right;\">\n",
       "      <th></th>\n",
       "      <th>gaiia_id</th>\n",
       "      <th>date</th>\n",
       "      <th>status</th>\n",
       "    </tr>\n",
       "  </thead>\n",
       "  <tbody>\n",
       "    <tr>\n",
       "      <th>0</th>\n",
       "      <td>15332</td>\n",
       "      <td>2023-07-31 05:24:36.783</td>\n",
       "      <td>SUSPENDED</td>\n",
       "    </tr>\n",
       "    <tr>\n",
       "      <th>1</th>\n",
       "      <td>17155</td>\n",
       "      <td>2023-07-31 05:24:37.897</td>\n",
       "      <td>SUSPENDED-LEAD</td>\n",
       "    </tr>\n",
       "    <tr>\n",
       "      <th>2</th>\n",
       "      <td>16629</td>\n",
       "      <td>2023-07-31 05:24:38.540</td>\n",
       "      <td>SUSPENDED-LEAD</td>\n",
       "    </tr>\n",
       "    <tr>\n",
       "      <th>3</th>\n",
       "      <td>16987</td>\n",
       "      <td>2023-07-31 05:24:39.609</td>\n",
       "      <td>SUSPENDED</td>\n",
       "    </tr>\n",
       "    <tr>\n",
       "      <th>4</th>\n",
       "      <td>16609</td>\n",
       "      <td>2023-07-31 05:24:40.071</td>\n",
       "      <td>SUSPENDED</td>\n",
       "    </tr>\n",
       "  </tbody>\n",
       "</table>\n",
       "</div>"
      ],
      "text/plain": [
       "   gaiia_id                     date          status\n",
       "0     15332  2023-07-31 05:24:36.783       SUSPENDED\n",
       "1     17155  2023-07-31 05:24:37.897  SUSPENDED-LEAD\n",
       "2     16629  2023-07-31 05:24:38.540  SUSPENDED-LEAD\n",
       "3     16987  2023-07-31 05:24:39.609       SUSPENDED\n",
       "4     16609  2023-07-31 05:24:40.071       SUSPENDED"
      ]
     },
     "metadata": {},
     "output_type": "display_data"
    },
    {
     "name": "stdout",
     "output_type": "stream",
     "text": [
      "gaiia_id    0\n",
      "date        0\n",
      "status      0\n",
      "dtype: int64\n"
     ]
    },
    {
     "data": {
      "text/plain": [
       "None"
      ]
     },
     "metadata": {},
     "output_type": "display_data"
    },
    {
     "name": "stdout",
     "output_type": "stream",
     "text": [
      "796867\n"
     ]
    },
    {
     "data": {
      "text/plain": [
       "None"
      ]
     },
     "metadata": {},
     "output_type": "display_data"
    },
    {
     "name": "stdout",
     "output_type": "stream",
     "text": [
      "<class 'pandas.core.frame.DataFrame'>\n",
      "RangeIndex: 796867 entries, 0 to 796866\n",
      "Data columns (total 3 columns):\n",
      " #   Column    Non-Null Count   Dtype \n",
      "---  ------    --------------   ----- \n",
      " 0   gaiia_id  796867 non-null  int64 \n",
      " 1   date      796867 non-null  object\n",
      " 2   status    796867 non-null  object\n",
      "dtypes: int64(1), object(2)\n",
      "memory usage: 18.2+ MB\n"
     ]
    },
    {
     "data": {
      "text/plain": [
       "None"
      ]
     },
     "metadata": {},
     "output_type": "display_data"
    },
    {
     "data": {
      "text/plain": [
       "status\n",
       "ACTIVE            397111\n",
       "SUSPENDED         374609\n",
       "TRIAL               8608\n",
       "SUSPENDED-LEAD      5884\n",
       "INACTIVE            4458\n",
       "INACTIVE-LEAD       4030\n",
       "PENDING             2166\n",
       "LEAD                   1\n",
       "dtype: int64"
      ]
     },
     "metadata": {},
     "output_type": "display_data"
    }
   ],
   "source": [
    "display(\n",
    "    df_client_journey.head(5)\n",
    ")\n",
    "\n",
    "display(\n",
    "    print(df_client_journey.isna().sum())\n",
    "    )\n",
    "\n",
    "display(\n",
    "    print(len(df_client_journey))\n",
    "    )\n",
    "\n",
    "display(\n",
    "    df_client_journey.info()\n",
    ")\n",
    "\n",
    "display(\n",
    "    df_client_journey.value_counts(\"status\")\n",
    ")\n"
   ]
  },
  {
   "cell_type": "code",
   "execution_count": 23,
   "metadata": {},
   "outputs": [
    {
     "data": {
      "text/html": [
       "<div>\n",
       "<style scoped>\n",
       "    .dataframe tbody tr th:only-of-type {\n",
       "        vertical-align: middle;\n",
       "    }\n",
       "\n",
       "    .dataframe tbody tr th {\n",
       "        vertical-align: top;\n",
       "    }\n",
       "\n",
       "    .dataframe thead th {\n",
       "        text-align: right;\n",
       "    }\n",
       "</style>\n",
       "<table border=\"1\" class=\"dataframe\">\n",
       "  <thead>\n",
       "    <tr style=\"text-align: right;\">\n",
       "      <th></th>\n",
       "      <th>id</th>\n",
       "      <th>created_at</th>\n",
       "      <th>client_id</th>\n",
       "      <th>payment_gateway</th>\n",
       "    </tr>\n",
       "  </thead>\n",
       "  <tbody>\n",
       "    <tr>\n",
       "      <th>0</th>\n",
       "      <td>14183</td>\n",
       "      <td>2024-05-01 00:04:24.000</td>\n",
       "      <td>5688</td>\n",
       "      <td>NEQUI</td>\n",
       "    </tr>\n",
       "    <tr>\n",
       "      <th>1</th>\n",
       "      <td>14190</td>\n",
       "      <td>2024-05-01 00:07:08.000</td>\n",
       "      <td>8628</td>\n",
       "      <td>NEQUI</td>\n",
       "    </tr>\n",
       "    <tr>\n",
       "      <th>2</th>\n",
       "      <td>14180</td>\n",
       "      <td>2024-05-01 00:13:57.000</td>\n",
       "      <td>11289</td>\n",
       "      <td>SUPER_GIROS</td>\n",
       "    </tr>\n",
       "    <tr>\n",
       "      <th>3</th>\n",
       "      <td>14184</td>\n",
       "      <td>2024-05-01 00:24:50.000</td>\n",
       "      <td>6757</td>\n",
       "      <td>SUPER_GIROS</td>\n",
       "    </tr>\n",
       "    <tr>\n",
       "      <th>4</th>\n",
       "      <td>14185</td>\n",
       "      <td>2024-05-01 00:26:05.000</td>\n",
       "      <td>7607</td>\n",
       "      <td>SUPER_GIROS</td>\n",
       "    </tr>\n",
       "  </tbody>\n",
       "</table>\n",
       "</div>"
      ],
      "text/plain": [
       "      id               created_at  client_id payment_gateway\n",
       "0  14183  2024-05-01 00:04:24.000       5688           NEQUI\n",
       "1  14190  2024-05-01 00:07:08.000       8628           NEQUI\n",
       "2  14180  2024-05-01 00:13:57.000      11289     SUPER_GIROS\n",
       "3  14184  2024-05-01 00:24:50.000       6757     SUPER_GIROS\n",
       "4  14185  2024-05-01 00:26:05.000       7607     SUPER_GIROS"
      ]
     },
     "metadata": {},
     "output_type": "display_data"
    },
    {
     "name": "stdout",
     "output_type": "stream",
     "text": [
      "id                 0\n",
      "created_at         0\n",
      "client_id          0\n",
      "payment_gateway    0\n",
      "dtype: int64\n"
     ]
    },
    {
     "data": {
      "text/plain": [
       "None"
      ]
     },
     "metadata": {},
     "output_type": "display_data"
    },
    {
     "name": "stdout",
     "output_type": "stream",
     "text": [
      "424464\n"
     ]
    },
    {
     "data": {
      "text/plain": [
       "None"
      ]
     },
     "metadata": {},
     "output_type": "display_data"
    },
    {
     "name": "stdout",
     "output_type": "stream",
     "text": [
      "<class 'pandas.core.frame.DataFrame'>\n",
      "RangeIndex: 424464 entries, 0 to 424463\n",
      "Data columns (total 4 columns):\n",
      " #   Column           Non-Null Count   Dtype \n",
      "---  ------           --------------   ----- \n",
      " 0   id               424464 non-null  int64 \n",
      " 1   created_at       424464 non-null  object\n",
      " 2   client_id        424464 non-null  int64 \n",
      " 3   payment_gateway  424464 non-null  object\n",
      "dtypes: int64(2), object(2)\n",
      "memory usage: 13.0+ MB\n"
     ]
    },
    {
     "data": {
      "text/plain": [
       "None"
      ]
     },
     "metadata": {},
     "output_type": "display_data"
    },
    {
     "data": {
      "text/plain": [
       "payment_gateway\n",
       "NEQUI                    397146\n",
       "SUPER_GIROS               22355\n",
       "MERCADO_PAGO_TRANSFER      2726\n",
       "GIFT                       1949\n",
       "PAYVALIDA_TRANSFER          288\n",
       "dtype: int64"
      ]
     },
     "metadata": {},
     "output_type": "display_data"
    }
   ],
   "source": [
    "display(\n",
    "    df_invoices.head(5)\n",
    ")\n",
    "\n",
    "display(\n",
    "    print(df_invoices.isna().sum())\n",
    "    )\n",
    "\n",
    "display(\n",
    "    print(len(df_invoices))\n",
    "    )\n",
    "\n",
    "display(\n",
    "    df_invoices.info()\n",
    ")\n",
    "\n",
    "display(\n",
    "    df_invoices.value_counts(\"payment_gateway\")\n",
    ")\n"
   ]
  },
  {
   "cell_type": "markdown",
   "metadata": {},
   "source": [
    "Step 2. Cleaning Data"
   ]
  },
  {
   "cell_type": "code",
   "execution_count": 24,
   "metadata": {},
   "outputs": [
    {
     "name": "stdout",
     "output_type": "stream",
     "text": [
      "2429.55\n",
      "Index(['id', 'gaiia_id', 'status', 'gaiia_status', 'City', 'name',\n",
      "       'created_at'],\n",
      "      dtype='object')\n"
     ]
    }
   ],
   "source": [
    "#Dropping missing values\n",
    "threshold = len(df_clients) * 0.05\n",
    "print(threshold)\n",
    "\n",
    "cols_to_drop = df_clients.columns[df_clients.isna().sum() <= threshold]\n",
    "print(cols_to_drop)\n",
    "\n",
    "df_clients.dropna(subset=cols_to_drop, inplace=True)"
   ]
  },
  {
   "cell_type": "code",
   "execution_count": 29,
   "metadata": {},
   "outputs": [
    {
     "name": "stdout",
     "output_type": "stream",
     "text": [
      "id              0\n",
      "gaiia_id        0\n",
      "status          0\n",
      "gaiia_status    0\n",
      "City            0\n",
      "name            0\n",
      "created_at      0\n",
      "dtype: int64\n"
     ]
    },
    {
     "data": {
      "text/plain": [
       "None"
      ]
     },
     "metadata": {},
     "output_type": "display_data"
    },
    {
     "name": "stdout",
     "output_type": "stream",
     "text": [
      "48590\n"
     ]
    },
    {
     "data": {
      "text/plain": [
       "None"
      ]
     },
     "metadata": {},
     "output_type": "display_data"
    }
   ],
   "source": [
    "display(\n",
    "    print(df_clients.isna().sum())\n",
    "    )\n",
    "\n",
    "display(\n",
    "    print(len(df_clients))\n",
    "    )"
   ]
  },
  {
   "cell_type": "code",
   "execution_count": 30,
   "metadata": {},
   "outputs": [],
   "source": [
    "#Tranforming date columns into correct Dtype\n",
    "\n",
    "df_clients[\"created_at\"] = pd.to_datetime(df_clients[\"created_at\"])\n",
    "\n",
    "df_client_journey[\"date\"] = pd.to_datetime(df_client_journey[\"date\"])\n",
    "\n",
    "df_invoices[\"created_at\"] = pd.to_datetime(df_invoices[\"created_at\"])"
   ]
  },
  {
   "cell_type": "code",
   "execution_count": 31,
   "metadata": {},
   "outputs": [
    {
     "name": "stdout",
     "output_type": "stream",
     "text": [
      "<class 'pandas.core.frame.DataFrame'>\n",
      "Int64Index: 48590 entries, 0 to 48590\n",
      "Data columns (total 7 columns):\n",
      " #   Column        Non-Null Count  Dtype         \n",
      "---  ------        --------------  -----         \n",
      " 0   id            48590 non-null  int64         \n",
      " 1   gaiia_id      48590 non-null  float64       \n",
      " 2   status        48590 non-null  object        \n",
      " 3   gaiia_status  48590 non-null  object        \n",
      " 4   City          48590 non-null  object        \n",
      " 5   name          48590 non-null  object        \n",
      " 6   created_at    48590 non-null  datetime64[ns]\n",
      "dtypes: datetime64[ns](1), float64(1), int64(1), object(4)\n",
      "memory usage: 3.0+ MB\n"
     ]
    },
    {
     "data": {
      "text/plain": [
       "None"
      ]
     },
     "metadata": {},
     "output_type": "display_data"
    },
    {
     "name": "stdout",
     "output_type": "stream",
     "text": [
      "<class 'pandas.core.frame.DataFrame'>\n",
      "RangeIndex: 796867 entries, 0 to 796866\n",
      "Data columns (total 3 columns):\n",
      " #   Column    Non-Null Count   Dtype         \n",
      "---  ------    --------------   -----         \n",
      " 0   gaiia_id  796867 non-null  int64         \n",
      " 1   date      796867 non-null  datetime64[ns]\n",
      " 2   status    796867 non-null  object        \n",
      "dtypes: datetime64[ns](1), int64(1), object(1)\n",
      "memory usage: 18.2+ MB\n"
     ]
    },
    {
     "data": {
      "text/plain": [
       "None"
      ]
     },
     "metadata": {},
     "output_type": "display_data"
    },
    {
     "name": "stdout",
     "output_type": "stream",
     "text": [
      "<class 'pandas.core.frame.DataFrame'>\n",
      "RangeIndex: 424464 entries, 0 to 424463\n",
      "Data columns (total 4 columns):\n",
      " #   Column           Non-Null Count   Dtype         \n",
      "---  ------           --------------   -----         \n",
      " 0   id               424464 non-null  int64         \n",
      " 1   created_at       424464 non-null  datetime64[ns]\n",
      " 2   client_id        424464 non-null  int64         \n",
      " 3   payment_gateway  424464 non-null  object        \n",
      "dtypes: datetime64[ns](1), int64(2), object(1)\n",
      "memory usage: 13.0+ MB\n"
     ]
    },
    {
     "data": {
      "text/plain": [
       "None"
      ]
     },
     "metadata": {},
     "output_type": "display_data"
    }
   ],
   "source": [
    "display(\n",
    "    df_clients.info()\n",
    ")\n",
    "\n",
    "display(\n",
    "    df_client_journey.info()\n",
    ")\n",
    "\n",
    "display(\n",
    "    df_invoices.info()\n",
    ")"
   ]
  },
  {
   "cell_type": "markdown",
   "metadata": {},
   "source": [
    "Step 3. Counting categorical data"
   ]
  },
  {
   "cell_type": "code",
   "execution_count": 19,
   "metadata": {},
   "outputs": [
    {
     "data": {
      "image/png": "[encoded data removed]",
      "text/plain": [
       "<Figure size 640x480 with 1 Axes>"
      ]
     },
     "metadata": {},
     "output_type": "display_data"
    }
   ],
   "source": [
    "# Import the required visualization libraries\n",
    "import seaborn as sns\n",
    "import matplotlib.pyplot as plt\n",
    "\n",
    "# Create a histogram of 2021 unemployment; show a full percent in each bin\n",
    "sns.histplot(data=df_invoices, y=\"payment_gateway\", binwidth=1)\n",
    "plt.show()"
   ]
  },
  {
   "cell_type": "code",
   "execution_count": null,
   "metadata": {},
   "outputs": [],
   "source": [
    "# Create a boxplot of 2021 unemployment rates, broken down by continent\n",
    "sns.boxplot(data=df_invoices, x=\"2021\", y=\"continent\")\n",
    "plt.show()"
   ]
  },
  {
   "cell_type": "markdown",
   "metadata": {},
   "source": [
    "Step 4. Time-data"
   ]
  },
  {
   "cell_type": "code",
   "execution_count": null,
   "metadata": {},
   "outputs": [],
   "source": [
    "df_clients[\"year\"] = df_clients[\"created_at\"].dt.year\n",
    "df_clients[\"month\"] = df_clients[\"created_at\"].dt.month\n",
    "df_clients[\"weekday\"] = df_clients[\"created_at\"].dt.weekday"
   ]
  }
 ],
 "metadata": {
  "kernelspec": {
   "display_name": "Python 3",
   "language": "python",
   "name": "python3"
  },
  "language_info": {
   "codemirror_mode": {
    "name": "ipython",
    "version": 3
   },
   "file_extension": ".py",
   "mimetype": "text/x-python",
   "name": "python",
   "nbconvert_exporter": "python",
   "pygments_lexer": "ipython3",
   "version": "3.10.0"
  }
 },
 "nbformat": 4,
 "nbformat_minor": 2
}
